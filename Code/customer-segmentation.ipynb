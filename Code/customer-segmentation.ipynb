{
 "cells": [
  {
   "cell_type": "markdown",
   "id": "b5d0469f",
   "metadata": {},
   "source": [
    "# <div style=\"padding:15px; background-color:#26344e; font-family:JetBrains Mono; font-weight:bold; color:#f2f2f0; font-size:100%; letter-spacing: 2px; text-align:center; border-radius: 10px 10px\">Customer Segmentation</div>"
   ]
  },
  {
   "cell_type": "code",
   "execution_count": 1,
   "id": "initial_id",
   "metadata": {
    "ExecuteTime": {
     "start_time": "2023-11-21T00:30:30.400228Z"
    },
    "is_executing": true,
    "tags": []
   },
   "outputs": [],
   "source": [
    "import helperfunction as hf\n",
    "import matplotlib.pyplot as plt\n",
    "import seaborn as sns\n",
    "import plotly.graph_objs as go\n",
    "from plotly.offline import init_notebook_mode,iplot\n",
    "import pandas as pd"
   ]
  },
  {
   "cell_type": "code",
   "execution_count": 2,
   "id": "445777ed9d891b",
   "metadata": {
    "ExecuteTime": {
     "end_time": "2023-11-19T22:01:06.915543Z",
     "start_time": "2023-11-19T22:01:04.086082Z"
    },
    "tags": []
   },
   "outputs": [
    {
     "name": "stdout",
     "output_type": "stream",
     "text": [
      "Current work Directory /Users/shubhamjadhav/Library/CloudStorage/GoogleDrive-shubhamjadhav@gwmail.gwu.edu/My Drive/MS/Coursework/3. Fall 2023/DM/Term Project/Customer-Segmentation/Code\n",
      "File Path is  /Users/shubhamjadhav/Library/CloudStorage/GoogleDrive-shubhamjadhav@gwmail.gwu.edu/My Drive/MS/Coursework/3. Fall 2023/DM/Term Project/Customer-Segmentation/Code/invoice_data\n"
     ]
    },
    {
     "data": {
      "text/html": [
       "<div>\n",
       "<style scoped>\n",
       "    .dataframe tbody tr th:only-of-type {\n",
       "        vertical-align: middle;\n",
       "    }\n",
       "\n",
       "    .dataframe tbody tr th {\n",
       "        vertical-align: top;\n",
       "    }\n",
       "\n",
       "    .dataframe thead th {\n",
       "        text-align: right;\n",
       "    }\n",
       "</style>\n",
       "<table border=\"1\" class=\"dataframe\">\n",
       "  <thead>\n",
       "    <tr style=\"text-align: right;\">\n",
       "      <th></th>\n",
       "      <th>InvoiceNo</th>\n",
       "      <th>StockCode</th>\n",
       "      <th>Description</th>\n",
       "      <th>Quantity</th>\n",
       "      <th>InvoiceDate</th>\n",
       "      <th>UnitPrice</th>\n",
       "      <th>CustomerID</th>\n",
       "      <th>Country</th>\n",
       "    </tr>\n",
       "  </thead>\n",
       "  <tbody>\n",
       "    <tr>\n",
       "      <th>0</th>\n",
       "      <td>536365</td>\n",
       "      <td>85123A</td>\n",
       "      <td>WHITE HANGING HEART T-LIGHT HOLDER</td>\n",
       "      <td>6</td>\n",
       "      <td>2010-12-01 08:26:00</td>\n",
       "      <td>2.55</td>\n",
       "      <td>17850.0</td>\n",
       "      <td>United Kingdom</td>\n",
       "    </tr>\n",
       "    <tr>\n",
       "      <th>1</th>\n",
       "      <td>536365</td>\n",
       "      <td>71053</td>\n",
       "      <td>WHITE METAL LANTERN</td>\n",
       "      <td>6</td>\n",
       "      <td>2010-12-01 08:26:00</td>\n",
       "      <td>3.39</td>\n",
       "      <td>17850.0</td>\n",
       "      <td>United Kingdom</td>\n",
       "    </tr>\n",
       "    <tr>\n",
       "      <th>2</th>\n",
       "      <td>536365</td>\n",
       "      <td>84406B</td>\n",
       "      <td>CREAM CUPID HEARTS COAT HANGER</td>\n",
       "      <td>8</td>\n",
       "      <td>2010-12-01 08:26:00</td>\n",
       "      <td>2.75</td>\n",
       "      <td>17850.0</td>\n",
       "      <td>United Kingdom</td>\n",
       "    </tr>\n",
       "    <tr>\n",
       "      <th>3</th>\n",
       "      <td>536365</td>\n",
       "      <td>84029G</td>\n",
       "      <td>KNITTED UNION FLAG HOT WATER BOTTLE</td>\n",
       "      <td>6</td>\n",
       "      <td>2010-12-01 08:26:00</td>\n",
       "      <td>3.39</td>\n",
       "      <td>17850.0</td>\n",
       "      <td>United Kingdom</td>\n",
       "    </tr>\n",
       "    <tr>\n",
       "      <th>4</th>\n",
       "      <td>536365</td>\n",
       "      <td>84029E</td>\n",
       "      <td>RED WOOLLY HOTTIE WHITE HEART.</td>\n",
       "      <td>6</td>\n",
       "      <td>2010-12-01 08:26:00</td>\n",
       "      <td>3.39</td>\n",
       "      <td>17850.0</td>\n",
       "      <td>United Kingdom</td>\n",
       "    </tr>\n",
       "  </tbody>\n",
       "</table>\n",
       "</div>"
      ],
      "text/plain": [
       "  InvoiceNo StockCode                          Description  Quantity  \\\n",
       "0    536365    85123A   WHITE HANGING HEART T-LIGHT HOLDER         6   \n",
       "1    536365     71053                  WHITE METAL LANTERN         6   \n",
       "2    536365    84406B       CREAM CUPID HEARTS COAT HANGER         8   \n",
       "3    536365    84029G  KNITTED UNION FLAG HOT WATER BOTTLE         6   \n",
       "4    536365    84029E       RED WOOLLY HOTTIE WHITE HEART.         6   \n",
       "\n",
       "          InvoiceDate  UnitPrice  CustomerID         Country  \n",
       "0 2010-12-01 08:26:00       2.55     17850.0  United Kingdom  \n",
       "1 2010-12-01 08:26:00       3.39     17850.0  United Kingdom  \n",
       "2 2010-12-01 08:26:00       2.75     17850.0  United Kingdom  \n",
       "3 2010-12-01 08:26:00       3.39     17850.0  United Kingdom  \n",
       "4 2010-12-01 08:26:00       3.39     17850.0  United Kingdom  "
      ]
     },
     "execution_count": 2,
     "metadata": {},
     "output_type": "execute_result"
    }
   ],
   "source": [
    "invoice_df = hf.create_df('invoice_data')\n",
    "invoice_df.head()"
   ]
  },
  {
   "cell_type": "code",
   "execution_count": 3,
   "id": "179c756b",
   "metadata": {
    "ExecuteTime": {
     "end_time": "2023-11-19T22:01:11.577668Z",
     "start_time": "2023-11-19T22:01:11.487462Z"
    },
    "tags": []
   },
   "outputs": [
    {
     "name": "stdout",
     "output_type": "stream",
     "text": [
      "Total observations (records): 541909\n",
      "\n",
      "Total features: 8\n",
      "\n",
      "Number of Invoices: 25900\n",
      "\n",
      "Number of Products: 4070\n",
      "\n",
      "Number of Customers: 4372\n",
      "\n",
      "Number of Countries: 38\n",
      "\n",
      "Minimum Date: 2010-12-01 08:26:00 - Maximum Date: 2011-12-09 12:50:00\n"
     ]
    }
   ],
   "source": [
    "print(f\"Total observations (records): {invoice_df.shape[0]}\")\n",
    "print(f\"\\nTotal features: {invoice_df.shape[1]}\")\n",
    "print(f\"\\nNumber of Invoices: {invoice_df['InvoiceNo'].nunique()}\")\n",
    "print(f\"\\nNumber of Products: {invoice_df['StockCode'].nunique()}\")\n",
    "print(f\"\\nNumber of Customers: {invoice_df['CustomerID'].nunique()}\")\n",
    "print(f\"\\nNumber of Countries: {invoice_df['Country'].nunique()}\")\n",
    "print(f\"\\nMinimum Date: {invoice_df['InvoiceDate'].min()} - Maximum Date: {invoice_df['InvoiceDate'].max()}\")"
   ]
  },
  {
   "cell_type": "code",
   "execution_count": 4,
   "id": "64752fc61d54258c",
   "metadata": {
    "ExecuteTime": {
     "end_time": "2023-11-19T22:02:07.867463Z",
     "start_time": "2023-11-19T22:02:07.474469Z"
    },
    "tags": []
   },
   "outputs": [
    {
     "data": {
      "text/plain": [
       "InvoiceNo           0\n",
       "StockCode           0\n",
       "Description      1454\n",
       "Quantity            0\n",
       "InvoiceDate         0\n",
       "UnitPrice           0\n",
       "CustomerID     135080\n",
       "Country             0\n",
       "dtype: int64"
      ]
     },
     "execution_count": 4,
     "metadata": {},
     "output_type": "execute_result"
    }
   ],
   "source": [
    "invoice_df.isnull().sum()"
   ]
  },
  {
   "cell_type": "code",
   "execution_count": 5,
   "id": "41a927a7",
   "metadata": {
    "tags": []
   },
   "outputs": [
    {
     "data": {
      "text/html": [
       "<div>\n",
       "<style scoped>\n",
       "    .dataframe tbody tr th:only-of-type {\n",
       "        vertical-align: middle;\n",
       "    }\n",
       "\n",
       "    .dataframe tbody tr th {\n",
       "        vertical-align: top;\n",
       "    }\n",
       "\n",
       "    .dataframe thead th {\n",
       "        text-align: right;\n",
       "    }\n",
       "</style>\n",
       "<table border=\"1\" class=\"dataframe\">\n",
       "  <thead>\n",
       "    <tr style=\"text-align: right;\">\n",
       "      <th></th>\n",
       "      <th>Quantity</th>\n",
       "      <th>UnitPrice</th>\n",
       "      <th>CustomerID</th>\n",
       "    </tr>\n",
       "  </thead>\n",
       "  <tbody>\n",
       "    <tr>\n",
       "      <th>count</th>\n",
       "      <td>541909.000000</td>\n",
       "      <td>541909.000000</td>\n",
       "      <td>406829.000000</td>\n",
       "    </tr>\n",
       "    <tr>\n",
       "      <th>mean</th>\n",
       "      <td>9.552250</td>\n",
       "      <td>4.611114</td>\n",
       "      <td>15287.690570</td>\n",
       "    </tr>\n",
       "    <tr>\n",
       "      <th>std</th>\n",
       "      <td>218.081158</td>\n",
       "      <td>96.759853</td>\n",
       "      <td>1713.600303</td>\n",
       "    </tr>\n",
       "    <tr>\n",
       "      <th>min</th>\n",
       "      <td>-80995.000000</td>\n",
       "      <td>-11062.060000</td>\n",
       "      <td>12346.000000</td>\n",
       "    </tr>\n",
       "    <tr>\n",
       "      <th>25%</th>\n",
       "      <td>1.000000</td>\n",
       "      <td>1.250000</td>\n",
       "      <td>13953.000000</td>\n",
       "    </tr>\n",
       "    <tr>\n",
       "      <th>50%</th>\n",
       "      <td>3.000000</td>\n",
       "      <td>2.080000</td>\n",
       "      <td>15152.000000</td>\n",
       "    </tr>\n",
       "    <tr>\n",
       "      <th>75%</th>\n",
       "      <td>10.000000</td>\n",
       "      <td>4.130000</td>\n",
       "      <td>16791.000000</td>\n",
       "    </tr>\n",
       "    <tr>\n",
       "      <th>max</th>\n",
       "      <td>80995.000000</td>\n",
       "      <td>38970.000000</td>\n",
       "      <td>18287.000000</td>\n",
       "    </tr>\n",
       "  </tbody>\n",
       "</table>\n",
       "</div>"
      ],
      "text/plain": [
       "            Quantity      UnitPrice     CustomerID\n",
       "count  541909.000000  541909.000000  406829.000000\n",
       "mean        9.552250       4.611114   15287.690570\n",
       "std       218.081158      96.759853    1713.600303\n",
       "min    -80995.000000  -11062.060000   12346.000000\n",
       "25%         1.000000       1.250000   13953.000000\n",
       "50%         3.000000       2.080000   15152.000000\n",
       "75%        10.000000       4.130000   16791.000000\n",
       "max     80995.000000   38970.000000   18287.000000"
      ]
     },
     "execution_count": 5,
     "metadata": {},
     "output_type": "execute_result"
    }
   ],
   "source": [
    "invoice_df.describe()"
   ]
  },
  {
   "cell_type": "code",
   "execution_count": 6,
   "id": "4e99ff86",
   "metadata": {
    "tags": []
   },
   "outputs": [
    {
     "name": "stdout",
     "output_type": "stream",
     "text": [
      "Number of Observations with negative Quantity: 10624\n"
     ]
    }
   ],
   "source": [
    "print(f\"Number of Observations with negative Quantity: {invoice_df[(invoice_df.Quantity<0)].shape[0]}\")"
   ]
  },
  {
   "cell_type": "code",
   "execution_count": 7,
   "id": "f2792798",
   "metadata": {
    "tags": []
   },
   "outputs": [
    {
     "name": "stdout",
     "output_type": "stream",
     "text": [
      "\n",
      "Min Basket Price: -168469.6\n",
      "Max Basket Price: 168469.6\n"
     ]
    }
   ],
   "source": [
    "invoice_w_price_df = invoice_df.copy(deep=True)\n",
    "invoice_w_price_df['price'] = invoice_df['Quantity']*invoice_df['UnitPrice']\n",
    "temp = invoice_w_price_df[['InvoiceNo','price']].groupby(['InvoiceNo']).sum().reset_index()\n",
    "print(f\"\\nMin Basket Price: {temp.price.min()}\")\n",
    "print(f\"Max Basket Price: {temp.price.max()}\")"
   ]
  },
  {
   "cell_type": "code",
   "execution_count": 8,
   "id": "d4e8981b",
   "metadata": {
    "tags": []
   },
   "outputs": [
    {
     "name": "stdout",
     "output_type": "stream",
     "text": [
      "      CustomerID      price\n",
      "1703     14646.0  279489.02\n",
      "4233     18102.0  256438.49\n",
      "3758     17450.0  187482.17\n",
      "1895     14911.0  132572.62\n",
      "55       12415.0  123725.45\n",
      "\n",
      "Min Purchase by customer: -4287.63\n",
      "Max Purchase customer: 279489.02\n"
     ]
    }
   ],
   "source": [
    "temp = invoice_w_price_df[['CustomerID','price']].groupby(['CustomerID']).sum().reset_index()\n",
    "print(temp.sort_values(by='price', ascending=0).head())\n",
    "print(f\"\\nMin Purchase by customer: {temp.price.min()}\")\n",
    "print(f\"Max Purchase customer: {temp.price.max()}\")"
   ]
  },
  {
   "cell_type": "code",
   "execution_count": 9,
   "id": "6efbac4e",
   "metadata": {
    "tags": []
   },
   "outputs": [
    {
     "name": "stdout",
     "output_type": "stream",
     "text": [
      "\n",
      "Avg customer span: 133 days 17:25:29.204025618\n"
     ]
    }
   ],
   "source": [
    "temp = invoice_df.groupby('CustomerID')['InvoiceDate'].agg(['first', 'last'])\n",
    "temp['Date_Difference'] = temp['last'] - temp['first']\n",
    "print(f\"\\nAvg customer span: {temp['Date_Difference'].mean()}\")"
   ]
  },
  {
   "cell_type": "code",
   "execution_count": 10,
   "id": "e9423424",
   "metadata": {
    "tags": []
   },
   "outputs": [
    {
     "name": "stdout",
     "output_type": "stream",
     "text": [
      "\n",
      "Min Quantity by InvoiceNo: -80995\n",
      "Max Quantity by InvoiceNo: 80995\n"
     ]
    }
   ],
   "source": [
    "temp = invoice_df[['InvoiceNo','Quantity']].groupby(['InvoiceNo']).sum().reset_index()\n",
    "print(f\"\\nMin Quantity by InvoiceNo: {temp.Quantity.min()}\")\n",
    "print(f\"Max Quantity by InvoiceNo: {temp.Quantity.max()}\")"
   ]
  },
  {
   "cell_type": "markdown",
   "id": "6ac7651c",
   "metadata": {
    "tags": []
   },
   "source": [
    "# PreProcessing"
   ]
  },
  {
   "cell_type": "code",
   "execution_count": 11,
   "id": "675b40dc",
   "metadata": {},
   "outputs": [
    {
     "data": {
      "text/plain": [
       "(536641, 8)"
      ]
     },
     "execution_count": 11,
     "metadata": {},
     "output_type": "execute_result"
    }
   ],
   "source": [
    "invoice_df.drop_duplicates(inplace=True, keep='first')\n",
    "invoice_df.shape"
   ]
  },
  {
   "cell_type": "markdown",
   "id": "9277acd8-bb8c-4252-84ae-33cc42e17478",
   "metadata": {
    "tags": []
   },
   "source": [
    "### Handling Missing Values"
   ]
  },
  {
   "cell_type": "code",
   "execution_count": 12,
   "id": "63126ccc",
   "metadata": {
    "tags": []
   },
   "outputs": [
    {
     "name": "stdout",
     "output_type": "stream",
     "text": [
      "Number of observations with NULL CustomerID: 135037\n"
     ]
    }
   ],
   "source": [
    "print(f\"Number of observations with NULL CustomerID: {invoice_df[invoice_df.CustomerID.isnull()].shape[0]}\")"
   ]
  },
  {
   "cell_type": "code",
   "execution_count": 13,
   "id": "b01394b3-535f-4a49-951f-e70b706d4508",
   "metadata": {
    "tags": []
   },
   "outputs": [
    {
     "data": {
      "text/html": [
       "<div>\n",
       "<style scoped>\n",
       "    .dataframe tbody tr th:only-of-type {\n",
       "        vertical-align: middle;\n",
       "    }\n",
       "\n",
       "    .dataframe tbody tr th {\n",
       "        vertical-align: top;\n",
       "    }\n",
       "\n",
       "    .dataframe thead th {\n",
       "        text-align: right;\n",
       "    }\n",
       "</style>\n",
       "<table border=\"1\" class=\"dataframe\">\n",
       "  <thead>\n",
       "    <tr style=\"text-align: right;\">\n",
       "      <th></th>\n",
       "      <th>InvoiceNo</th>\n",
       "      <th>StockCode</th>\n",
       "      <th>Description</th>\n",
       "      <th>Quantity</th>\n",
       "      <th>InvoiceDate</th>\n",
       "      <th>UnitPrice</th>\n",
       "      <th>CustomerID</th>\n",
       "      <th>Country</th>\n",
       "    </tr>\n",
       "  </thead>\n",
       "  <tbody>\n",
       "    <tr>\n",
       "      <th>622</th>\n",
       "      <td>536414</td>\n",
       "      <td>22139</td>\n",
       "      <td>NaN</td>\n",
       "      <td>56</td>\n",
       "      <td>2010-12-01 11:52:00</td>\n",
       "      <td>0.00</td>\n",
       "      <td>NaN</td>\n",
       "      <td>United Kingdom</td>\n",
       "    </tr>\n",
       "    <tr>\n",
       "      <th>1443</th>\n",
       "      <td>536544</td>\n",
       "      <td>21773</td>\n",
       "      <td>DECORATIVE ROSE BATHROOM BOTTLE</td>\n",
       "      <td>1</td>\n",
       "      <td>2010-12-01 14:32:00</td>\n",
       "      <td>2.51</td>\n",
       "      <td>NaN</td>\n",
       "      <td>United Kingdom</td>\n",
       "    </tr>\n",
       "    <tr>\n",
       "      <th>1444</th>\n",
       "      <td>536544</td>\n",
       "      <td>21774</td>\n",
       "      <td>DECORATIVE CATS BATHROOM BOTTLE</td>\n",
       "      <td>2</td>\n",
       "      <td>2010-12-01 14:32:00</td>\n",
       "      <td>2.51</td>\n",
       "      <td>NaN</td>\n",
       "      <td>United Kingdom</td>\n",
       "    </tr>\n",
       "    <tr>\n",
       "      <th>1445</th>\n",
       "      <td>536544</td>\n",
       "      <td>21786</td>\n",
       "      <td>POLKADOT RAIN HAT</td>\n",
       "      <td>4</td>\n",
       "      <td>2010-12-01 14:32:00</td>\n",
       "      <td>0.85</td>\n",
       "      <td>NaN</td>\n",
       "      <td>United Kingdom</td>\n",
       "    </tr>\n",
       "    <tr>\n",
       "      <th>1446</th>\n",
       "      <td>536544</td>\n",
       "      <td>21787</td>\n",
       "      <td>RAIN PONCHO RETROSPOT</td>\n",
       "      <td>2</td>\n",
       "      <td>2010-12-01 14:32:00</td>\n",
       "      <td>1.66</td>\n",
       "      <td>NaN</td>\n",
       "      <td>United Kingdom</td>\n",
       "    </tr>\n",
       "  </tbody>\n",
       "</table>\n",
       "</div>"
      ],
      "text/plain": [
       "     InvoiceNo StockCode                      Description  Quantity  \\\n",
       "622     536414     22139                              NaN        56   \n",
       "1443    536544     21773  DECORATIVE ROSE BATHROOM BOTTLE         1   \n",
       "1444    536544     21774  DECORATIVE CATS BATHROOM BOTTLE         2   \n",
       "1445    536544     21786               POLKADOT RAIN HAT          4   \n",
       "1446    536544     21787            RAIN PONCHO RETROSPOT         2   \n",
       "\n",
       "             InvoiceDate  UnitPrice  CustomerID         Country  \n",
       "622  2010-12-01 11:52:00       0.00         NaN  United Kingdom  \n",
       "1443 2010-12-01 14:32:00       2.51         NaN  United Kingdom  \n",
       "1444 2010-12-01 14:32:00       2.51         NaN  United Kingdom  \n",
       "1445 2010-12-01 14:32:00       0.85         NaN  United Kingdom  \n",
       "1446 2010-12-01 14:32:00       1.66         NaN  United Kingdom  "
      ]
     },
     "execution_count": 13,
     "metadata": {},
     "output_type": "execute_result"
    }
   ],
   "source": [
    "invoice_df[invoice_df.CustomerID.isnull()].head()"
   ]
  },
  {
   "cell_type": "code",
   "execution_count": 14,
   "id": "e3c185d2",
   "metadata": {
    "tags": []
   },
   "outputs": [
    {
     "name": "stdout",
     "output_type": "stream",
     "text": [
      "Number of Records after dropping Null CustomerID (401604, 8)\n"
     ]
    }
   ],
   "source": [
    "invoice_df.dropna(subset=['CustomerID'], inplace=True)\n",
    "print(\"Number of Records after dropping Null CustomerID\", invoice_df.shape)"
   ]
  },
  {
   "cell_type": "code",
   "execution_count": 15,
   "id": "8effa0f6-dbad-4814-81c6-8880f6a1a75a",
   "metadata": {
    "tags": []
   },
   "outputs": [
    {
     "data": {
      "text/plain": [
       "InvoiceNo      0\n",
       "StockCode      0\n",
       "Description    0\n",
       "Quantity       0\n",
       "InvoiceDate    0\n",
       "UnitPrice      0\n",
       "CustomerID     0\n",
       "Country        0\n",
       "dtype: int64"
      ]
     },
     "execution_count": 15,
     "metadata": {},
     "output_type": "execute_result"
    }
   ],
   "source": [
    "invoice_df.isnull().sum()"
   ]
  },
  {
   "cell_type": "markdown",
   "id": "210a9a45-897f-417e-b175-81ace4166bbd",
   "metadata": {
    "tags": []
   },
   "source": [
    "# EDA"
   ]
  },
  {
   "cell_type": "markdown",
   "id": "70ce1be3-ebe6-4624-82d7-a21dbeab81f3",
   "metadata": {},
   "source": [
    "## Countries"
   ]
  },
  {
   "cell_type": "code",
   "execution_count": 16,
   "id": "543539d0-fa96-4efd-bc68-6d718d5dd818",
   "metadata": {
    "tags": []
   },
   "outputs": [
    {
     "name": "stdout",
     "output_type": "stream",
     "text": [
      "No Of Countries : 37\n"
     ]
    }
   ],
   "source": [
    "temp = invoice_df[['CustomerID', 'InvoiceNo', 'Country']].groupby(['CustomerID', 'InvoiceNo', 'Country']).count()\n",
    "temp = temp.reset_index(drop = False)\n",
    "countries = temp['Country'].value_counts()\n",
    "print('No Of Countries : {}'.format(len(countries)))"
   ]
  },
  {
   "cell_type": "code",
   "execution_count": 17,
   "id": "a3c01ea6-4271-4e13-9c37-8e65c71b9985",
   "metadata": {
    "tags": []
   },
   "outputs": [],
   "source": [
    "data = dict(\n",
    "    type='choropleth',\n",
    "    locations=countries.index,\n",
    "    locationmode='country names',\n",
    "    z=countries,\n",
    "    text=countries.index,\n",
    "    colorbar={'title': '# Orders'},\n",
    "    colorscale=[\n",
    "        [0, 'rgb(224,255,255)'],\n",
    "        [0.01, 'rgb(166,206,227)'],\n",
    "        [0.02, 'rgb(31,120,180)'],\n",
    "        [0.03, 'rgb(178,223,138)'],\n",
    "        [0.05, 'rgb(51,160,44)'],\n",
    "        [0.10, 'rgb(251,154,153)'],\n",
    "        [0.20, 'rgb(255,255,0)'],\n",
    "        [1, 'rgb(227,26,28)']\n",
    "    ],\n",
    "    reversescale=False\n",
    ")\n",
    "\n",
    "layout = dict(\n",
    "    title='Number of orders per country',\n",
    "    geo=dict(showframe=True, projection={'type': 'mercator'}),\n",
    "    width=1000,  # Adjust the width of the plot\n",
    "    height=800   # Adjust the height of the plot\n",
    ")\n",
    "\n",
    "# choromap = go.Figure(data=[data], layout=layout)\n",
    "# iplot(choromap, validate=False)"
   ]
  },
  {
   "cell_type": "markdown",
   "id": "530e2c04-8c90-4aec-9997-a45e22ad3bb0",
   "metadata": {},
   "source": [
    "## Stock Code"
   ]
  },
  {
   "cell_type": "code",
   "execution_count": 18,
   "id": "5c762209-c822-4a7d-9279-e510e0f4cd25",
   "metadata": {
    "tags": []
   },
   "outputs": [
    {
     "name": "stdout",
     "output_type": "stream",
     "text": [
      "POST            -> POSTAGE                       \n",
      "D               -> Discount                      \n",
      "C2              -> CARRIAGE                      \n",
      "M               -> Manual                        \n",
      "BANK CHARGES    -> Bank Charges                  \n",
      "PADS            -> PADS TO MATCH ALL CUSHIONS    \n",
      "DOT             -> DOTCOM POSTAGE                \n",
      "CRUK            -> CRUK Commission               \n"
     ]
    }
   ],
   "source": [
    "list_special_codes = invoice_df[invoice_df['StockCode'].str.contains('^[a-zA-Z]+', regex=True)]['StockCode'].unique()\n",
    "for code in list_special_codes:\n",
    "    print(\"{:<15} -> {:<30}\".format(code, invoice_df[invoice_df['StockCode'] == code]['Description'].unique()[0]))"
   ]
  },
  {
   "cell_type": "markdown",
   "id": "8a33eb38-0057-46c5-9be8-96a51efe2f44",
   "metadata": {
    "tags": []
   },
   "source": [
    "## Quantity"
   ]
  },
  {
   "cell_type": "code",
   "execution_count": 19,
   "id": "3e968d0f",
   "metadata": {},
   "outputs": [
    {
     "data": {
      "image/png": "[encoded data removed]",
      "text/plain": [
       "<Figure size 1000x400 with 1 Axes>"
      ]
     },
     "metadata": {},
     "output_type": "display_data"
    }
   ],
   "source": [
    "quantity_counts = invoice_df['Quantity'].value_counts()\n",
    "\n",
    "# Plot the value counts\n",
    "plt.figure(figsize=(10, 4))\n",
    "sns.histplot(quantity_counts, bins=20, kde=True, color='#033C5A')\n",
    "plt.title('Value Counts of Quantity')\n",
    "plt.xlabel('Quantity')\n",
    "plt.ylabel('Count')\n",
    "plt.show()"
   ]
  },
  {
   "cell_type": "code",
   "execution_count": 20,
   "id": "0b77c3a7",
   "metadata": {
    "tags": []
   },
   "outputs": [
    {
     "name": "stdout",
     "output_type": "stream",
     "text": [
      "Number of Negative Invoice records: 8872\n"
     ]
    },
    {
     "data": {
      "text/html": [
       "<div>\n",
       "<style scoped>\n",
       "    .dataframe tbody tr th:only-of-type {\n",
       "        vertical-align: middle;\n",
       "    }\n",
       "\n",
       "    .dataframe tbody tr th {\n",
       "        vertical-align: top;\n",
       "    }\n",
       "\n",
       "    .dataframe thead th {\n",
       "        text-align: right;\n",
       "    }\n",
       "</style>\n",
       "<table border=\"1\" class=\"dataframe\">\n",
       "  <thead>\n",
       "    <tr style=\"text-align: right;\">\n",
       "      <th></th>\n",
       "      <th>InvoiceNo</th>\n",
       "      <th>StockCode</th>\n",
       "      <th>Description</th>\n",
       "      <th>Quantity</th>\n",
       "      <th>InvoiceDate</th>\n",
       "      <th>UnitPrice</th>\n",
       "      <th>CustomerID</th>\n",
       "      <th>Country</th>\n",
       "    </tr>\n",
       "  </thead>\n",
       "  <tbody>\n",
       "    <tr>\n",
       "      <th>141</th>\n",
       "      <td>C536379</td>\n",
       "      <td>D</td>\n",
       "      <td>Discount</td>\n",
       "      <td>-1</td>\n",
       "      <td>2010-12-01 09:41:00</td>\n",
       "      <td>27.50</td>\n",
       "      <td>14527.0</td>\n",
       "      <td>United Kingdom</td>\n",
       "    </tr>\n",
       "    <tr>\n",
       "      <th>154</th>\n",
       "      <td>C536383</td>\n",
       "      <td>35004C</td>\n",
       "      <td>SET OF 3 COLOURED  FLYING DUCKS</td>\n",
       "      <td>-1</td>\n",
       "      <td>2010-12-01 09:49:00</td>\n",
       "      <td>4.65</td>\n",
       "      <td>15311.0</td>\n",
       "      <td>United Kingdom</td>\n",
       "    </tr>\n",
       "    <tr>\n",
       "      <th>235</th>\n",
       "      <td>C536391</td>\n",
       "      <td>22556</td>\n",
       "      <td>PLASTERS IN TIN CIRCUS PARADE</td>\n",
       "      <td>-12</td>\n",
       "      <td>2010-12-01 10:24:00</td>\n",
       "      <td>1.65</td>\n",
       "      <td>17548.0</td>\n",
       "      <td>United Kingdom</td>\n",
       "    </tr>\n",
       "    <tr>\n",
       "      <th>236</th>\n",
       "      <td>C536391</td>\n",
       "      <td>21984</td>\n",
       "      <td>PACK OF 12 PINK PAISLEY TISSUES</td>\n",
       "      <td>-24</td>\n",
       "      <td>2010-12-01 10:24:00</td>\n",
       "      <td>0.29</td>\n",
       "      <td>17548.0</td>\n",
       "      <td>United Kingdom</td>\n",
       "    </tr>\n",
       "    <tr>\n",
       "      <th>237</th>\n",
       "      <td>C536391</td>\n",
       "      <td>21983</td>\n",
       "      <td>PACK OF 12 BLUE PAISLEY TISSUES</td>\n",
       "      <td>-24</td>\n",
       "      <td>2010-12-01 10:24:00</td>\n",
       "      <td>0.29</td>\n",
       "      <td>17548.0</td>\n",
       "      <td>United Kingdom</td>\n",
       "    </tr>\n",
       "  </tbody>\n",
       "</table>\n",
       "</div>"
      ],
      "text/plain": [
       "    InvoiceNo StockCode                       Description  Quantity  \\\n",
       "141   C536379         D                          Discount        -1   \n",
       "154   C536383    35004C   SET OF 3 COLOURED  FLYING DUCKS        -1   \n",
       "235   C536391     22556    PLASTERS IN TIN CIRCUS PARADE        -12   \n",
       "236   C536391     21984  PACK OF 12 PINK PAISLEY TISSUES        -24   \n",
       "237   C536391     21983  PACK OF 12 BLUE PAISLEY TISSUES        -24   \n",
       "\n",
       "            InvoiceDate  UnitPrice  CustomerID         Country  \n",
       "141 2010-12-01 09:41:00      27.50     14527.0  United Kingdom  \n",
       "154 2010-12-01 09:49:00       4.65     15311.0  United Kingdom  \n",
       "235 2010-12-01 10:24:00       1.65     17548.0  United Kingdom  \n",
       "236 2010-12-01 10:24:00       0.29     17548.0  United Kingdom  \n",
       "237 2010-12-01 10:24:00       0.29     17548.0  United Kingdom  "
      ]
     },
     "execution_count": 20,
     "metadata": {},
     "output_type": "execute_result"
    }
   ],
   "source": [
    "neg_invoice_df = invoice_df[invoice_df.Quantity<0]\n",
    "print(f\"Number of Negative Invoice records: {neg_invoice_df.shape[0]}\")\n",
    "neg_invoice_df.head()"
   ]
  },
  {
   "cell_type": "code",
   "execution_count": 21,
   "id": "18192d31",
   "metadata": {},
   "outputs": [
    {
     "name": "stdout",
     "output_type": "stream",
     "text": [
      "Number of Negative Invoice records without cancellations: 0\n"
     ]
    }
   ],
   "source": [
    "neg_wo_cancel = neg_invoice_df[neg_invoice_df.InvoiceNo.str[:1] != 'C'].shape[0]\n",
    "print(f\"Number of Negative Invoice records without cancellations: {neg_wo_cancel}\")"
   ]
  },
  {
   "cell_type": "code",
   "execution_count": 22,
   "id": "7012ba7f",
   "metadata": {},
   "outputs": [
    {
     "name": "stdout",
     "output_type": "stream",
     "text": [
      "Number of Positive Invoice records: 392732\n"
     ]
    },
    {
     "data": {
      "text/html": [
       "<div>\n",
       "<style scoped>\n",
       "    .dataframe tbody tr th:only-of-type {\n",
       "        vertical-align: middle;\n",
       "    }\n",
       "\n",
       "    .dataframe tbody tr th {\n",
       "        vertical-align: top;\n",
       "    }\n",
       "\n",
       "    .dataframe thead th {\n",
       "        text-align: right;\n",
       "    }\n",
       "</style>\n",
       "<table border=\"1\" class=\"dataframe\">\n",
       "  <thead>\n",
       "    <tr style=\"text-align: right;\">\n",
       "      <th></th>\n",
       "      <th>InvoiceNo</th>\n",
       "      <th>StockCode</th>\n",
       "      <th>Description</th>\n",
       "      <th>Quantity</th>\n",
       "      <th>InvoiceDate</th>\n",
       "      <th>UnitPrice</th>\n",
       "      <th>CustomerID</th>\n",
       "      <th>Country</th>\n",
       "    </tr>\n",
       "  </thead>\n",
       "  <tbody>\n",
       "    <tr>\n",
       "      <th>0</th>\n",
       "      <td>536365</td>\n",
       "      <td>85123A</td>\n",
       "      <td>WHITE HANGING HEART T-LIGHT HOLDER</td>\n",
       "      <td>6</td>\n",
       "      <td>2010-12-01 08:26:00</td>\n",
       "      <td>2.55</td>\n",
       "      <td>17850.0</td>\n",
       "      <td>United Kingdom</td>\n",
       "    </tr>\n",
       "    <tr>\n",
       "      <th>1</th>\n",
       "      <td>536365</td>\n",
       "      <td>71053</td>\n",
       "      <td>WHITE METAL LANTERN</td>\n",
       "      <td>6</td>\n",
       "      <td>2010-12-01 08:26:00</td>\n",
       "      <td>3.39</td>\n",
       "      <td>17850.0</td>\n",
       "      <td>United Kingdom</td>\n",
       "    </tr>\n",
       "    <tr>\n",
       "      <th>2</th>\n",
       "      <td>536365</td>\n",
       "      <td>84406B</td>\n",
       "      <td>CREAM CUPID HEARTS COAT HANGER</td>\n",
       "      <td>8</td>\n",
       "      <td>2010-12-01 08:26:00</td>\n",
       "      <td>2.75</td>\n",
       "      <td>17850.0</td>\n",
       "      <td>United Kingdom</td>\n",
       "    </tr>\n",
       "    <tr>\n",
       "      <th>3</th>\n",
       "      <td>536365</td>\n",
       "      <td>84029G</td>\n",
       "      <td>KNITTED UNION FLAG HOT WATER BOTTLE</td>\n",
       "      <td>6</td>\n",
       "      <td>2010-12-01 08:26:00</td>\n",
       "      <td>3.39</td>\n",
       "      <td>17850.0</td>\n",
       "      <td>United Kingdom</td>\n",
       "    </tr>\n",
       "    <tr>\n",
       "      <th>4</th>\n",
       "      <td>536365</td>\n",
       "      <td>84029E</td>\n",
       "      <td>RED WOOLLY HOTTIE WHITE HEART.</td>\n",
       "      <td>6</td>\n",
       "      <td>2010-12-01 08:26:00</td>\n",
       "      <td>3.39</td>\n",
       "      <td>17850.0</td>\n",
       "      <td>United Kingdom</td>\n",
       "    </tr>\n",
       "  </tbody>\n",
       "</table>\n",
       "</div>"
      ],
      "text/plain": [
       "  InvoiceNo StockCode                          Description  Quantity  \\\n",
       "0    536365    85123A   WHITE HANGING HEART T-LIGHT HOLDER         6   \n",
       "1    536365     71053                  WHITE METAL LANTERN         6   \n",
       "2    536365    84406B       CREAM CUPID HEARTS COAT HANGER         8   \n",
       "3    536365    84029G  KNITTED UNION FLAG HOT WATER BOTTLE         6   \n",
       "4    536365    84029E       RED WOOLLY HOTTIE WHITE HEART.         6   \n",
       "\n",
       "          InvoiceDate  UnitPrice  CustomerID         Country  \n",
       "0 2010-12-01 08:26:00       2.55     17850.0  United Kingdom  \n",
       "1 2010-12-01 08:26:00       3.39     17850.0  United Kingdom  \n",
       "2 2010-12-01 08:26:00       2.75     17850.0  United Kingdom  \n",
       "3 2010-12-01 08:26:00       3.39     17850.0  United Kingdom  \n",
       "4 2010-12-01 08:26:00       3.39     17850.0  United Kingdom  "
      ]
     },
     "execution_count": 22,
     "metadata": {},
     "output_type": "execute_result"
    }
   ],
   "source": [
    "pos_invoice_df = invoice_df[invoice_df.Quantity>0]\n",
    "print(f\"Number of Positive Invoice records: {pos_invoice_df.shape[0]}\")\n",
    "pos_invoice_df.head()"
   ]
  },
  {
   "cell_type": "code",
   "execution_count": 23,
   "id": "a6bbed9c",
   "metadata": {},
   "outputs": [
    {
     "name": "stdout",
     "output_type": "stream",
     "text": [
      "Number of Positive Invoice records with cancellations: 0\n"
     ]
    }
   ],
   "source": [
    "pos_w_cancel = pos_invoice_df[pos_invoice_df.InvoiceNo.str[:1] == 'C'].shape[0]\n",
    "print(f\"Number of Positive Invoice records with cancellations: {pos_w_cancel}\")"
   ]
  },
  {
   "cell_type": "markdown",
   "id": "a38d7b93",
   "metadata": {},
   "source": [
    "## Negative Quantity"
   ]
  },
  {
   "cell_type": "code",
   "execution_count": 24,
   "id": "6e17e5b1",
   "metadata": {},
   "outputs": [
    {
     "name": "stdout",
     "output_type": "stream",
     "text": [
      "Cancellation Rate: 2.21%\n"
     ]
    }
   ],
   "source": [
    "# Cancellation Rate\n",
    "cancellation_rate = len(neg_invoice_df) / len(invoice_df) * 100\n",
    "print(f\"Cancellation Rate: {cancellation_rate:.2f}%\")"
   ]
  },
  {
   "cell_type": "code",
   "execution_count": 25,
   "id": "08de739b",
   "metadata": {},
   "outputs": [
    {
     "name": "stdout",
     "output_type": "stream",
     "text": [
      "Impact on Revenue: 12.02%\n"
     ]
    }
   ],
   "source": [
    "# Impact on Revenue\n",
    "total_revenue = invoice_df['UnitPrice'].sum()\n",
    "cancelled_revenue = neg_invoice_df['UnitPrice'].sum()\n",
    "revenue_impact = (cancelled_revenue / total_revenue) * 100\n",
    "print(f\"Impact on Revenue: {revenue_impact:.2f}%\")"
   ]
  },
  {
   "cell_type": "code",
   "execution_count": 26,
   "id": "b5df5f59-2ad3-436d-80cc-5d6e5ff3b88e",
   "metadata": {
    "tags": []
   },
   "outputs": [
    {
     "data": {
      "image/png": "[encoded data removed]",
      "text/plain": [
       "<Figure size 1000x400 with 1 Axes>"
      ]
     },
     "metadata": {},
     "output_type": "display_data"
    }
   ],
   "source": [
    "# Cancellation Trend\n",
    "cancelled_orders = neg_invoice_df.copy()\n",
    "cancelled_orders.set_index('InvoiceDate', inplace=True)\n",
    "cancellation_trends = cancelled_orders.resample('D').size()\n",
    "plt.figure(figsize=(10, 4))\n",
    "cancellation_trends.plot(title='Cancellation Trends Over Time', ylabel='Number of Cancellations', xlabel='Time')\n",
    "plt.show()"
   ]
  },
  {
   "cell_type": "code",
   "execution_count": 27,
   "id": "83844fcd",
   "metadata": {},
   "outputs": [],
   "source": [
    "cancelled_orders = neg_invoice_df.copy()\n",
    "cancelled_orders.set_index('InvoiceDate', inplace=True)"
   ]
  },
  {
   "cell_type": "code",
   "execution_count": 28,
   "id": "94603b87-0366-473e-bd2c-0da465b0f88e",
   "metadata": {
    "scrolled": false,
    "tags": []
   },
   "outputs": [
    {
     "data": {
      "image/png": "[encoded data removed]",
      "text/plain": [
       "<Figure size 1000x400 with 1 Axes>"
      ]
     },
     "metadata": {},
     "output_type": "display_data"
    }
   ],
   "source": [
    "# Customer Analysis\n",
    "customer_analysis = cancelled_orders.groupby('CustomerID').size().reset_index(name='CancellationCount')\n",
    "top_customers = customer_analysis.sort_values(by='CancellationCount', ascending=False).head(10)\n",
    "\n",
    "# Visualize Top 10 Customers with horizontal bar chart\n",
    "plt.figure(figsize=(10, 4))\n",
    "sns.barplot(y='CustomerID', x='CancellationCount', data=top_customers, orient='h', color='#033C5A')\n",
    "plt.title('Top 10 Customers by Cancellation Count')\n",
    "plt.xlabel('Cancellation Count')\n",
    "plt.ylabel('CustomerID')\n",
    "plt.show()"
   ]
  },
  {
   "cell_type": "code",
   "execution_count": 29,
   "id": "fd5bd569-05cb-45e5-b30a-2106388de741",
   "metadata": {
    "tags": []
   },
   "outputs": [
    {
     "data": {
      "image/png": "[encoded data removed]",
      "text/plain": [
       "<Figure size 1000x400 with 1 Axes>"
      ]
     },
     "metadata": {},
     "output_type": "display_data"
    }
   ],
   "source": [
    "# Product Analysis\n",
    "product_analysis = cancelled_orders.groupby('StockCode').size().reset_index(name='CancellationCount')\n",
    "top_products = product_analysis.sort_values(by='CancellationCount', ascending=False).head(10)\n",
    "\n",
    "plt.figure(figsize=(10, 4))\n",
    "sns.barplot(y='StockCode', x='CancellationCount', data=top_products, orient='h', color='#033C5A')\n",
    "plt.title('Top 10 Products by Cancellation Count')\n",
    "plt.xlabel('Product')\n",
    "plt.ylabel('Cancellation Count')\n",
    "plt.show()"
   ]
  },
  {
   "cell_type": "code",
   "execution_count": 30,
   "id": "f6ced3cb",
   "metadata": {},
   "outputs": [
    {
     "name": "stdout",
     "output_type": "stream",
     "text": [
      "Percent of cancellation matches: 44.56%\n"
     ]
    }
   ],
   "source": [
    "neg_invoice_merged_df = neg_invoice_df.merge(\n",
    "    invoice_df, \n",
    "    how='inner', \n",
    "    on=['StockCode','CustomerID','UnitPrice','Country']\n",
    ")\n",
    "\n",
    "condition1 = (abs(neg_invoice_merged_df.Quantity_x) == neg_invoice_merged_df.Quantity_y)\n",
    "condition2 = neg_invoice_merged_df.InvoiceDate_x >= neg_invoice_merged_df.InvoiceDate_y\n",
    "neg_invoice_merged_df = neg_invoice_merged_df[condition1 & condition2 ]\n",
    "\n",
    "invoice_match = neg_invoice_merged_df.shape[0]\n",
    "all_can_invoice = neg_invoice_df.shape[0]\n",
    "\n",
    "print(f\"Percent of cancellation matches: {invoice_match/all_can_invoice*100:.2f}%\")"
   ]
  },
  {
   "cell_type": "code",
   "execution_count": 31,
   "id": "85fce38c",
   "metadata": {},
   "outputs": [
    {
     "data": {
      "text/html": [
       "<div>\n",
       "<style scoped>\n",
       "    .dataframe tbody tr th:only-of-type {\n",
       "        vertical-align: middle;\n",
       "    }\n",
       "\n",
       "    .dataframe tbody tr th {\n",
       "        vertical-align: top;\n",
       "    }\n",
       "\n",
       "    .dataframe thead th {\n",
       "        text-align: right;\n",
       "    }\n",
       "</style>\n",
       "<table border=\"1\" class=\"dataframe\">\n",
       "  <thead>\n",
       "    <tr style=\"text-align: right;\">\n",
       "      <th></th>\n",
       "      <th>InvoiceNo</th>\n",
       "      <th>StockCode</th>\n",
       "      <th>Description</th>\n",
       "      <th>Quantity</th>\n",
       "      <th>InvoiceDate</th>\n",
       "      <th>UnitPrice</th>\n",
       "      <th>CustomerID</th>\n",
       "      <th>Country</th>\n",
       "    </tr>\n",
       "  </thead>\n",
       "  <tbody>\n",
       "    <tr>\n",
       "      <th>4922</th>\n",
       "      <td>541431</td>\n",
       "      <td>23166</td>\n",
       "      <td>MEDIUM CERAMIC TOP STORAGE JAR</td>\n",
       "      <td>74215</td>\n",
       "      <td>2011-01-18 10:01:00</td>\n",
       "      <td>1.04</td>\n",
       "      <td>12346.0</td>\n",
       "      <td>United Kingdom</td>\n",
       "    </tr>\n",
       "    <tr>\n",
       "      <th>9897</th>\n",
       "      <td>546869</td>\n",
       "      <td>21914</td>\n",
       "      <td>BLUE HARMONICA IN BOX</td>\n",
       "      <td>12</td>\n",
       "      <td>2011-03-17 16:00:00</td>\n",
       "      <td>1.25</td>\n",
       "      <td>12352.0</td>\n",
       "      <td>Norway</td>\n",
       "    </tr>\n",
       "    <tr>\n",
       "      <th>9894</th>\n",
       "      <td>546869</td>\n",
       "      <td>22413</td>\n",
       "      <td>METAL SIGN TAKE IT OR LEAVE IT</td>\n",
       "      <td>6</td>\n",
       "      <td>2011-03-17 16:00:00</td>\n",
       "      <td>2.95</td>\n",
       "      <td>12352.0</td>\n",
       "      <td>Norway</td>\n",
       "    </tr>\n",
       "    <tr>\n",
       "      <th>9891</th>\n",
       "      <td>546869</td>\n",
       "      <td>22645</td>\n",
       "      <td>CERAMIC HEART FAIRY CAKE MONEY BANK</td>\n",
       "      <td>12</td>\n",
       "      <td>2011-03-17 16:00:00</td>\n",
       "      <td>1.45</td>\n",
       "      <td>12352.0</td>\n",
       "      <td>Norway</td>\n",
       "    </tr>\n",
       "    <tr>\n",
       "      <th>9888</th>\n",
       "      <td>546869</td>\n",
       "      <td>22701</td>\n",
       "      <td>PINK DOG BOWL</td>\n",
       "      <td>6</td>\n",
       "      <td>2011-03-17 16:00:00</td>\n",
       "      <td>2.95</td>\n",
       "      <td>12352.0</td>\n",
       "      <td>Norway</td>\n",
       "    </tr>\n",
       "  </tbody>\n",
       "</table>\n",
       "</div>"
      ],
      "text/plain": [
       "     InvoiceNo StockCode                          Description  Quantity  \\\n",
       "4922    541431     23166       MEDIUM CERAMIC TOP STORAGE JAR     74215   \n",
       "9897    546869     21914               BLUE HARMONICA IN BOX         12   \n",
       "9894    546869     22413      METAL SIGN TAKE IT OR LEAVE IT          6   \n",
       "9891    546869     22645  CERAMIC HEART FAIRY CAKE MONEY BANK        12   \n",
       "9888    546869     22701                        PINK DOG BOWL         6   \n",
       "\n",
       "             InvoiceDate  UnitPrice  CustomerID         Country  \n",
       "4922 2011-01-18 10:01:00       1.04     12346.0  United Kingdom  \n",
       "9897 2011-03-17 16:00:00       1.25     12352.0          Norway  \n",
       "9894 2011-03-17 16:00:00       2.95     12352.0          Norway  \n",
       "9891 2011-03-17 16:00:00       1.45     12352.0          Norway  \n",
       "9888 2011-03-17 16:00:00       2.95     12352.0          Norway  "
      ]
     },
     "execution_count": 31,
     "metadata": {},
     "output_type": "execute_result"
    }
   ],
   "source": [
    "cols = ['InvoiceNo_y','StockCode','Description_y','Quantity_y','InvoiceDate_y','UnitPrice','CustomerID','Country']\n",
    "pos_can_match_df = neg_invoice_merged_df[cols]\n",
    "pos_can_match_df.columns = neg_invoice_df.columns\n",
    "pos_can_match_df = pos_can_match_df.drop_duplicates()\n",
    "pos_can_match_df = pos_can_match_df.sort_values(by=['CustomerID','StockCode','Quantity','InvoiceDate'])\n",
    "pos_can_match_df.head()"
   ]
  },
  {
   "cell_type": "code",
   "execution_count": 32,
   "id": "e0683976",
   "metadata": {
    "scrolled": true
   },
   "outputs": [
    {
     "name": "stdout",
     "output_type": "stream",
     "text": [
      "Number of transactions to remove: 11643\n"
     ]
    }
   ],
   "source": [
    "# Retrieve corresponding orders of cancellations, if available\n",
    "\n",
    "rows_to_drop = pd.DataFrame(columns=neg_invoice_df.columns)\n",
    "\n",
    "for neg_idx, neg_row in neg_invoice_df.iterrows():\n",
    "    \n",
    "    rows_to_drop.loc[len(rows_to_drop)] = neg_row\n",
    "    \n",
    "    cond1 = pos_can_match_df.CustomerID == neg_row.CustomerID\n",
    "    cond2 = pos_can_match_df.StockCode == neg_row.StockCode\n",
    "    cond3 = pos_can_match_df.Quantity == abs(neg_row.Quantity)\n",
    "    cond4 = pos_can_match_df.InvoiceDate <= neg_row.InvoiceDate\n",
    "    \n",
    "    temp = pos_can_match_df[cond1 & cond2 & cond3 & cond4]\n",
    "    \n",
    "    if temp.shape[0]>0:\n",
    "        rows_to_drop.loc[len(rows_to_drop)] = temp.iloc[0]\n",
    "        pos_can_match_df.drop(temp.index[0], inplace=True)\n",
    "\n",
    "print(f\"Number of transactions to remove: {rows_to_drop.shape[0]}\")     "
   ]
  },
  {
   "cell_type": "code",
   "execution_count": 33,
   "id": "43d6dbd6",
   "metadata": {},
   "outputs": [
    {
     "name": "stdout",
     "output_type": "stream",
     "text": [
      "All records are removed from the original data successfully\n"
     ]
    }
   ],
   "source": [
    "# Remove cancellations and corresponding orders\n",
    "\n",
    "fin_invoice_df = pd.merge(\n",
    "    invoice_df, rows_to_drop, \n",
    "    how='outer', \n",
    "    indicator=True\n",
    ").query(\"_merge != 'both'\").drop('_merge', axis=1).reset_index(drop=True)\n",
    "\n",
    "if (invoice_df.shape[0] - (fin_invoice_df.shape[0] + rows_to_drop.shape[0])):\n",
    "    print(f\"Missed records that are not removed from the original data: {missed_records}\")\n",
    "else:\n",
    "    print(\"All records are removed from the original data successfully\")"
   ]
  },
  {
   "cell_type": "markdown",
   "id": "9ad2327e",
   "metadata": {},
   "source": [
    "## Price"
   ]
  },
  {
   "cell_type": "code",
   "execution_count": 41,
   "id": "33ad452a",
   "metadata": {},
   "outputs": [
    {
     "name": "stdout",
     "output_type": "stream",
     "text": [
      "Records with negative quantity -> 0\n",
      "Records with zero quantity -> 0\n",
      "Records with negative unit price -> 0\n",
      "Records with zero unit price -> 40\n"
     ]
    }
   ],
   "source": [
    "print(f\"Records with negative quantity -> {fin_invoice_df[fin_invoice_df.Quantity<0].shape[0]}\")\n",
    "print(f\"Records with zero quantity -> {fin_invoice_df[fin_invoice_df.Quantity==0].shape[0]}\")\n",
    "print(f\"Records with negative unit price -> {fin_invoice_df[fin_invoice_df.UnitPrice<0].shape[0]}\")\n",
    "print(f\"Records with zero unit price -> {fin_invoice_df[fin_invoice_df.UnitPrice==0].shape[0]}\")"
   ]
  },
  {
   "cell_type": "code",
   "execution_count": 43,
   "id": "3f6ada63",
   "metadata": {},
   "outputs": [
    {
     "name": "stdout",
     "output_type": "stream",
     "text": [
      "Records with zero unit price -> 0\n"
     ]
    }
   ],
   "source": [
    "# Remove records with zero unit price\n",
    "\n",
    "fin_invoice_df = fin_invoice_df[fin_invoice_df.UnitPrice>0]\n",
    "print(f\"Records with zero unit price -> {fin_invoice_df[fin_invoice_df.UnitPrice==0].shape[0]}\")"
   ]
  },
  {
   "cell_type": "code",
   "execution_count": 44,
   "id": "222147d7",
   "metadata": {},
   "outputs": [
    {
     "data": {
      "text/html": [
       "<div>\n",
       "<style scoped>\n",
       "    .dataframe tbody tr th:only-of-type {\n",
       "        vertical-align: middle;\n",
       "    }\n",
       "\n",
       "    .dataframe tbody tr th {\n",
       "        vertical-align: top;\n",
       "    }\n",
       "\n",
       "    .dataframe thead th {\n",
       "        text-align: right;\n",
       "    }\n",
       "</style>\n",
       "<table border=\"1\" class=\"dataframe\">\n",
       "  <thead>\n",
       "    <tr style=\"text-align: right;\">\n",
       "      <th></th>\n",
       "      <th>InvoiceNo</th>\n",
       "      <th>StockCode</th>\n",
       "      <th>Description</th>\n",
       "      <th>Quantity</th>\n",
       "      <th>InvoiceDate</th>\n",
       "      <th>UnitPrice</th>\n",
       "      <th>CustomerID</th>\n",
       "      <th>Country</th>\n",
       "      <th>TotalPrice</th>\n",
       "    </tr>\n",
       "  </thead>\n",
       "  <tbody>\n",
       "    <tr>\n",
       "      <th>0</th>\n",
       "      <td>536365</td>\n",
       "      <td>85123A</td>\n",
       "      <td>WHITE HANGING HEART T-LIGHT HOLDER</td>\n",
       "      <td>6</td>\n",
       "      <td>2010-12-01 08:26:00</td>\n",
       "      <td>2.55</td>\n",
       "      <td>17850.0</td>\n",
       "      <td>United Kingdom</td>\n",
       "      <td>15.3</td>\n",
       "    </tr>\n",
       "    <tr>\n",
       "      <th>1</th>\n",
       "      <td>536365</td>\n",
       "      <td>71053</td>\n",
       "      <td>WHITE METAL LANTERN</td>\n",
       "      <td>6</td>\n",
       "      <td>2010-12-01 08:26:00</td>\n",
       "      <td>3.39</td>\n",
       "      <td>17850.0</td>\n",
       "      <td>United Kingdom</td>\n",
       "      <td>20.34</td>\n",
       "    </tr>\n",
       "    <tr>\n",
       "      <th>2</th>\n",
       "      <td>536365</td>\n",
       "      <td>84406B</td>\n",
       "      <td>CREAM CUPID HEARTS COAT HANGER</td>\n",
       "      <td>8</td>\n",
       "      <td>2010-12-01 08:26:00</td>\n",
       "      <td>2.75</td>\n",
       "      <td>17850.0</td>\n",
       "      <td>United Kingdom</td>\n",
       "      <td>22.0</td>\n",
       "    </tr>\n",
       "    <tr>\n",
       "      <th>3</th>\n",
       "      <td>536365</td>\n",
       "      <td>84029G</td>\n",
       "      <td>KNITTED UNION FLAG HOT WATER BOTTLE</td>\n",
       "      <td>6</td>\n",
       "      <td>2010-12-01 08:26:00</td>\n",
       "      <td>3.39</td>\n",
       "      <td>17850.0</td>\n",
       "      <td>United Kingdom</td>\n",
       "      <td>20.34</td>\n",
       "    </tr>\n",
       "    <tr>\n",
       "      <th>4</th>\n",
       "      <td>536365</td>\n",
       "      <td>84029E</td>\n",
       "      <td>RED WOOLLY HOTTIE WHITE HEART.</td>\n",
       "      <td>6</td>\n",
       "      <td>2010-12-01 08:26:00</td>\n",
       "      <td>3.39</td>\n",
       "      <td>17850.0</td>\n",
       "      <td>United Kingdom</td>\n",
       "      <td>20.34</td>\n",
       "    </tr>\n",
       "  </tbody>\n",
       "</table>\n",
       "</div>"
      ],
      "text/plain": [
       "  InvoiceNo StockCode                          Description Quantity  \\\n",
       "0    536365    85123A   WHITE HANGING HEART T-LIGHT HOLDER        6   \n",
       "1    536365     71053                  WHITE METAL LANTERN        6   \n",
       "2    536365    84406B       CREAM CUPID HEARTS COAT HANGER        8   \n",
       "3    536365    84029G  KNITTED UNION FLAG HOT WATER BOTTLE        6   \n",
       "4    536365    84029E       RED WOOLLY HOTTIE WHITE HEART.        6   \n",
       "\n",
       "          InvoiceDate UnitPrice CustomerID         Country TotalPrice  \n",
       "0 2010-12-01 08:26:00      2.55    17850.0  United Kingdom       15.3  \n",
       "1 2010-12-01 08:26:00      3.39    17850.0  United Kingdom      20.34  \n",
       "2 2010-12-01 08:26:00      2.75    17850.0  United Kingdom       22.0  \n",
       "3 2010-12-01 08:26:00      3.39    17850.0  United Kingdom      20.34  \n",
       "4 2010-12-01 08:26:00      3.39    17850.0  United Kingdom      20.34  "
      ]
     },
     "execution_count": 44,
     "metadata": {},
     "output_type": "execute_result"
    }
   ],
   "source": [
    "# Create TotalPrice feature\n",
    "\n",
    "fin_invoice_df['TotalPrice'] = fin_invoice_df['UnitPrice'] * fin_invoice_df['Quantity']\n",
    "fin_invoice_df.head()"
   ]
  },
  {
   "cell_type": "markdown",
   "id": "4c7b75fa",
   "metadata": {},
   "source": [
    "## Basket Price"
   ]
  },
  {
   "cell_type": "code",
   "execution_count": 61,
   "id": "27f5f140",
   "metadata": {},
   "outputs": [
    {
     "data": {
      "text/html": [
       "<div>\n",
       "<style scoped>\n",
       "    .dataframe tbody tr th:only-of-type {\n",
       "        vertical-align: middle;\n",
       "    }\n",
       "\n",
       "    .dataframe tbody tr th {\n",
       "        vertical-align: top;\n",
       "    }\n",
       "\n",
       "    .dataframe thead th {\n",
       "        text-align: right;\n",
       "    }\n",
       "</style>\n",
       "<table border=\"1\" class=\"dataframe\">\n",
       "  <thead>\n",
       "    <tr style=\"text-align: right;\">\n",
       "      <th></th>\n",
       "      <th>CustomerID</th>\n",
       "      <th>InvoiceNo</th>\n",
       "      <th>InvoiceDate</th>\n",
       "      <th>Country</th>\n",
       "      <th>BasketPrice</th>\n",
       "    </tr>\n",
       "  </thead>\n",
       "  <tbody>\n",
       "    <tr>\n",
       "      <th>0</th>\n",
       "      <td>12347.0</td>\n",
       "      <td>537626</td>\n",
       "      <td>2010-12-07</td>\n",
       "      <td>Iceland</td>\n",
       "      <td>711.79</td>\n",
       "    </tr>\n",
       "    <tr>\n",
       "      <th>1</th>\n",
       "      <td>12347.0</td>\n",
       "      <td>542237</td>\n",
       "      <td>2011-01-26</td>\n",
       "      <td>Iceland</td>\n",
       "      <td>475.39</td>\n",
       "    </tr>\n",
       "    <tr>\n",
       "      <th>2</th>\n",
       "      <td>12347.0</td>\n",
       "      <td>549222</td>\n",
       "      <td>2011-04-07</td>\n",
       "      <td>Iceland</td>\n",
       "      <td>636.25</td>\n",
       "    </tr>\n",
       "    <tr>\n",
       "      <th>3</th>\n",
       "      <td>12347.0</td>\n",
       "      <td>556201</td>\n",
       "      <td>2011-06-09</td>\n",
       "      <td>Iceland</td>\n",
       "      <td>382.52</td>\n",
       "    </tr>\n",
       "    <tr>\n",
       "      <th>4</th>\n",
       "      <td>12347.0</td>\n",
       "      <td>562032</td>\n",
       "      <td>2011-08-02</td>\n",
       "      <td>Iceland</td>\n",
       "      <td>584.91</td>\n",
       "    </tr>\n",
       "  </tbody>\n",
       "</table>\n",
       "</div>"
      ],
      "text/plain": [
       "   CustomerID InvoiceNo InvoiceDate  Country BasketPrice\n",
       "0     12347.0    537626  2010-12-07  Iceland      711.79\n",
       "1     12347.0    542237  2011-01-26  Iceland      475.39\n",
       "2     12347.0    549222  2011-04-07  Iceland      636.25\n",
       "3     12347.0    556201  2011-06-09  Iceland      382.52\n",
       "4     12347.0    562032  2011-08-02  Iceland      584.91"
      ]
     },
     "execution_count": 61,
     "metadata": {},
     "output_type": "execute_result"
    }
   ],
   "source": [
    "temp = fin_invoice_df.copy(deep=True)\n",
    "temp['InvoiceDate'] = fin_invoice_df['InvoiceDate'].dt.strftime('%Y-%m-%d')\n",
    "rollup_invoice_df = temp.groupby(\n",
    "    ['CustomerID','InvoiceNo','InvoiceDate','Country']\n",
    ").agg(BasketPrice=('TotalPrice', 'sum')).reset_index()\n",
    "rollup_invoice_df.head()"
   ]
  },
  {
   "cell_type": "markdown",
   "id": "383fdd7b-4234-45ab-897e-dc1c46f0f2f2",
   "metadata": {
    "tags": []
   },
   "source": [
    "# Product Categories"
   ]
  },
  {
   "cell_type": "markdown",
   "id": "51102316-a539-4026-9026-04dcea765343",
   "metadata": {},
   "source": [
    "## Clustering Products "
   ]
  },
  {
   "cell_type": "markdown",
   "id": "88a87bb8-034e-4172-b2e2-bc32af02859d",
   "metadata": {},
   "source": [
    "## Silhoutte Intra cluster score"
   ]
  },
  {
   "cell_type": "markdown",
   "id": "67662355-a02d-4ee4-8aec-c67c525b8c29",
   "metadata": {},
   "source": [
    "## PCA"
   ]
  },
  {
   "cell_type": "markdown",
   "id": "7953baff-acad-4475-9269-a1a7f4a278d9",
   "metadata": {},
   "source": [
    "# Customer Categories"
   ]
  },
  {
   "cell_type": "markdown",
   "id": "d6482fa1-64eb-4aec-94a2-5ff6e5ab5c55",
   "metadata": {},
   "source": [
    "# Classification on Customers"
   ]
  },
  {
   "cell_type": "code",
   "execution_count": null,
   "id": "f1acb1a1-4437-4456-ac4f-b1c74eca5b85",
   "metadata": {},
   "outputs": [],
   "source": []
  }
 ],
 "metadata": {
  "kernelspec": {
   "display_name": "Python 3 (ipykernel)",
   "language": "python",
   "name": "python3"
  },
  "language_info": {
   "codemirror_mode": {
    "name": "ipython",
    "version": 3
   },
   "file_extension": ".py",
   "mimetype": "text/x-python",
   "name": "python",
   "nbconvert_exporter": "python",
   "pygments_lexer": "ipython3",
   "version": "3.9.13"
  }
 },
 "nbformat": 4,
 "nbformat_minor": 5
}

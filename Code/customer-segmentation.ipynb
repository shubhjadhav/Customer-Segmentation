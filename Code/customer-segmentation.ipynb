{
 "cells": [
  {
   "cell_type": "code",
   "execution_count": 1,
   "id": "initial_id",
   "metadata": {
    "ExecuteTime": {
     "start_time": "2023-11-21T00:30:30.400228Z"
    },
    "is_executing": true,
    "collapsed": true,
    "jupyter": {
     "outputs_hidden": true
    },
    "tags": []
   },
   "outputs": [],
   "source": [
    "import helperfunction as hf\n",
    "import matplotlib.pyplot as plt"
   ]
  },
  {
   "cell_type": "code",
   "execution_count": 2,
   "id": "445777ed9d891b",
   "metadata": {
    "ExecuteTime": {
     "end_time": "2023-11-19T22:01:06.915543Z",
     "start_time": "2023-11-19T22:01:04.086082Z"
    }
   },
   "outputs": [
    {
     "name": "stdout",
     "output_type": "stream",
     "text": [
      "Current work Directory C:\\Users\\jahna\\OneDrive\\Documents\\GitHub\\Customer-Segmentation\\Code\n",
      "File Path is  C:\\Users\\jahna\\OneDrive\\Documents\\GitHub\\Customer-Segmentation\\Code\\invoice_data\n"
     ]
    },
    {
     "data": {
      "text/html": [
       "<div>\n",
       "<style scoped>\n",
       "    .dataframe tbody tr th:only-of-type {\n",
       "        vertical-align: middle;\n",
       "    }\n",
       "\n",
       "    .dataframe tbody tr th {\n",
       "        vertical-align: top;\n",
       "    }\n",
       "\n",
       "    .dataframe thead th {\n",
       "        text-align: right;\n",
       "    }\n",
       "</style>\n",
       "<table border=\"1\" class=\"dataframe\">\n",
       "  <thead>\n",
       "    <tr style=\"text-align: right;\">\n",
       "      <th></th>\n",
       "      <th>InvoiceNo</th>\n",
       "      <th>StockCode</th>\n",
       "      <th>Description</th>\n",
       "      <th>Quantity</th>\n",
       "      <th>InvoiceDate</th>\n",
       "      <th>UnitPrice</th>\n",
       "      <th>CustomerID</th>\n",
       "      <th>Country</th>\n",
       "    </tr>\n",
       "  </thead>\n",
       "  <tbody>\n",
       "    <tr>\n",
       "      <th>0</th>\n",
       "      <td>536365</td>\n",
       "      <td>85123A</td>\n",
       "      <td>WHITE HANGING HEART T-LIGHT HOLDER</td>\n",
       "      <td>6</td>\n",
       "      <td>2010-12-01 08:26:00</td>\n",
       "      <td>2.55</td>\n",
       "      <td>17850.0</td>\n",
       "      <td>United Kingdom</td>\n",
       "    </tr>\n",
       "    <tr>\n",
       "      <th>1</th>\n",
       "      <td>536365</td>\n",
       "      <td>71053</td>\n",
       "      <td>WHITE METAL LANTERN</td>\n",
       "      <td>6</td>\n",
       "      <td>2010-12-01 08:26:00</td>\n",
       "      <td>3.39</td>\n",
       "      <td>17850.0</td>\n",
       "      <td>United Kingdom</td>\n",
       "    </tr>\n",
       "    <tr>\n",
       "      <th>2</th>\n",
       "      <td>536365</td>\n",
       "      <td>84406B</td>\n",
       "      <td>CREAM CUPID HEARTS COAT HANGER</td>\n",
       "      <td>8</td>\n",
       "      <td>2010-12-01 08:26:00</td>\n",
       "      <td>2.75</td>\n",
       "      <td>17850.0</td>\n",
       "      <td>United Kingdom</td>\n",
       "    </tr>\n",
       "    <tr>\n",
       "      <th>3</th>\n",
       "      <td>536365</td>\n",
       "      <td>84029G</td>\n",
       "      <td>KNITTED UNION FLAG HOT WATER BOTTLE</td>\n",
       "      <td>6</td>\n",
       "      <td>2010-12-01 08:26:00</td>\n",
       "      <td>3.39</td>\n",
       "      <td>17850.0</td>\n",
       "      <td>United Kingdom</td>\n",
       "    </tr>\n",
       "    <tr>\n",
       "      <th>4</th>\n",
       "      <td>536365</td>\n",
       "      <td>84029E</td>\n",
       "      <td>RED WOOLLY HOTTIE WHITE HEART.</td>\n",
       "      <td>6</td>\n",
       "      <td>2010-12-01 08:26:00</td>\n",
       "      <td>3.39</td>\n",
       "      <td>17850.0</td>\n",
       "      <td>United Kingdom</td>\n",
       "    </tr>\n",
       "  </tbody>\n",
       "</table>\n",
       "</div>"
      ],
      "text/plain": [
       "  InvoiceNo StockCode                          Description  Quantity  \\\n",
       "0    536365    85123A   WHITE HANGING HEART T-LIGHT HOLDER         6   \n",
       "1    536365     71053                  WHITE METAL LANTERN         6   \n",
       "2    536365    84406B       CREAM CUPID HEARTS COAT HANGER         8   \n",
       "3    536365    84029G  KNITTED UNION FLAG HOT WATER BOTTLE         6   \n",
       "4    536365    84029E       RED WOOLLY HOTTIE WHITE HEART.         6   \n",
       "\n",
       "          InvoiceDate  UnitPrice  CustomerID         Country  \n",
       "0 2010-12-01 08:26:00       2.55     17850.0  United Kingdom  \n",
       "1 2010-12-01 08:26:00       3.39     17850.0  United Kingdom  \n",
       "2 2010-12-01 08:26:00       2.75     17850.0  United Kingdom  \n",
       "3 2010-12-01 08:26:00       3.39     17850.0  United Kingdom  \n",
       "4 2010-12-01 08:26:00       3.39     17850.0  United Kingdom  "
      ]
     },
     "execution_count": 2,
     "metadata": {},
     "output_type": "execute_result"
    }
   ],
   "source": [
    "invoice_df = hf.create_df('invoice_data')\n",
    "invoice_df.head()"
   ]
  },
  {
   "cell_type": "code",
   "execution_count": 3,
   "id": "179c756b",
   "metadata": {
    "ExecuteTime": {
     "end_time": "2023-11-19T22:01:11.577668Z",
     "start_time": "2023-11-19T22:01:11.487462Z"
    }
   },
   "outputs": [
    {
     "name": "stdout",
     "output_type": "stream",
     "text": [
      "\n",
      "Total observations (records): 541909\n",
      "\n",
      "Total features: 8\n",
      "\n",
      "Number of Invoices: 25900\n",
      "\n",
      "Number of Products: 4070\n",
      "\n",
      "Number of Customers: 4372\n",
      "\n",
      "Number of Countries: 38\n",
      "\n",
      "Minimum Date: 2010-12-01 08:26:00 - Maximum Date: 2011-12-09 12:50:00\n"
     ]
    }
   ],
   "source": [
    "print(f\"\\nTotal observations (records): {invoice_df.shape[0]}\")\n",
    "print(f\"\\nTotal features: {invoice_df.shape[1]}\")\n",
    "print(f\"\\nNumber of Invoices: {invoice_df['InvoiceNo'].nunique()}\")\n",
    "print(f\"\\nNumber of Products: {invoice_df['StockCode'].nunique()}\")\n",
    "print(f\"\\nNumber of Customers: {invoice_df['CustomerID'].nunique()}\")\n",
    "print(f\"\\nNumber of Countries: {invoice_df['Country'].nunique()}\")\n",
    "print(f\"\\nMinimum Date: {invoice_df['InvoiceDate'].min()} - Maximum Date: {invoice_df['InvoiceDate'].max()}\")"
   ]
  },
  {
   "cell_type": "code",
   "execution_count": 4,
   "id": "64752fc61d54258c",
   "metadata": {
    "ExecuteTime": {
     "end_time": "2023-11-19T22:02:07.867463Z",
     "start_time": "2023-11-19T22:02:07.474469Z"
    }
   },
   "outputs": [
    {
     "data": {
      "text/plain": [
       "InvoiceNo           0\n",
       "StockCode           0\n",
       "Description      1454\n",
       "Quantity            0\n",
       "InvoiceDate         0\n",
       "UnitPrice           0\n",
       "CustomerID     135080\n",
       "Country             0\n",
       "dtype: int64"
      ]
     },
     "execution_count": 4,
     "metadata": {},
     "output_type": "execute_result"
    }
   ],
   "source": [
    "invoice_df.isnull().sum()"
   ]
  },
  {
   "cell_type": "code",
   "execution_count": 5,
   "id": "f2792798",
   "metadata": {
    "tags": []
   },
   "outputs": [
    {
     "name": "stdout",
     "output_type": "stream",
     "text": [
      "\n",
      "Min Basket Price: -168469.6\n",
      "Max Basket Price: 168469.6\n"
     ]
    }
   ],
   "source": [
    "invoice_df['price'] = invoice_df['Quantity']*invoice_df['UnitPrice']\n",
    "a = invoice_df[['InvoiceNo','price']].groupby(['InvoiceNo']).sum().reset_index()\n",
    "print(f\"\\nMin Basket Price: {a.price.min()}\")\n",
    "print(f\"Max Basket Price: {a.price.max()}\")"
   ]
  },
  {
   "cell_type": "code",
   "execution_count": 6,
   "id": "d4e8981b",
   "metadata": {
    "tags": []
   },
   "outputs": [
    {
     "name": "stdout",
     "output_type": "stream",
     "text": [
      "      CustomerID      price\n",
      "1703     14646.0  279489.02\n",
      "4233     18102.0  256438.49\n",
      "3758     17450.0  187482.17\n",
      "1895     14911.0  132572.62\n",
      "55       12415.0  123725.45\n",
      "\n",
      "Min Purchase by customer: -4287.63\n",
      "Max Purchase customer: 279489.02\n"
     ]
    }
   ],
   "source": [
    "a = invoice_df[['CustomerID','price']].groupby(['CustomerID']).sum().reset_index()\n",
    "print(a.sort_values(by='price', ascending=0).head())\n",
    "print(f\"\\nMin Purchase by customer: {a.price.min()}\")\n",
    "print(f\"Max Purchase customer: {a.price.max()}\")"
   ]
  },
  {
   "cell_type": "code",
   "execution_count": 7,
   "id": "6efbac4e",
   "metadata": {
    "tags": []
   },
   "outputs": [
    {
     "name": "stdout",
     "output_type": "stream",
     "text": [
      "\n",
      "Avg customer span: 133 days 17:25:29.204025618\n"
     ]
    }
   ],
   "source": [
    "result = invoice_df.groupby('CustomerID')['InvoiceDate'].agg(['first', 'last'])\n",
    "result['Date_Difference'] = result['last'] - result['first']\n",
    "print(f\"\\nAvg customer span: {result['Date_Difference'].mean()}\")"
   ]
  },
  {
   "cell_type": "code",
   "execution_count": 8,
   "id": "e9423424",
   "metadata": {},
   "outputs": [
    {
     "name": "stdout",
     "output_type": "stream",
     "text": [
      "\n",
      "Min Quantity by InvoiceNo: -80995\n",
      "Max Quantity by InvoiceNo: 80995\n"
     ]
    }
   ],
   "source": [
    "a = invoice_df[['InvoiceNo','Quantity']].groupby(['InvoiceNo']).sum().reset_index()\n",
    "print(f\"\\nMin Quantity by InvoiceNo: {a.Quantity.min()}\")\n",
    "print(f\"Max Quantity by InvoiceNo: {a.Quantity.max()}\")"
   ]
  },
  {
   "cell_type": "markdown",
   "id": "a46c4158-cccf-4398-a6d6-010a235fa5dc",
   "metadata": {},
   "source": [
    "## EDA"
   ]
  },
  {
   "cell_type": "markdown",
   "id": "383fdd7b-4234-45ab-897e-dc1c46f0f2f2",
   "metadata": {
    "jp-MarkdownHeadingCollapsed": true,
    "tags": []
   },
   "source": [
    "## Product Categories"
   ]
  },
  {
   "cell_type": "markdown",
   "id": "51102316-a539-4026-9026-04dcea765343",
   "metadata": {},
   "source": [
    "### Clustering Products "
   ]
  },
  {
   "cell_type": "markdown",
   "id": "88a87bb8-034e-4172-b2e2-bc32af02859d",
   "metadata": {},
   "source": [
    "### Silhoutte Intra cluster score"
   ]
  },
  {
   "cell_type": "markdown",
   "id": "67662355-a02d-4ee4-8aec-c67c525b8c29",
   "metadata": {},
   "source": [
    "### PCA"
   ]
  },
  {
   "cell_type": "markdown",
   "id": "7953baff-acad-4475-9269-a1a7f4a278d9",
   "metadata": {},
   "source": [
    "## Customer Categories"
   ]
  },
  {
   "cell_type": "markdown",
   "id": "d6482fa1-64eb-4aec-94a2-5ff6e5ab5c55",
   "metadata": {},
   "source": [
    "## Classification on Customers"
   ]
  },
  {
   "cell_type": "code",
   "execution_count": 16,
   "id": "0b77c3a7",
   "metadata": {},
   "outputs": [
    {
     "data": {
      "text/html": [
       "<div>\n",
       "<style scoped>\n",
       "    .dataframe tbody tr th:only-of-type {\n",
       "        vertical-align: middle;\n",
       "    }\n",
       "\n",
       "    .dataframe tbody tr th {\n",
       "        vertical-align: top;\n",
       "    }\n",
       "\n",
       "    .dataframe thead th {\n",
       "        text-align: right;\n",
       "    }\n",
       "</style>\n",
       "<table border=\"1\" class=\"dataframe\">\n",
       "  <thead>\n",
       "    <tr style=\"text-align: right;\">\n",
       "      <th></th>\n",
       "      <th>StockCode</th>\n",
       "      <th>InvoiceNo</th>\n",
       "      <th>CustomerID</th>\n",
       "      <th>price</th>\n",
       "    </tr>\n",
       "  </thead>\n",
       "  <tbody>\n",
       "    <tr>\n",
       "      <th>141</th>\n",
       "      <td>D</td>\n",
       "      <td>C536379</td>\n",
       "      <td>14527.0</td>\n",
       "      <td>-27.50</td>\n",
       "    </tr>\n",
       "    <tr>\n",
       "      <th>154</th>\n",
       "      <td>35004C</td>\n",
       "      <td>C536383</td>\n",
       "      <td>15311.0</td>\n",
       "      <td>-4.65</td>\n",
       "    </tr>\n",
       "    <tr>\n",
       "      <th>235</th>\n",
       "      <td>22556</td>\n",
       "      <td>C536391</td>\n",
       "      <td>17548.0</td>\n",
       "      <td>-19.80</td>\n",
       "    </tr>\n",
       "    <tr>\n",
       "      <th>236</th>\n",
       "      <td>21984</td>\n",
       "      <td>C536391</td>\n",
       "      <td>17548.0</td>\n",
       "      <td>-6.96</td>\n",
       "    </tr>\n",
       "    <tr>\n",
       "      <th>237</th>\n",
       "      <td>21983</td>\n",
       "      <td>C536391</td>\n",
       "      <td>17548.0</td>\n",
       "      <td>-6.96</td>\n",
       "    </tr>\n",
       "  </tbody>\n",
       "</table>\n",
       "</div>"
      ],
      "text/plain": [
       "    StockCode InvoiceNo  CustomerID  price\n",
       "141         D   C536379     14527.0 -27.50\n",
       "154    35004C   C536383     15311.0  -4.65\n",
       "235     22556   C536391     17548.0 -19.80\n",
       "236     21984   C536391     17548.0  -6.96\n",
       "237     21983   C536391     17548.0  -6.96"
      ]
     },
     "execution_count": 16,
     "metadata": {},
     "output_type": "execute_result"
    }
   ],
   "source": [
    "neg_invoice_df = invoice_df[invoice_df.price<0][['StockCode','InvoiceNo','CustomerID','price']]\n",
    "neg_invoice_df.head()"
   ]
  },
  {
   "cell_type": "code",
   "execution_count": 21,
   "id": "f6ced3cb",
   "metadata": {},
   "outputs": [
    {
     "data": {
      "text/html": [
       "<div>\n",
       "<style scoped>\n",
       "    .dataframe tbody tr th:only-of-type {\n",
       "        vertical-align: middle;\n",
       "    }\n",
       "\n",
       "    .dataframe tbody tr th {\n",
       "        vertical-align: top;\n",
       "    }\n",
       "\n",
       "    .dataframe thead th {\n",
       "        text-align: right;\n",
       "    }\n",
       "</style>\n",
       "<table border=\"1\" class=\"dataframe\">\n",
       "  <thead>\n",
       "    <tr style=\"text-align: right;\">\n",
       "      <th></th>\n",
       "      <th>StockCode</th>\n",
       "      <th>InvoiceNo_x</th>\n",
       "      <th>CustomerID</th>\n",
       "      <th>price_x</th>\n",
       "      <th>InvoiceNo_y</th>\n",
       "      <th>Description</th>\n",
       "      <th>Quantity</th>\n",
       "      <th>InvoiceDate</th>\n",
       "      <th>UnitPrice</th>\n",
       "      <th>Country</th>\n",
       "      <th>price_y</th>\n",
       "    </tr>\n",
       "  </thead>\n",
       "  <tbody>\n",
       "    <tr>\n",
       "      <th>63</th>\n",
       "      <td>22355</td>\n",
       "      <td>C536543</td>\n",
       "      <td>17841.0</td>\n",
       "      <td>-1.70</td>\n",
       "      <td>546543</td>\n",
       "      <td>CHARLOTTE BAG SUKI DESIGN</td>\n",
       "      <td>2</td>\n",
       "      <td>2011-03-14 15:40:00</td>\n",
       "      <td>0.85</td>\n",
       "      <td>United Kingdom</td>\n",
       "      <td>1.70</td>\n",
       "    </tr>\n",
       "    <tr>\n",
       "      <th>65</th>\n",
       "      <td>22355</td>\n",
       "      <td>C536543</td>\n",
       "      <td>17841.0</td>\n",
       "      <td>-1.70</td>\n",
       "      <td>548492</td>\n",
       "      <td>CHARLOTTE BAG SUKI DESIGN</td>\n",
       "      <td>2</td>\n",
       "      <td>2011-03-31 13:14:00</td>\n",
       "      <td>0.85</td>\n",
       "      <td>United Kingdom</td>\n",
       "      <td>1.70</td>\n",
       "    </tr>\n",
       "    <tr>\n",
       "      <th>66</th>\n",
       "      <td>22355</td>\n",
       "      <td>C536543</td>\n",
       "      <td>17841.0</td>\n",
       "      <td>-1.70</td>\n",
       "      <td>549014</td>\n",
       "      <td>CHARLOTTE BAG SUKI DESIGN</td>\n",
       "      <td>2</td>\n",
       "      <td>2011-04-05 15:00:00</td>\n",
       "      <td>0.85</td>\n",
       "      <td>United Kingdom</td>\n",
       "      <td>1.70</td>\n",
       "    </tr>\n",
       "    <tr>\n",
       "      <th>69</th>\n",
       "      <td>22355</td>\n",
       "      <td>C536543</td>\n",
       "      <td>17841.0</td>\n",
       "      <td>-1.70</td>\n",
       "      <td>550359</td>\n",
       "      <td>CHARLOTTE BAG SUKI DESIGN</td>\n",
       "      <td>2</td>\n",
       "      <td>2011-04-18 10:41:00</td>\n",
       "      <td>0.85</td>\n",
       "      <td>United Kingdom</td>\n",
       "      <td>1.70</td>\n",
       "    </tr>\n",
       "    <tr>\n",
       "      <th>75</th>\n",
       "      <td>22355</td>\n",
       "      <td>C536543</td>\n",
       "      <td>17841.0</td>\n",
       "      <td>-1.70</td>\n",
       "      <td>554942</td>\n",
       "      <td>CHARLOTTE BAG SUKI DESIGN</td>\n",
       "      <td>2</td>\n",
       "      <td>2011-05-27 14:01:00</td>\n",
       "      <td>0.85</td>\n",
       "      <td>United Kingdom</td>\n",
       "      <td>1.70</td>\n",
       "    </tr>\n",
       "    <tr>\n",
       "      <th>...</th>\n",
       "      <td>...</td>\n",
       "      <td>...</td>\n",
       "      <td>...</td>\n",
       "      <td>...</td>\n",
       "      <td>...</td>\n",
       "      <td>...</td>\n",
       "      <td>...</td>\n",
       "      <td>...</td>\n",
       "      <td>...</td>\n",
       "      <td>...</td>\n",
       "      <td>...</td>\n",
       "    </tr>\n",
       "    <tr>\n",
       "      <th>66523</th>\n",
       "      <td>23462</td>\n",
       "      <td>C581409</td>\n",
       "      <td>12476.0</td>\n",
       "      <td>-19.95</td>\n",
       "      <td>578472</td>\n",
       "      <td>ROCOCO WALL MIRROR WHITE</td>\n",
       "      <td>1</td>\n",
       "      <td>2011-11-24 12:40:00</td>\n",
       "      <td>19.95</td>\n",
       "      <td>Germany</td>\n",
       "      <td>19.95</td>\n",
       "    </tr>\n",
       "    <tr>\n",
       "      <th>66537</th>\n",
       "      <td>85127</td>\n",
       "      <td>C581409</td>\n",
       "      <td>12476.0</td>\n",
       "      <td>-24.75</td>\n",
       "      <td>578472</td>\n",
       "      <td>SMALL SQUARE CUT GLASS CANDLESTICK</td>\n",
       "      <td>5</td>\n",
       "      <td>2011-11-24 12:40:00</td>\n",
       "      <td>4.95</td>\n",
       "      <td>Germany</td>\n",
       "      <td>24.75</td>\n",
       "    </tr>\n",
       "    <tr>\n",
       "      <th>66559</th>\n",
       "      <td>16219</td>\n",
       "      <td>C581462</td>\n",
       "      <td>12985.0</td>\n",
       "      <td>-2.88</td>\n",
       "      <td>575868</td>\n",
       "      <td>HOUSE SHAPE PENCIL SHARPENER</td>\n",
       "      <td>48</td>\n",
       "      <td>2011-11-11 12:44:00</td>\n",
       "      <td>0.06</td>\n",
       "      <td>United Kingdom</td>\n",
       "      <td>2.88</td>\n",
       "    </tr>\n",
       "    <tr>\n",
       "      <th>66561</th>\n",
       "      <td>21642</td>\n",
       "      <td>C581462</td>\n",
       "      <td>12985.0</td>\n",
       "      <td>-20.88</td>\n",
       "      <td>575868</td>\n",
       "      <td>ASSORTED TUTTI FRUTTI PEN</td>\n",
       "      <td>72</td>\n",
       "      <td>2011-11-11 12:44:00</td>\n",
       "      <td>0.29</td>\n",
       "      <td>United Kingdom</td>\n",
       "      <td>20.88</td>\n",
       "    </tr>\n",
       "    <tr>\n",
       "      <th>66606</th>\n",
       "      <td>23843</td>\n",
       "      <td>C581484</td>\n",
       "      <td>16446.0</td>\n",
       "      <td>-168469.60</td>\n",
       "      <td>581483</td>\n",
       "      <td>PAPER CRAFT , LITTLE BIRDIE</td>\n",
       "      <td>80995</td>\n",
       "      <td>2011-12-09 09:15:00</td>\n",
       "      <td>2.08</td>\n",
       "      <td>United Kingdom</td>\n",
       "      <td>168469.60</td>\n",
       "    </tr>\n",
       "  </tbody>\n",
       "</table>\n",
       "<p>6074 rows × 11 columns</p>\n",
       "</div>"
      ],
      "text/plain": [
       "      StockCode InvoiceNo_x  CustomerID    price_x InvoiceNo_y  \\\n",
       "63        22355     C536543     17841.0      -1.70      546543   \n",
       "65        22355     C536543     17841.0      -1.70      548492   \n",
       "66        22355     C536543     17841.0      -1.70      549014   \n",
       "69        22355     C536543     17841.0      -1.70      550359   \n",
       "75        22355     C536543     17841.0      -1.70      554942   \n",
       "...         ...         ...         ...        ...         ...   \n",
       "66523     23462     C581409     12476.0     -19.95      578472   \n",
       "66537     85127     C581409     12476.0     -24.75      578472   \n",
       "66559     16219     C581462     12985.0      -2.88      575868   \n",
       "66561     21642     C581462     12985.0     -20.88      575868   \n",
       "66606     23843     C581484     16446.0 -168469.60      581483   \n",
       "\n",
       "                              Description  Quantity         InvoiceDate  \\\n",
       "63              CHARLOTTE BAG SUKI DESIGN         2 2011-03-14 15:40:00   \n",
       "65              CHARLOTTE BAG SUKI DESIGN         2 2011-03-31 13:14:00   \n",
       "66              CHARLOTTE BAG SUKI DESIGN         2 2011-04-05 15:00:00   \n",
       "69              CHARLOTTE BAG SUKI DESIGN         2 2011-04-18 10:41:00   \n",
       "75              CHARLOTTE BAG SUKI DESIGN         2 2011-05-27 14:01:00   \n",
       "...                                   ...       ...                 ...   \n",
       "66523            ROCOCO WALL MIRROR WHITE         1 2011-11-24 12:40:00   \n",
       "66537  SMALL SQUARE CUT GLASS CANDLESTICK         5 2011-11-24 12:40:00   \n",
       "66559        HOUSE SHAPE PENCIL SHARPENER        48 2011-11-11 12:44:00   \n",
       "66561           ASSORTED TUTTI FRUTTI PEN        72 2011-11-11 12:44:00   \n",
       "66606         PAPER CRAFT , LITTLE BIRDIE     80995 2011-12-09 09:15:00   \n",
       "\n",
       "       UnitPrice         Country    price_y  \n",
       "63          0.85  United Kingdom       1.70  \n",
       "65          0.85  United Kingdom       1.70  \n",
       "66          0.85  United Kingdom       1.70  \n",
       "69          0.85  United Kingdom       1.70  \n",
       "75          0.85  United Kingdom       1.70  \n",
       "...          ...             ...        ...  \n",
       "66523      19.95         Germany      19.95  \n",
       "66537       4.95         Germany      24.75  \n",
       "66559       0.06  United Kingdom       2.88  \n",
       "66561       0.29  United Kingdom      20.88  \n",
       "66606       2.08  United Kingdom  168469.60  \n",
       "\n",
       "[6074 rows x 11 columns]"
      ]
     },
     "execution_count": 21,
     "metadata": {},
     "output_type": "execute_result"
    }
   ],
   "source": [
    "neg_invoice_df= neg_invoice_df.merge(invoice_df, how='left', on=['StockCode','CustomerID'])\n",
    "neg_invoice_df[abs(neg_invoice_df.price_x) == neg_invoice_df.price_y]"
   ]
  }
 ],
 "metadata": {
  "kernelspec": {
   "display_name": "Python 3 (ipykernel)",
   "language": "python",
   "name": "python3"
  },
  "language_info": {
   "codemirror_mode": {
    "name": "ipython",
    "version": 3
   },
   "file_extension": ".py",
   "mimetype": "text/x-python",
   "name": "python",
   "nbconvert_exporter": "python",
   "pygments_lexer": "ipython3",
   "version": "3.11.5"
  }
 },
 "nbformat": 4,
 "nbformat_minor": 5
}

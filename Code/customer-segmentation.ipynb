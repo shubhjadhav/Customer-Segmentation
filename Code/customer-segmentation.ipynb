{
 "cells": [
  {
   "cell_type": "markdown",
   "id": "b5d0469f",
   "metadata": {
    "id": "b5d0469f"
   },
   "source": [
    "# <div style=\"padding:15px; background-color:#26344e; font-family:JetBrains Mono; font-weight:bold; color:#f2f2f0; font-size:100%; letter-spacing: 2px; text-align:center; border-radius: 10px 10px\">Customer Segmentation</div>"
   ]
  },
  {
   "cell_type": "code",
   "execution_count": 229,
   "id": "initial_id",
   "metadata": {
    "ExecuteTime": {
     "end_time": "2023-11-25T19:16:51.689297Z",
     "start_time": "2023-11-25T19:16:51.670540Z"
    },
    "executionInfo": {
     "elapsed": 2133,
     "status": "ok",
     "timestamp": 1700947820951,
     "user": {
      "displayName": "Shubham Jadhav",
      "userId": "12711481419768883733"
     },
     "user_tz": 300
    },
    "id": "initial_id",
    "tags": []
   },
   "outputs": [],
   "source": [
    "import helperfunction as hf\n",
    "import importlib\n",
    "importlib.reload(hf)\n",
    "import matplotlib.pyplot as plt\n",
    "import seaborn as sns\n",
    "import plotly.graph_objs as go\n",
    "from plotly.offline import init_notebook_mode,iplot\n",
    "import pandas as pd\n",
    "import numpy as np\n",
    "import warnings\n",
    "warnings.filterwarnings(\"ignore\")\n",
    "from sklearn.cluster import KMeans\n",
    "from sklearn.metrics import silhouette_samples, silhouette_score\n",
    "from sklearn.feature_extraction.text import TfidfVectorizer"
   ]
  },
  {
   "cell_type": "code",
   "execution_count": 2,
   "id": "445777ed9d891b",
   "metadata": {
    "ExecuteTime": {
     "end_time": "2023-11-25T19:16:54.332498Z",
     "start_time": "2023-11-25T19:16:51.687203Z"
    },
    "executionInfo": {
     "elapsed": 8,
     "status": "ok",
     "timestamp": 1700947820952,
     "user": {
      "displayName": "Shubham Jadhav",
      "userId": "12711481419768883733"
     },
     "user_tz": 300
    },
    "id": "445777ed9d891b",
    "tags": []
   },
   "outputs": [
    {
     "name": "stdout",
     "output_type": "stream",
     "text": [
      "Current work Directory /Users/shubhamjadhav/Library/CloudStorage/GoogleDrive-shubhamjadhav@gwmail.gwu.edu/My Drive/MS/Coursework/3. Fall 2023/DM/Term Project/Customer-Segmentation/Code\n",
      "File Path is  /Users/shubhamjadhav/Library/CloudStorage/GoogleDrive-shubhamjadhav@gwmail.gwu.edu/My Drive/MS/Coursework/3. Fall 2023/DM/Term Project/Customer-Segmentation/Code/invoice_data\n"
     ]
    },
    {
     "data": {
      "text/html": [
       "<div>\n",
       "<style scoped>\n",
       "    .dataframe tbody tr th:only-of-type {\n",
       "        vertical-align: middle;\n",
       "    }\n",
       "\n",
       "    .dataframe tbody tr th {\n",
       "        vertical-align: top;\n",
       "    }\n",
       "\n",
       "    .dataframe thead th {\n",
       "        text-align: right;\n",
       "    }\n",
       "</style>\n",
       "<table border=\"1\" class=\"dataframe\">\n",
       "  <thead>\n",
       "    <tr style=\"text-align: right;\">\n",
       "      <th></th>\n",
       "      <th>InvoiceNo</th>\n",
       "      <th>StockCode</th>\n",
       "      <th>Description</th>\n",
       "      <th>Quantity</th>\n",
       "      <th>InvoiceDate</th>\n",
       "      <th>UnitPrice</th>\n",
       "      <th>CustomerID</th>\n",
       "      <th>Country</th>\n",
       "    </tr>\n",
       "  </thead>\n",
       "  <tbody>\n",
       "    <tr>\n",
       "      <th>0</th>\n",
       "      <td>536365</td>\n",
       "      <td>85123A</td>\n",
       "      <td>WHITE HANGING HEART T-LIGHT HOLDER</td>\n",
       "      <td>6</td>\n",
       "      <td>2010-12-01 08:26:00</td>\n",
       "      <td>2.55</td>\n",
       "      <td>17850.0</td>\n",
       "      <td>United Kingdom</td>\n",
       "    </tr>\n",
       "    <tr>\n",
       "      <th>1</th>\n",
       "      <td>536365</td>\n",
       "      <td>71053</td>\n",
       "      <td>WHITE METAL LANTERN</td>\n",
       "      <td>6</td>\n",
       "      <td>2010-12-01 08:26:00</td>\n",
       "      <td>3.39</td>\n",
       "      <td>17850.0</td>\n",
       "      <td>United Kingdom</td>\n",
       "    </tr>\n",
       "    <tr>\n",
       "      <th>2</th>\n",
       "      <td>536365</td>\n",
       "      <td>84406B</td>\n",
       "      <td>CREAM CUPID HEARTS COAT HANGER</td>\n",
       "      <td>8</td>\n",
       "      <td>2010-12-01 08:26:00</td>\n",
       "      <td>2.75</td>\n",
       "      <td>17850.0</td>\n",
       "      <td>United Kingdom</td>\n",
       "    </tr>\n",
       "    <tr>\n",
       "      <th>3</th>\n",
       "      <td>536365</td>\n",
       "      <td>84029G</td>\n",
       "      <td>KNITTED UNION FLAG HOT WATER BOTTLE</td>\n",
       "      <td>6</td>\n",
       "      <td>2010-12-01 08:26:00</td>\n",
       "      <td>3.39</td>\n",
       "      <td>17850.0</td>\n",
       "      <td>United Kingdom</td>\n",
       "    </tr>\n",
       "    <tr>\n",
       "      <th>4</th>\n",
       "      <td>536365</td>\n",
       "      <td>84029E</td>\n",
       "      <td>RED WOOLLY HOTTIE WHITE HEART.</td>\n",
       "      <td>6</td>\n",
       "      <td>2010-12-01 08:26:00</td>\n",
       "      <td>3.39</td>\n",
       "      <td>17850.0</td>\n",
       "      <td>United Kingdom</td>\n",
       "    </tr>\n",
       "  </tbody>\n",
       "</table>\n",
       "</div>"
      ],
      "text/plain": [
       "  InvoiceNo StockCode                          Description  Quantity  \\\n",
       "0    536365    85123A   WHITE HANGING HEART T-LIGHT HOLDER         6   \n",
       "1    536365     71053                  WHITE METAL LANTERN         6   \n",
       "2    536365    84406B       CREAM CUPID HEARTS COAT HANGER         8   \n",
       "3    536365    84029G  KNITTED UNION FLAG HOT WATER BOTTLE         6   \n",
       "4    536365    84029E       RED WOOLLY HOTTIE WHITE HEART.         6   \n",
       "\n",
       "          InvoiceDate  UnitPrice  CustomerID         Country  \n",
       "0 2010-12-01 08:26:00       2.55     17850.0  United Kingdom  \n",
       "1 2010-12-01 08:26:00       3.39     17850.0  United Kingdom  \n",
       "2 2010-12-01 08:26:00       2.75     17850.0  United Kingdom  \n",
       "3 2010-12-01 08:26:00       3.39     17850.0  United Kingdom  \n",
       "4 2010-12-01 08:26:00       3.39     17850.0  United Kingdom  "
      ]
     },
     "execution_count": 2,
     "metadata": {},
     "output_type": "execute_result"
    }
   ],
   "source": [
    "invoice_df = hf.create_df('invoice_data')\n",
    "invoice_df.head()"
   ]
  },
  {
   "cell_type": "code",
   "execution_count": 3,
   "id": "XB9FD4iQY3ti",
   "metadata": {
    "executionInfo": {
     "elapsed": 2568,
     "status": "ok",
     "timestamp": 1700947823514,
     "user": {
      "displayName": "Shubham Jadhav",
      "userId": "12711481419768883733"
     },
     "user_tz": 300
    },
    "id": "XB9FD4iQY3ti"
   },
   "outputs": [],
   "source": [
    "# invoice_df = pd.read_csv('invoice_data.csv', encoding='unicode_escape')\n",
    "# invoice_df['InvoiceDate'] = pd.to_datetime(invoice_df['InvoiceDate'])"
   ]
  },
  {
   "cell_type": "code",
   "execution_count": 4,
   "id": "179c756b",
   "metadata": {
    "ExecuteTime": {
     "end_time": "2023-11-25T19:16:54.466938Z",
     "start_time": "2023-11-25T19:16:54.351327Z"
    },
    "colab": {
     "base_uri": "https://localhost:8080/"
    },
    "executionInfo": {
     "elapsed": 130,
     "status": "ok",
     "timestamp": 1700947823618,
     "user": {
      "displayName": "Shubham Jadhav",
      "userId": "12711481419768883733"
     },
     "user_tz": 300
    },
    "id": "179c756b",
    "outputId": "97bd764d-2af5-4671-afe0-ffe350da19fe",
    "tags": []
   },
   "outputs": [
    {
     "name": "stdout",
     "output_type": "stream",
     "text": [
      "Total observations (records): 541909\n",
      "\n",
      "Total features: 8\n",
      "\n",
      "Number of Invoices: 25900\n",
      "\n",
      "Number of Products: 4070\n",
      "\n",
      "Number of Customers: 4372\n",
      "\n",
      "Number of Countries: 38\n",
      "\n",
      "Minimum Date: 2010-12-01 08:26:00 - Maximum Date: 2011-12-09 12:50:00\n"
     ]
    }
   ],
   "source": [
    "print(f\"Total observations (records): {invoice_df.shape[0]}\")\n",
    "print(f\"\\nTotal features: {invoice_df.shape[1]}\")\n",
    "print(f\"\\nNumber of Invoices: {invoice_df['InvoiceNo'].nunique()}\")\n",
    "print(f\"\\nNumber of Products: {invoice_df['StockCode'].nunique()}\")\n",
    "print(f\"\\nNumber of Customers: {invoice_df['CustomerID'].nunique()}\")\n",
    "print(f\"\\nNumber of Countries: {invoice_df['Country'].nunique()}\")\n",
    "print(f\"\\nMinimum Date: {invoice_df['InvoiceDate'].min()} - Maximum Date: {invoice_df['InvoiceDate'].max()}\")"
   ]
  },
  {
   "cell_type": "code",
   "execution_count": 5,
   "id": "64752fc61d54258c",
   "metadata": {
    "ExecuteTime": {
     "end_time": "2023-11-25T19:16:54.776776Z",
     "start_time": "2023-11-25T19:16:54.449449Z"
    },
    "colab": {
     "base_uri": "https://localhost:8080/"
    },
    "executionInfo": {
     "elapsed": 338,
     "status": "ok",
     "timestamp": 1700947823952,
     "user": {
      "displayName": "Shubham Jadhav",
      "userId": "12711481419768883733"
     },
     "user_tz": 300
    },
    "id": "64752fc61d54258c",
    "outputId": "d79f6d40-9c4a-4182-99a2-ad8854620fa8",
    "tags": []
   },
   "outputs": [
    {
     "data": {
      "text/plain": [
       "InvoiceNo           0\n",
       "StockCode           0\n",
       "Description      1454\n",
       "Quantity            0\n",
       "InvoiceDate         0\n",
       "UnitPrice           0\n",
       "CustomerID     135080\n",
       "Country             0\n",
       "dtype: int64"
      ]
     },
     "execution_count": 5,
     "metadata": {},
     "output_type": "execute_result"
    }
   ],
   "source": [
    "invoice_df.isnull().sum()"
   ]
  },
  {
   "cell_type": "code",
   "execution_count": 6,
   "id": "41a927a7",
   "metadata": {
    "ExecuteTime": {
     "end_time": "2023-11-25T19:16:54.869273Z",
     "start_time": "2023-11-25T19:16:54.779256Z"
    },
    "colab": {
     "base_uri": "https://localhost:8080/",
     "height": 300
    },
    "executionInfo": {
     "elapsed": 148,
     "status": "ok",
     "timestamp": 1700947824096,
     "user": {
      "displayName": "Shubham Jadhav",
      "userId": "12711481419768883733"
     },
     "user_tz": 300
    },
    "id": "41a927a7",
    "outputId": "5b0c0a83-fe99-4126-b9e6-5209608a2977",
    "tags": []
   },
   "outputs": [
    {
     "data": {
      "text/html": [
       "<div>\n",
       "<style scoped>\n",
       "    .dataframe tbody tr th:only-of-type {\n",
       "        vertical-align: middle;\n",
       "    }\n",
       "\n",
       "    .dataframe tbody tr th {\n",
       "        vertical-align: top;\n",
       "    }\n",
       "\n",
       "    .dataframe thead th {\n",
       "        text-align: right;\n",
       "    }\n",
       "</style>\n",
       "<table border=\"1\" class=\"dataframe\">\n",
       "  <thead>\n",
       "    <tr style=\"text-align: right;\">\n",
       "      <th></th>\n",
       "      <th>Quantity</th>\n",
       "      <th>UnitPrice</th>\n",
       "      <th>CustomerID</th>\n",
       "    </tr>\n",
       "  </thead>\n",
       "  <tbody>\n",
       "    <tr>\n",
       "      <th>count</th>\n",
       "      <td>541909.000000</td>\n",
       "      <td>541909.000000</td>\n",
       "      <td>406829.000000</td>\n",
       "    </tr>\n",
       "    <tr>\n",
       "      <th>mean</th>\n",
       "      <td>9.552250</td>\n",
       "      <td>4.611114</td>\n",
       "      <td>15287.690570</td>\n",
       "    </tr>\n",
       "    <tr>\n",
       "      <th>std</th>\n",
       "      <td>218.081158</td>\n",
       "      <td>96.759853</td>\n",
       "      <td>1713.600303</td>\n",
       "    </tr>\n",
       "    <tr>\n",
       "      <th>min</th>\n",
       "      <td>-80995.000000</td>\n",
       "      <td>-11062.060000</td>\n",
       "      <td>12346.000000</td>\n",
       "    </tr>\n",
       "    <tr>\n",
       "      <th>25%</th>\n",
       "      <td>1.000000</td>\n",
       "      <td>1.250000</td>\n",
       "      <td>13953.000000</td>\n",
       "    </tr>\n",
       "    <tr>\n",
       "      <th>50%</th>\n",
       "      <td>3.000000</td>\n",
       "      <td>2.080000</td>\n",
       "      <td>15152.000000</td>\n",
       "    </tr>\n",
       "    <tr>\n",
       "      <th>75%</th>\n",
       "      <td>10.000000</td>\n",
       "      <td>4.130000</td>\n",
       "      <td>16791.000000</td>\n",
       "    </tr>\n",
       "    <tr>\n",
       "      <th>max</th>\n",
       "      <td>80995.000000</td>\n",
       "      <td>38970.000000</td>\n",
       "      <td>18287.000000</td>\n",
       "    </tr>\n",
       "  </tbody>\n",
       "</table>\n",
       "</div>"
      ],
      "text/plain": [
       "            Quantity      UnitPrice     CustomerID\n",
       "count  541909.000000  541909.000000  406829.000000\n",
       "mean        9.552250       4.611114   15287.690570\n",
       "std       218.081158      96.759853    1713.600303\n",
       "min    -80995.000000  -11062.060000   12346.000000\n",
       "25%         1.000000       1.250000   13953.000000\n",
       "50%         3.000000       2.080000   15152.000000\n",
       "75%        10.000000       4.130000   16791.000000\n",
       "max     80995.000000   38970.000000   18287.000000"
      ]
     },
     "execution_count": 6,
     "metadata": {},
     "output_type": "execute_result"
    }
   ],
   "source": [
    "invoice_df.describe()"
   ]
  },
  {
   "cell_type": "code",
   "execution_count": 7,
   "id": "4e99ff86",
   "metadata": {
    "ExecuteTime": {
     "end_time": "2023-11-25T19:16:54.908873Z",
     "start_time": "2023-11-25T19:16:54.875247Z"
    },
    "colab": {
     "base_uri": "https://localhost:8080/"
    },
    "executionInfo": {
     "elapsed": 9,
     "status": "ok",
     "timestamp": 1700947824096,
     "user": {
      "displayName": "Shubham Jadhav",
      "userId": "12711481419768883733"
     },
     "user_tz": 300
    },
    "id": "4e99ff86",
    "outputId": "da239491-c566-4bc9-b049-31a10b840d1b",
    "tags": []
   },
   "outputs": [
    {
     "name": "stdout",
     "output_type": "stream",
     "text": [
      "Number of Observations with negative Quantity: 10624\n"
     ]
    }
   ],
   "source": [
    "print(f\"Number of Observations with negative Quantity: {invoice_df[(invoice_df.Quantity<0)].shape[0]}\")"
   ]
  },
  {
   "cell_type": "code",
   "execution_count": 8,
   "id": "f2792798",
   "metadata": {
    "ExecuteTime": {
     "end_time": "2023-11-25T19:16:55.012641Z",
     "start_time": "2023-11-25T19:16:54.889644Z"
    },
    "colab": {
     "base_uri": "https://localhost:8080/"
    },
    "executionInfo": {
     "elapsed": 8,
     "status": "ok",
     "timestamp": 1700947824096,
     "user": {
      "displayName": "Shubham Jadhav",
      "userId": "12711481419768883733"
     },
     "user_tz": 300
    },
    "id": "f2792798",
    "outputId": "c5cd2b71-2443-40de-9193-f4d282c546a4",
    "tags": []
   },
   "outputs": [
    {
     "name": "stdout",
     "output_type": "stream",
     "text": [
      "\n",
      "Min Basket Price: -168469.6\n",
      "Max Basket Price: 168469.6\n"
     ]
    }
   ],
   "source": [
    "invoice_w_price_df = invoice_df.copy(deep=True)\n",
    "invoice_w_price_df['price'] = invoice_df['Quantity']*invoice_df['UnitPrice']\n",
    "temp = invoice_w_price_df[['InvoiceNo','price']].groupby(['InvoiceNo']).sum().reset_index()\n",
    "print(f\"\\nMin Basket Price: {temp.price.min()}\")\n",
    "print(f\"Max Basket Price: {temp.price.max()}\")"
   ]
  },
  {
   "cell_type": "code",
   "execution_count": 9,
   "id": "d4e8981b",
   "metadata": {
    "ExecuteTime": {
     "end_time": "2023-11-25T19:16:55.038584Z",
     "start_time": "2023-11-25T19:16:54.999380Z"
    },
    "colab": {
     "base_uri": "https://localhost:8080/"
    },
    "executionInfo": {
     "elapsed": 8,
     "status": "ok",
     "timestamp": 1700947824097,
     "user": {
      "displayName": "Shubham Jadhav",
      "userId": "12711481419768883733"
     },
     "user_tz": 300
    },
    "id": "d4e8981b",
    "outputId": "a69c6537-339f-4303-8334-cc6bed1439d8",
    "tags": []
   },
   "outputs": [
    {
     "name": "stdout",
     "output_type": "stream",
     "text": [
      "      CustomerID      price\n",
      "1703     14646.0  279489.02\n",
      "4233     18102.0  256438.49\n",
      "3758     17450.0  187482.17\n",
      "1895     14911.0  132572.62\n",
      "55       12415.0  123725.45\n",
      "\n",
      "Min Purchase by customer: -4287.63\n",
      "Max Purchase customer: 279489.02\n"
     ]
    }
   ],
   "source": [
    "temp = invoice_w_price_df[['CustomerID','price']].groupby(['CustomerID']).sum().reset_index()\n",
    "print(temp.sort_values(by='price', ascending=0).head())\n",
    "print(f\"\\nMin Purchase by customer: {temp.price.min()}\")\n",
    "print(f\"Max Purchase customer: {temp.price.max()}\")"
   ]
  },
  {
   "cell_type": "code",
   "execution_count": 10,
   "id": "6efbac4e",
   "metadata": {
    "ExecuteTime": {
     "end_time": "2023-11-25T19:16:55.095160Z",
     "start_time": "2023-11-25T19:16:55.022803Z"
    },
    "colab": {
     "base_uri": "https://localhost:8080/"
    },
    "executionInfo": {
     "elapsed": 194,
     "status": "ok",
     "timestamp": 1700947824285,
     "user": {
      "displayName": "Shubham Jadhav",
      "userId": "12711481419768883733"
     },
     "user_tz": 300
    },
    "id": "6efbac4e",
    "outputId": "70d5a414-0306-47a5-fd3b-b5df2f22fd9a",
    "tags": []
   },
   "outputs": [
    {
     "name": "stdout",
     "output_type": "stream",
     "text": [
      "\n",
      "Avg customer span: 133 days 17:25:29.204025618\n"
     ]
    }
   ],
   "source": [
    "temp = invoice_df.groupby('CustomerID')['InvoiceDate'].agg(['first', 'last'])\n",
    "temp['Date_Difference'] = temp['last'] - temp['first']\n",
    "print(f\"\\nAvg customer span: {temp['Date_Difference'].mean()}\")"
   ]
  },
  {
   "cell_type": "code",
   "execution_count": 11,
   "id": "e9423424",
   "metadata": {
    "ExecuteTime": {
     "end_time": "2023-11-25T19:16:55.165800Z",
     "start_time": "2023-11-25T19:16:55.050399Z"
    },
    "colab": {
     "base_uri": "https://localhost:8080/"
    },
    "executionInfo": {
     "elapsed": 4,
     "status": "ok",
     "timestamp": 1700947824285,
     "user": {
      "displayName": "Shubham Jadhav",
      "userId": "12711481419768883733"
     },
     "user_tz": 300
    },
    "id": "e9423424",
    "outputId": "f1a9da0a-33fa-4b3e-ad66-44d597e8568b",
    "tags": []
   },
   "outputs": [
    {
     "name": "stdout",
     "output_type": "stream",
     "text": [
      "\n",
      "Min Quantity by InvoiceNo: -80995\n",
      "Max Quantity by InvoiceNo: 80995\n"
     ]
    }
   ],
   "source": [
    "temp = invoice_df[['InvoiceNo','Quantity']].groupby(['InvoiceNo']).sum().reset_index()\n",
    "print(f\"\\nMin Quantity by InvoiceNo: {temp.Quantity.min()}\")\n",
    "print(f\"Max Quantity by InvoiceNo: {temp.Quantity.max()}\")"
   ]
  },
  {
   "cell_type": "markdown",
   "id": "6ac7651c",
   "metadata": {
    "id": "6ac7651c",
    "tags": []
   },
   "source": [
    "# PreProcessing"
   ]
  },
  {
   "cell_type": "code",
   "execution_count": 12,
   "id": "675b40dc",
   "metadata": {
    "ExecuteTime": {
     "end_time": "2023-11-25T19:16:55.481358Z",
     "start_time": "2023-11-25T19:16:55.134329Z"
    },
    "colab": {
     "base_uri": "https://localhost:8080/"
    },
    "executionInfo": {
     "elapsed": 299,
     "status": "ok",
     "timestamp": 1700947824581,
     "user": {
      "displayName": "Shubham Jadhav",
      "userId": "12711481419768883733"
     },
     "user_tz": 300
    },
    "id": "675b40dc",
    "outputId": "b52f182b-003d-4a72-a789-5c211cdd4b29"
   },
   "outputs": [
    {
     "data": {
      "text/plain": [
       "(536641, 8)"
      ]
     },
     "execution_count": 12,
     "metadata": {},
     "output_type": "execute_result"
    }
   ],
   "source": [
    "invoice_df.drop_duplicates(inplace=True, keep='first')\n",
    "invoice_df.shape"
   ]
  },
  {
   "cell_type": "markdown",
   "id": "9277acd8-bb8c-4252-84ae-33cc42e17478",
   "metadata": {
    "id": "9277acd8-bb8c-4252-84ae-33cc42e17478",
    "tags": []
   },
   "source": [
    "### Handling Missing Values"
   ]
  },
  {
   "cell_type": "code",
   "execution_count": 13,
   "id": "63126ccc",
   "metadata": {
    "ExecuteTime": {
     "end_time": "2023-11-25T19:16:55.496350Z",
     "start_time": "2023-11-25T19:16:55.474364Z"
    },
    "colab": {
     "base_uri": "https://localhost:8080/"
    },
    "executionInfo": {
     "elapsed": 6,
     "status": "ok",
     "timestamp": 1700947824581,
     "user": {
      "displayName": "Shubham Jadhav",
      "userId": "12711481419768883733"
     },
     "user_tz": 300
    },
    "id": "63126ccc",
    "outputId": "13b0cd47-7eb5-4b3f-83eb-b7733f54accc",
    "tags": []
   },
   "outputs": [
    {
     "name": "stdout",
     "output_type": "stream",
     "text": [
      "Number of observations with NULL CustomerID: 135037\n"
     ]
    }
   ],
   "source": [
    "print(f\"Number of observations with NULL CustomerID: {invoice_df[invoice_df.CustomerID.isnull()].shape[0]}\")"
   ]
  },
  {
   "cell_type": "code",
   "execution_count": 14,
   "id": "b01394b3-535f-4a49-951f-e70b706d4508",
   "metadata": {
    "ExecuteTime": {
     "end_time": "2023-11-25T19:16:55.556511Z",
     "start_time": "2023-11-25T19:16:55.491702Z"
    },
    "colab": {
     "base_uri": "https://localhost:8080/",
     "height": 206
    },
    "executionInfo": {
     "elapsed": 5,
     "status": "ok",
     "timestamp": 1700947824581,
     "user": {
      "displayName": "Shubham Jadhav",
      "userId": "12711481419768883733"
     },
     "user_tz": 300
    },
    "id": "b01394b3-535f-4a49-951f-e70b706d4508",
    "outputId": "b6549e6b-c4d3-4cbc-9df4-b0454f888724",
    "tags": []
   },
   "outputs": [
    {
     "data": {
      "text/html": [
       "<div>\n",
       "<style scoped>\n",
       "    .dataframe tbody tr th:only-of-type {\n",
       "        vertical-align: middle;\n",
       "    }\n",
       "\n",
       "    .dataframe tbody tr th {\n",
       "        vertical-align: top;\n",
       "    }\n",
       "\n",
       "    .dataframe thead th {\n",
       "        text-align: right;\n",
       "    }\n",
       "</style>\n",
       "<table border=\"1\" class=\"dataframe\">\n",
       "  <thead>\n",
       "    <tr style=\"text-align: right;\">\n",
       "      <th></th>\n",
       "      <th>InvoiceNo</th>\n",
       "      <th>StockCode</th>\n",
       "      <th>Description</th>\n",
       "      <th>Quantity</th>\n",
       "      <th>InvoiceDate</th>\n",
       "      <th>UnitPrice</th>\n",
       "      <th>CustomerID</th>\n",
       "      <th>Country</th>\n",
       "    </tr>\n",
       "  </thead>\n",
       "  <tbody>\n",
       "    <tr>\n",
       "      <th>622</th>\n",
       "      <td>536414</td>\n",
       "      <td>22139</td>\n",
       "      <td>NaN</td>\n",
       "      <td>56</td>\n",
       "      <td>2010-12-01 11:52:00</td>\n",
       "      <td>0.00</td>\n",
       "      <td>NaN</td>\n",
       "      <td>United Kingdom</td>\n",
       "    </tr>\n",
       "    <tr>\n",
       "      <th>1443</th>\n",
       "      <td>536544</td>\n",
       "      <td>21773</td>\n",
       "      <td>DECORATIVE ROSE BATHROOM BOTTLE</td>\n",
       "      <td>1</td>\n",
       "      <td>2010-12-01 14:32:00</td>\n",
       "      <td>2.51</td>\n",
       "      <td>NaN</td>\n",
       "      <td>United Kingdom</td>\n",
       "    </tr>\n",
       "    <tr>\n",
       "      <th>1444</th>\n",
       "      <td>536544</td>\n",
       "      <td>21774</td>\n",
       "      <td>DECORATIVE CATS BATHROOM BOTTLE</td>\n",
       "      <td>2</td>\n",
       "      <td>2010-12-01 14:32:00</td>\n",
       "      <td>2.51</td>\n",
       "      <td>NaN</td>\n",
       "      <td>United Kingdom</td>\n",
       "    </tr>\n",
       "    <tr>\n",
       "      <th>1445</th>\n",
       "      <td>536544</td>\n",
       "      <td>21786</td>\n",
       "      <td>POLKADOT RAIN HAT</td>\n",
       "      <td>4</td>\n",
       "      <td>2010-12-01 14:32:00</td>\n",
       "      <td>0.85</td>\n",
       "      <td>NaN</td>\n",
       "      <td>United Kingdom</td>\n",
       "    </tr>\n",
       "    <tr>\n",
       "      <th>1446</th>\n",
       "      <td>536544</td>\n",
       "      <td>21787</td>\n",
       "      <td>RAIN PONCHO RETROSPOT</td>\n",
       "      <td>2</td>\n",
       "      <td>2010-12-01 14:32:00</td>\n",
       "      <td>1.66</td>\n",
       "      <td>NaN</td>\n",
       "      <td>United Kingdom</td>\n",
       "    </tr>\n",
       "  </tbody>\n",
       "</table>\n",
       "</div>"
      ],
      "text/plain": [
       "     InvoiceNo StockCode                      Description  Quantity  \\\n",
       "622     536414     22139                              NaN        56   \n",
       "1443    536544     21773  DECORATIVE ROSE BATHROOM BOTTLE         1   \n",
       "1444    536544     21774  DECORATIVE CATS BATHROOM BOTTLE         2   \n",
       "1445    536544     21786               POLKADOT RAIN HAT          4   \n",
       "1446    536544     21787            RAIN PONCHO RETROSPOT         2   \n",
       "\n",
       "             InvoiceDate  UnitPrice  CustomerID         Country  \n",
       "622  2010-12-01 11:52:00       0.00         NaN  United Kingdom  \n",
       "1443 2010-12-01 14:32:00       2.51         NaN  United Kingdom  \n",
       "1444 2010-12-01 14:32:00       2.51         NaN  United Kingdom  \n",
       "1445 2010-12-01 14:32:00       0.85         NaN  United Kingdom  \n",
       "1446 2010-12-01 14:32:00       1.66         NaN  United Kingdom  "
      ]
     },
     "execution_count": 14,
     "metadata": {},
     "output_type": "execute_result"
    }
   ],
   "source": [
    "invoice_df[invoice_df.CustomerID.isnull()].head()"
   ]
  },
  {
   "cell_type": "code",
   "execution_count": 15,
   "id": "e3c185d2",
   "metadata": {
    "ExecuteTime": {
     "end_time": "2023-11-25T19:16:55.573150Z",
     "start_time": "2023-11-25T19:16:55.518124Z"
    },
    "colab": {
     "base_uri": "https://localhost:8080/"
    },
    "executionInfo": {
     "elapsed": 5,
     "status": "ok",
     "timestamp": 1700947824581,
     "user": {
      "displayName": "Shubham Jadhav",
      "userId": "12711481419768883733"
     },
     "user_tz": 300
    },
    "id": "e3c185d2",
    "outputId": "ac2101b3-8792-4516-c776-340d0daf96fa",
    "tags": []
   },
   "outputs": [
    {
     "name": "stdout",
     "output_type": "stream",
     "text": [
      "Number of Records after dropping Null CustomerID (401604, 8)\n"
     ]
    }
   ],
   "source": [
    "invoice_df.dropna(subset=['CustomerID'], inplace=True)\n",
    "print(\"Number of Records after dropping Null CustomerID\", invoice_df.shape)"
   ]
  },
  {
   "cell_type": "code",
   "execution_count": 16,
   "id": "8effa0f6-dbad-4814-81c6-8880f6a1a75a",
   "metadata": {
    "ExecuteTime": {
     "end_time": "2023-11-25T19:16:55.821129Z",
     "start_time": "2023-11-25T19:16:55.562265Z"
    },
    "colab": {
     "base_uri": "https://localhost:8080/"
    },
    "executionInfo": {
     "elapsed": 6,
     "status": "ok",
     "timestamp": 1700947824821,
     "user": {
      "displayName": "Shubham Jadhav",
      "userId": "12711481419768883733"
     },
     "user_tz": 300
    },
    "id": "8effa0f6-dbad-4814-81c6-8880f6a1a75a",
    "outputId": "1a403cf2-42dc-4c5b-8883-7dda7015a305",
    "tags": []
   },
   "outputs": [
    {
     "data": {
      "text/plain": [
       "InvoiceNo      0\n",
       "StockCode      0\n",
       "Description    0\n",
       "Quantity       0\n",
       "InvoiceDate    0\n",
       "UnitPrice      0\n",
       "CustomerID     0\n",
       "Country        0\n",
       "dtype: int64"
      ]
     },
     "execution_count": 16,
     "metadata": {},
     "output_type": "execute_result"
    }
   ],
   "source": [
    "invoice_df.isnull().sum()"
   ]
  },
  {
   "cell_type": "markdown",
   "id": "210a9a45-897f-417e-b175-81ace4166bbd",
   "metadata": {
    "id": "210a9a45-897f-417e-b175-81ace4166bbd",
    "tags": []
   },
   "source": [
    "# EDA"
   ]
  },
  {
   "cell_type": "markdown",
   "id": "70ce1be3-ebe6-4624-82d7-a21dbeab81f3",
   "metadata": {
    "id": "70ce1be3-ebe6-4624-82d7-a21dbeab81f3"
   },
   "source": [
    "## Countries"
   ]
  },
  {
   "cell_type": "code",
   "execution_count": 17,
   "id": "543539d0-fa96-4efd-bc68-6d718d5dd818",
   "metadata": {
    "ExecuteTime": {
     "end_time": "2023-11-25T19:16:55.955064Z",
     "start_time": "2023-11-25T19:16:55.823278Z"
    },
    "colab": {
     "base_uri": "https://localhost:8080/"
    },
    "executionInfo": {
     "elapsed": 186,
     "status": "ok",
     "timestamp": 1700947825003,
     "user": {
      "displayName": "Shubham Jadhav",
      "userId": "12711481419768883733"
     },
     "user_tz": 300
    },
    "id": "543539d0-fa96-4efd-bc68-6d718d5dd818",
    "outputId": "5215afe0-b3cc-4e63-90f8-bbf8abcf5c9f",
    "tags": []
   },
   "outputs": [
    {
     "name": "stdout",
     "output_type": "stream",
     "text": [
      "No Of Countries : 37\n"
     ]
    }
   ],
   "source": [
    "temp = invoice_df[['CustomerID', 'InvoiceNo', 'Country']].groupby(['CustomerID', 'InvoiceNo', 'Country']).count()\n",
    "temp = temp.reset_index(drop = False)\n",
    "countries = temp['Country'].value_counts()\n",
    "print('No Of Countries : {}'.format(len(countries)))"
   ]
  },
  {
   "cell_type": "code",
   "execution_count": 18,
   "id": "a3c01ea6-4271-4e13-9c37-8e65c71b9985",
   "metadata": {
    "ExecuteTime": {
     "end_time": "2023-11-25T19:16:55.966054Z",
     "start_time": "2023-11-25T19:16:55.957718Z"
    },
    "executionInfo": {
     "elapsed": 3,
     "status": "ok",
     "timestamp": 1700947825003,
     "user": {
      "displayName": "Shubham Jadhav",
      "userId": "12711481419768883733"
     },
     "user_tz": 300
    },
    "id": "a3c01ea6-4271-4e13-9c37-8e65c71b9985",
    "tags": []
   },
   "outputs": [],
   "source": [
    "data = dict(\n",
    "    type='choropleth',\n",
    "    locations=countries.index,\n",
    "    locationmode='country names',\n",
    "    z=countries,\n",
    "    text=countries.index,\n",
    "    colorbar={'title': '# Orders'},\n",
    "    colorscale=[\n",
    "        [0, 'rgb(224,255,255)'],\n",
    "        [0.01, 'rgb(166,206,227)'],\n",
    "        [0.02, 'rgb(31,120,180)'],\n",
    "        [0.03, 'rgb(178,223,138)'],\n",
    "        [0.05, 'rgb(51,160,44)'],\n",
    "        [0.10, 'rgb(251,154,153)'],\n",
    "        [0.20, 'rgb(255,255,0)'],\n",
    "        [1, 'rgb(227,26,28)']\n",
    "    ],\n",
    "    reversescale=False\n",
    ")\n",
    "\n",
    "layout = dict(\n",
    "    title='Number of orders per country',\n",
    "    geo=dict(showframe=True, projection={'type': 'mercator'}),\n",
    "    width=1000,  # Adjust the width of the plot\n",
    "    height=800   # Adjust the height of the plot\n",
    ")\n",
    "\n",
    "# choromap = go.Figure(data=[data], layout=layout)\n",
    "# iplot(choromap, validate=False)"
   ]
  },
  {
   "cell_type": "markdown",
   "id": "530e2c04-8c90-4aec-9997-a45e22ad3bb0",
   "metadata": {
    "id": "530e2c04-8c90-4aec-9997-a45e22ad3bb0"
   },
   "source": [
    "## Stock Code"
   ]
  },
  {
   "cell_type": "code",
   "execution_count": 19,
   "id": "5c762209-c822-4a7d-9279-e510e0f4cd25",
   "metadata": {
    "ExecuteTime": {
     "end_time": "2023-11-25T19:16:57.129463Z",
     "start_time": "2023-11-25T19:16:55.996237Z"
    },
    "colab": {
     "base_uri": "https://localhost:8080/"
    },
    "executionInfo": {
     "elapsed": 328,
     "status": "ok",
     "timestamp": 1700947825328,
     "user": {
      "displayName": "Shubham Jadhav",
      "userId": "12711481419768883733"
     },
     "user_tz": 300
    },
    "id": "5c762209-c822-4a7d-9279-e510e0f4cd25",
    "outputId": "144f4cbb-14c5-46d3-d9e9-ac7fb66ccbc9",
    "tags": []
   },
   "outputs": [
    {
     "name": "stdout",
     "output_type": "stream",
     "text": [
      "POST            -> POSTAGE                       \n",
      "D               -> Discount                      \n",
      "C2              -> CARRIAGE                      \n",
      "M               -> Manual                        \n",
      "BANK CHARGES    -> Bank Charges                  \n",
      "PADS            -> PADS TO MATCH ALL CUSHIONS    \n",
      "DOT             -> DOTCOM POSTAGE                \n",
      "CRUK            -> CRUK Commission               \n"
     ]
    }
   ],
   "source": [
    "list_special_codes = invoice_df[invoice_df['StockCode'].str.contains('^[a-zA-Z]+', regex=True)]['StockCode'].unique()\n",
    "for code in list_special_codes:\n",
    "    print(\"{:<15} -> {:<30}\".format(code, invoice_df[invoice_df['StockCode'] == code]['Description'].unique()[0]))"
   ]
  },
  {
   "cell_type": "markdown",
   "id": "8a33eb38-0057-46c5-9be8-96a51efe2f44",
   "metadata": {
    "id": "8a33eb38-0057-46c5-9be8-96a51efe2f44",
    "tags": []
   },
   "source": [
    "## Quantity"
   ]
  },
  {
   "cell_type": "code",
   "execution_count": 20,
   "id": "3e968d0f",
   "metadata": {
    "ExecuteTime": {
     "end_time": "2023-11-25T19:16:57.826979Z",
     "start_time": "2023-11-25T19:16:57.146100Z"
    },
    "colab": {
     "base_uri": "https://localhost:8080/",
     "height": 410
    },
    "executionInfo": {
     "elapsed": 411,
     "status": "ok",
     "timestamp": 1700947825736,
     "user": {
      "displayName": "Shubham Jadhav",
      "userId": "12711481419768883733"
     },
     "user_tz": 300
    },
    "id": "3e968d0f",
    "outputId": "be87c65b-a7b6-42ad-8e69-d52f13d1d3f8"
   },
   "outputs": [
    {
     "data": {
      "image/png": "[encoded data removed]",
      "text/plain": [
       "<Figure size 1000x400 with 1 Axes>"
      ]
     },
     "metadata": {},
     "output_type": "display_data"
    }
   ],
   "source": [
    "quantity_counts = invoice_df['Quantity'].value_counts()\n",
    "\n",
    "# Plot the value counts\n",
    "plt.figure(figsize=(10, 4))\n",
    "sns.histplot(quantity_counts, bins=20, kde=True, color='#033C5A')\n",
    "plt.title('Value Counts of Quantity')\n",
    "plt.xlabel('Quantity')\n",
    "plt.ylabel('Count')\n",
    "plt.show()"
   ]
  },
  {
   "cell_type": "code",
   "execution_count": 21,
   "id": "0b77c3a7",
   "metadata": {
    "ExecuteTime": {
     "end_time": "2023-11-25T19:16:57.847332Z",
     "start_time": "2023-11-25T19:16:57.830485Z"
    },
    "colab": {
     "base_uri": "https://localhost:8080/",
     "height": 223
    },
    "executionInfo": {
     "elapsed": 12,
     "status": "ok",
     "timestamp": 1700947825737,
     "user": {
      "displayName": "Shubham Jadhav",
      "userId": "12711481419768883733"
     },
     "user_tz": 300
    },
    "id": "0b77c3a7",
    "outputId": "aad6e5d7-13a6-4c8c-ba3f-fe6c27093754",
    "tags": []
   },
   "outputs": [
    {
     "name": "stdout",
     "output_type": "stream",
     "text": [
      "Number of Negative Invoice records: 8872\n"
     ]
    },
    {
     "data": {
      "text/html": [
       "<div>\n",
       "<style scoped>\n",
       "    .dataframe tbody tr th:only-of-type {\n",
       "        vertical-align: middle;\n",
       "    }\n",
       "\n",
       "    .dataframe tbody tr th {\n",
       "        vertical-align: top;\n",
       "    }\n",
       "\n",
       "    .dataframe thead th {\n",
       "        text-align: right;\n",
       "    }\n",
       "</style>\n",
       "<table border=\"1\" class=\"dataframe\">\n",
       "  <thead>\n",
       "    <tr style=\"text-align: right;\">\n",
       "      <th></th>\n",
       "      <th>InvoiceNo</th>\n",
       "      <th>StockCode</th>\n",
       "      <th>Description</th>\n",
       "      <th>Quantity</th>\n",
       "      <th>InvoiceDate</th>\n",
       "      <th>UnitPrice</th>\n",
       "      <th>CustomerID</th>\n",
       "      <th>Country</th>\n",
       "    </tr>\n",
       "  </thead>\n",
       "  <tbody>\n",
       "    <tr>\n",
       "      <th>141</th>\n",
       "      <td>C536379</td>\n",
       "      <td>D</td>\n",
       "      <td>Discount</td>\n",
       "      <td>-1</td>\n",
       "      <td>2010-12-01 09:41:00</td>\n",
       "      <td>27.50</td>\n",
       "      <td>14527.0</td>\n",
       "      <td>United Kingdom</td>\n",
       "    </tr>\n",
       "    <tr>\n",
       "      <th>154</th>\n",
       "      <td>C536383</td>\n",
       "      <td>35004C</td>\n",
       "      <td>SET OF 3 COLOURED  FLYING DUCKS</td>\n",
       "      <td>-1</td>\n",
       "      <td>2010-12-01 09:49:00</td>\n",
       "      <td>4.65</td>\n",
       "      <td>15311.0</td>\n",
       "      <td>United Kingdom</td>\n",
       "    </tr>\n",
       "    <tr>\n",
       "      <th>235</th>\n",
       "      <td>C536391</td>\n",
       "      <td>22556</td>\n",
       "      <td>PLASTERS IN TIN CIRCUS PARADE</td>\n",
       "      <td>-12</td>\n",
       "      <td>2010-12-01 10:24:00</td>\n",
       "      <td>1.65</td>\n",
       "      <td>17548.0</td>\n",
       "      <td>United Kingdom</td>\n",
       "    </tr>\n",
       "    <tr>\n",
       "      <th>236</th>\n",
       "      <td>C536391</td>\n",
       "      <td>21984</td>\n",
       "      <td>PACK OF 12 PINK PAISLEY TISSUES</td>\n",
       "      <td>-24</td>\n",
       "      <td>2010-12-01 10:24:00</td>\n",
       "      <td>0.29</td>\n",
       "      <td>17548.0</td>\n",
       "      <td>United Kingdom</td>\n",
       "    </tr>\n",
       "    <tr>\n",
       "      <th>237</th>\n",
       "      <td>C536391</td>\n",
       "      <td>21983</td>\n",
       "      <td>PACK OF 12 BLUE PAISLEY TISSUES</td>\n",
       "      <td>-24</td>\n",
       "      <td>2010-12-01 10:24:00</td>\n",
       "      <td>0.29</td>\n",
       "      <td>17548.0</td>\n",
       "      <td>United Kingdom</td>\n",
       "    </tr>\n",
       "  </tbody>\n",
       "</table>\n",
       "</div>"
      ],
      "text/plain": [
       "    InvoiceNo StockCode                       Description  Quantity  \\\n",
       "141   C536379         D                          Discount        -1   \n",
       "154   C536383    35004C   SET OF 3 COLOURED  FLYING DUCKS        -1   \n",
       "235   C536391     22556    PLASTERS IN TIN CIRCUS PARADE        -12   \n",
       "236   C536391     21984  PACK OF 12 PINK PAISLEY TISSUES        -24   \n",
       "237   C536391     21983  PACK OF 12 BLUE PAISLEY TISSUES        -24   \n",
       "\n",
       "            InvoiceDate  UnitPrice  CustomerID         Country  \n",
       "141 2010-12-01 09:41:00      27.50     14527.0  United Kingdom  \n",
       "154 2010-12-01 09:49:00       4.65     15311.0  United Kingdom  \n",
       "235 2010-12-01 10:24:00       1.65     17548.0  United Kingdom  \n",
       "236 2010-12-01 10:24:00       0.29     17548.0  United Kingdom  \n",
       "237 2010-12-01 10:24:00       0.29     17548.0  United Kingdom  "
      ]
     },
     "execution_count": 21,
     "metadata": {},
     "output_type": "execute_result"
    }
   ],
   "source": [
    "neg_invoice_df = invoice_df[invoice_df.Quantity<0]\n",
    "print(f\"Number of Negative Invoice records: {neg_invoice_df.shape[0]}\")\n",
    "neg_invoice_df.head()"
   ]
  },
  {
   "cell_type": "code",
   "execution_count": 22,
   "id": "18192d31",
   "metadata": {
    "ExecuteTime": {
     "end_time": "2023-11-25T19:16:57.887261Z",
     "start_time": "2023-11-25T19:16:57.852115Z"
    },
    "colab": {
     "base_uri": "https://localhost:8080/"
    },
    "executionInfo": {
     "elapsed": 9,
     "status": "ok",
     "timestamp": 1700947825737,
     "user": {
      "displayName": "Shubham Jadhav",
      "userId": "12711481419768883733"
     },
     "user_tz": 300
    },
    "id": "18192d31",
    "outputId": "738a7480-36a1-41bd-fd1f-7d1f2d4e26d3"
   },
   "outputs": [
    {
     "name": "stdout",
     "output_type": "stream",
     "text": [
      "Number of Negative Invoice records without cancellations: 0\n"
     ]
    }
   ],
   "source": [
    "neg_wo_cancel = neg_invoice_df[neg_invoice_df.InvoiceNo.str[:1] != 'C'].shape[0]\n",
    "print(f\"Number of Negative Invoice records without cancellations: {neg_wo_cancel}\")"
   ]
  },
  {
   "cell_type": "code",
   "execution_count": 23,
   "id": "7012ba7f",
   "metadata": {
    "ExecuteTime": {
     "end_time": "2023-11-25T19:16:57.977602Z",
     "start_time": "2023-11-25T19:16:57.859405Z"
    },
    "colab": {
     "base_uri": "https://localhost:8080/",
     "height": 223
    },
    "executionInfo": {
     "elapsed": 8,
     "status": "ok",
     "timestamp": 1700947825737,
     "user": {
      "displayName": "Shubham Jadhav",
      "userId": "12711481419768883733"
     },
     "user_tz": 300
    },
    "id": "7012ba7f",
    "outputId": "ebf4bf9c-4f1e-41e4-d547-1fc528ab8179"
   },
   "outputs": [
    {
     "name": "stdout",
     "output_type": "stream",
     "text": [
      "Number of Positive Invoice records: 392732\n"
     ]
    },
    {
     "data": {
      "text/html": [
       "<div>\n",
       "<style scoped>\n",
       "    .dataframe tbody tr th:only-of-type {\n",
       "        vertical-align: middle;\n",
       "    }\n",
       "\n",
       "    .dataframe tbody tr th {\n",
       "        vertical-align: top;\n",
       "    }\n",
       "\n",
       "    .dataframe thead th {\n",
       "        text-align: right;\n",
       "    }\n",
       "</style>\n",
       "<table border=\"1\" class=\"dataframe\">\n",
       "  <thead>\n",
       "    <tr style=\"text-align: right;\">\n",
       "      <th></th>\n",
       "      <th>InvoiceNo</th>\n",
       "      <th>StockCode</th>\n",
       "      <th>Description</th>\n",
       "      <th>Quantity</th>\n",
       "      <th>InvoiceDate</th>\n",
       "      <th>UnitPrice</th>\n",
       "      <th>CustomerID</th>\n",
       "      <th>Country</th>\n",
       "    </tr>\n",
       "  </thead>\n",
       "  <tbody>\n",
       "    <tr>\n",
       "      <th>0</th>\n",
       "      <td>536365</td>\n",
       "      <td>85123A</td>\n",
       "      <td>WHITE HANGING HEART T-LIGHT HOLDER</td>\n",
       "      <td>6</td>\n",
       "      <td>2010-12-01 08:26:00</td>\n",
       "      <td>2.55</td>\n",
       "      <td>17850.0</td>\n",
       "      <td>United Kingdom</td>\n",
       "    </tr>\n",
       "    <tr>\n",
       "      <th>1</th>\n",
       "      <td>536365</td>\n",
       "      <td>71053</td>\n",
       "      <td>WHITE METAL LANTERN</td>\n",
       "      <td>6</td>\n",
       "      <td>2010-12-01 08:26:00</td>\n",
       "      <td>3.39</td>\n",
       "      <td>17850.0</td>\n",
       "      <td>United Kingdom</td>\n",
       "    </tr>\n",
       "    <tr>\n",
       "      <th>2</th>\n",
       "      <td>536365</td>\n",
       "      <td>84406B</td>\n",
       "      <td>CREAM CUPID HEARTS COAT HANGER</td>\n",
       "      <td>8</td>\n",
       "      <td>2010-12-01 08:26:00</td>\n",
       "      <td>2.75</td>\n",
       "      <td>17850.0</td>\n",
       "      <td>United Kingdom</td>\n",
       "    </tr>\n",
       "    <tr>\n",
       "      <th>3</th>\n",
       "      <td>536365</td>\n",
       "      <td>84029G</td>\n",
       "      <td>KNITTED UNION FLAG HOT WATER BOTTLE</td>\n",
       "      <td>6</td>\n",
       "      <td>2010-12-01 08:26:00</td>\n",
       "      <td>3.39</td>\n",
       "      <td>17850.0</td>\n",
       "      <td>United Kingdom</td>\n",
       "    </tr>\n",
       "    <tr>\n",
       "      <th>4</th>\n",
       "      <td>536365</td>\n",
       "      <td>84029E</td>\n",
       "      <td>RED WOOLLY HOTTIE WHITE HEART.</td>\n",
       "      <td>6</td>\n",
       "      <td>2010-12-01 08:26:00</td>\n",
       "      <td>3.39</td>\n",
       "      <td>17850.0</td>\n",
       "      <td>United Kingdom</td>\n",
       "    </tr>\n",
       "  </tbody>\n",
       "</table>\n",
       "</div>"
      ],
      "text/plain": [
       "  InvoiceNo StockCode                          Description  Quantity  \\\n",
       "0    536365    85123A   WHITE HANGING HEART T-LIGHT HOLDER         6   \n",
       "1    536365     71053                  WHITE METAL LANTERN         6   \n",
       "2    536365    84406B       CREAM CUPID HEARTS COAT HANGER         8   \n",
       "3    536365    84029G  KNITTED UNION FLAG HOT WATER BOTTLE         6   \n",
       "4    536365    84029E       RED WOOLLY HOTTIE WHITE HEART.         6   \n",
       "\n",
       "          InvoiceDate  UnitPrice  CustomerID         Country  \n",
       "0 2010-12-01 08:26:00       2.55     17850.0  United Kingdom  \n",
       "1 2010-12-01 08:26:00       3.39     17850.0  United Kingdom  \n",
       "2 2010-12-01 08:26:00       2.75     17850.0  United Kingdom  \n",
       "3 2010-12-01 08:26:00       3.39     17850.0  United Kingdom  \n",
       "4 2010-12-01 08:26:00       3.39     17850.0  United Kingdom  "
      ]
     },
     "execution_count": 23,
     "metadata": {},
     "output_type": "execute_result"
    }
   ],
   "source": [
    "pos_invoice_df = invoice_df[invoice_df.Quantity>0]\n",
    "print(f\"Number of Positive Invoice records: {pos_invoice_df.shape[0]}\")\n",
    "pos_invoice_df.head()"
   ]
  },
  {
   "cell_type": "code",
   "execution_count": 24,
   "id": "a6bbed9c",
   "metadata": {
    "ExecuteTime": {
     "end_time": "2023-11-25T19:16:58.110433Z",
     "start_time": "2023-11-25T19:16:57.933556Z"
    },
    "colab": {
     "base_uri": "https://localhost:8080/"
    },
    "executionInfo": {
     "elapsed": 129,
     "status": "ok",
     "timestamp": 1700947825860,
     "user": {
      "displayName": "Shubham Jadhav",
      "userId": "12711481419768883733"
     },
     "user_tz": 300
    },
    "id": "a6bbed9c",
    "outputId": "3c128196-460b-4fd1-878a-271500ee522d"
   },
   "outputs": [
    {
     "name": "stdout",
     "output_type": "stream",
     "text": [
      "Number of Positive Invoice records with cancellations: 0\n"
     ]
    }
   ],
   "source": [
    "pos_w_cancel = pos_invoice_df[pos_invoice_df.InvoiceNo.str[:1] == 'C'].shape[0]\n",
    "print(f\"Number of Positive Invoice records with cancellations: {pos_w_cancel}\")"
   ]
  },
  {
   "cell_type": "markdown",
   "id": "a38d7b93",
   "metadata": {
    "id": "a38d7b93"
   },
   "source": [
    "## Negative Quantity"
   ]
  },
  {
   "cell_type": "code",
   "execution_count": 25,
   "id": "6e17e5b1",
   "metadata": {
    "ExecuteTime": {
     "end_time": "2023-11-25T19:16:58.134359Z",
     "start_time": "2023-11-25T19:16:58.060144Z"
    },
    "colab": {
     "base_uri": "https://localhost:8080/"
    },
    "executionInfo": {
     "elapsed": 5,
     "status": "ok",
     "timestamp": 1700947825861,
     "user": {
      "displayName": "Shubham Jadhav",
      "userId": "12711481419768883733"
     },
     "user_tz": 300
    },
    "id": "6e17e5b1",
    "outputId": "718625d2-0e63-4b04-a96d-6451509fc6b2"
   },
   "outputs": [
    {
     "name": "stdout",
     "output_type": "stream",
     "text": [
      "Cancellation Rate: 2.21%\n"
     ]
    }
   ],
   "source": [
    "# Cancellation Rate\n",
    "cancellation_rate = len(neg_invoice_df) / len(invoice_df) * 100\n",
    "print(f\"Cancellation Rate: {cancellation_rate:.2f}%\")"
   ]
  },
  {
   "cell_type": "code",
   "execution_count": 26,
   "id": "08de739b",
   "metadata": {
    "ExecuteTime": {
     "end_time": "2023-11-25T19:16:58.134944Z",
     "start_time": "2023-11-25T19:16:58.063918Z"
    },
    "colab": {
     "base_uri": "https://localhost:8080/"
    },
    "executionInfo": {
     "elapsed": 87,
     "status": "ok",
     "timestamp": 1700947825945,
     "user": {
      "displayName": "Shubham Jadhav",
      "userId": "12711481419768883733"
     },
     "user_tz": 300
    },
    "id": "08de739b",
    "outputId": "9909d3dc-c706-4cd8-b245-ec9f06cd96da"
   },
   "outputs": [
    {
     "name": "stdout",
     "output_type": "stream",
     "text": [
      "Impact on Revenue: 12.02%\n"
     ]
    }
   ],
   "source": [
    "# Impact on Revenue\n",
    "total_revenue = invoice_df['UnitPrice'].sum()\n",
    "cancelled_revenue = neg_invoice_df['UnitPrice'].sum()\n",
    "revenue_impact = (cancelled_revenue / total_revenue) * 100\n",
    "print(f\"Impact on Revenue: {revenue_impact:.2f}%\")"
   ]
  },
  {
   "cell_type": "code",
   "execution_count": 27,
   "id": "b5df5f59-2ad3-436d-80cc-5d6e5ff3b88e",
   "metadata": {
    "ExecuteTime": {
     "end_time": "2023-11-25T19:16:59.580731Z",
     "start_time": "2023-11-25T19:16:58.074138Z"
    },
    "colab": {
     "base_uri": "https://localhost:8080/",
     "height": 426
    },
    "executionInfo": {
     "elapsed": 338,
     "status": "ok",
     "timestamp": 1700947826280,
     "user": {
      "displayName": "Shubham Jadhav",
      "userId": "12711481419768883733"
     },
     "user_tz": 300
    },
    "id": "b5df5f59-2ad3-436d-80cc-5d6e5ff3b88e",
    "outputId": "b464f2a4-8987-41e5-8f5c-1664af8fad88",
    "tags": []
   },
   "outputs": [
    {
     "data": {
      "image/png": "[encoded data removed]",
      "text/plain": [
       "<Figure size 1000x400 with 1 Axes>"
      ]
     },
     "metadata": {},
     "output_type": "display_data"
    }
   ],
   "source": [
    "# Cancellation Trend\n",
    "cancelled_orders = neg_invoice_df.copy()\n",
    "cancelled_orders.set_index('InvoiceDate', inplace=True)\n",
    "cancellation_trends = cancelled_orders.resample('D').size()\n",
    "plt.figure(figsize=(10, 4))\n",
    "cancellation_trends.plot(title='Cancellation Trends Over Time', ylabel='Number of Cancellations', xlabel='Time')\n",
    "plt.show()"
   ]
  },
  {
   "cell_type": "code",
   "execution_count": 28,
   "id": "83844fcd",
   "metadata": {
    "ExecuteTime": {
     "end_time": "2023-11-25T19:16:59.606964Z",
     "start_time": "2023-11-25T19:16:59.582502Z"
    },
    "executionInfo": {
     "elapsed": 4,
     "status": "ok",
     "timestamp": 1700947826280,
     "user": {
      "displayName": "Shubham Jadhav",
      "userId": "12711481419768883733"
     },
     "user_tz": 300
    },
    "id": "83844fcd"
   },
   "outputs": [],
   "source": [
    "cancelled_orders = neg_invoice_df.copy()\n",
    "cancelled_orders.set_index('InvoiceDate', inplace=True)"
   ]
  },
  {
   "cell_type": "code",
   "execution_count": 29,
   "id": "94603b87-0366-473e-bd2c-0da465b0f88e",
   "metadata": {
    "ExecuteTime": {
     "end_time": "2023-11-25T19:17:00.095426Z",
     "start_time": "2023-11-25T19:16:59.599522Z"
    },
    "colab": {
     "base_uri": "https://localhost:8080/",
     "height": 410
    },
    "executionInfo": {
     "elapsed": 223,
     "status": "ok",
     "timestamp": 1700947826499,
     "user": {
      "displayName": "Shubham Jadhav",
      "userId": "12711481419768883733"
     },
     "user_tz": 300
    },
    "id": "94603b87-0366-473e-bd2c-0da465b0f88e",
    "outputId": "34a34aaf-4b82-4411-db1e-9123806ba492",
    "scrolled": false,
    "tags": []
   },
   "outputs": [
    {
     "data": {
      "image/png": "[encoded data removed]",
      "text/plain": [
       "<Figure size 1000x400 with 1 Axes>"
      ]
     },
     "metadata": {},
     "output_type": "display_data"
    }
   ],
   "source": [
    "# Customer Analysis\n",
    "customer_analysis = cancelled_orders.groupby('CustomerID').size().reset_index(name='CancellationCount')\n",
    "top_customers = customer_analysis.sort_values(by='CancellationCount', ascending=False).head(10)\n",
    "\n",
    "# Visualize Top 10 Customers with horizontal bar chart\n",
    "plt.figure(figsize=(10, 4))\n",
    "sns.barplot(y='CustomerID', x='CancellationCount', data=top_customers, orient='h', color='#033C5A')\n",
    "plt.title('Top 10 Customers by Cancellation Count')\n",
    "plt.xlabel('Cancellation Count')\n",
    "plt.ylabel('CustomerID')\n",
    "plt.show()"
   ]
  },
  {
   "cell_type": "code",
   "execution_count": 30,
   "id": "fd5bd569-05cb-45e5-b30a-2106388de741",
   "metadata": {
    "ExecuteTime": {
     "end_time": "2023-11-25T19:17:00.536037Z",
     "start_time": "2023-11-25T19:17:00.097893Z"
    },
    "colab": {
     "base_uri": "https://localhost:8080/",
     "height": 410
    },
    "executionInfo": {
     "elapsed": 209,
     "status": "ok",
     "timestamp": 1700947826703,
     "user": {
      "displayName": "Shubham Jadhav",
      "userId": "12711481419768883733"
     },
     "user_tz": 300
    },
    "id": "fd5bd569-05cb-45e5-b30a-2106388de741",
    "outputId": "217e01ea-1519-4e53-fe89-210b6ae6dd79",
    "tags": []
   },
   "outputs": [
    {
     "data": {
      "image/png": "[encoded data removed]",
      "text/plain": [
       "<Figure size 1000x400 with 1 Axes>"
      ]
     },
     "metadata": {},
     "output_type": "display_data"
    }
   ],
   "source": [
    "# Product Analysis\n",
    "product_analysis = cancelled_orders.groupby('StockCode').size().reset_index(name='CancellationCount')\n",
    "top_products = product_analysis.sort_values(by='CancellationCount', ascending=False).head(10)\n",
    "\n",
    "plt.figure(figsize=(10, 4))\n",
    "sns.barplot(y='StockCode', x='CancellationCount', data=top_products, orient='h', color='#033C5A')\n",
    "plt.title('Top 10 Products by Cancellation Count')\n",
    "plt.xlabel('Product')\n",
    "plt.ylabel('Cancellation Count')\n",
    "plt.show()"
   ]
  },
  {
   "cell_type": "code",
   "execution_count": 31,
   "id": "f6ced3cb",
   "metadata": {
    "ExecuteTime": {
     "end_time": "2023-11-25T19:17:00.868966Z",
     "start_time": "2023-11-25T19:17:00.539450Z"
    },
    "colab": {
     "base_uri": "https://localhost:8080/"
    },
    "executionInfo": {
     "elapsed": 276,
     "status": "ok",
     "timestamp": 1700947826975,
     "user": {
      "displayName": "Shubham Jadhav",
      "userId": "12711481419768883733"
     },
     "user_tz": 300
    },
    "id": "f6ced3cb",
    "outputId": "ec04daf5-f084-42c7-f795-2544939863c8"
   },
   "outputs": [
    {
     "name": "stdout",
     "output_type": "stream",
     "text": [
      "Percent of cancellation matches: 44.56%\n"
     ]
    }
   ],
   "source": [
    "neg_invoice_merged_df = neg_invoice_df.merge(\n",
    "    invoice_df,\n",
    "    how='inner',\n",
    "    on=['StockCode','CustomerID','UnitPrice','Country']\n",
    ")\n",
    "\n",
    "condition1 = (abs(neg_invoice_merged_df.Quantity_x) == neg_invoice_merged_df.Quantity_y)\n",
    "condition2 = neg_invoice_merged_df.InvoiceDate_x >= neg_invoice_merged_df.InvoiceDate_y\n",
    "neg_invoice_merged_df = neg_invoice_merged_df[condition1 & condition2 ]\n",
    "\n",
    "invoice_match = neg_invoice_merged_df.shape[0]\n",
    "all_can_invoice = neg_invoice_df.shape[0]\n",
    "\n",
    "print(f\"Percent of cancellation matches: {invoice_match/all_can_invoice*100:.2f}%\")"
   ]
  },
  {
   "cell_type": "code",
   "execution_count": 32,
   "id": "85fce38c",
   "metadata": {
    "ExecuteTime": {
     "end_time": "2023-11-25T19:17:00.940585Z",
     "start_time": "2023-11-25T19:17:00.868821Z"
    },
    "colab": {
     "base_uri": "https://localhost:8080/",
     "height": 206
    },
    "executionInfo": {
     "elapsed": 6,
     "status": "ok",
     "timestamp": 1700947826976,
     "user": {
      "displayName": "Shubham Jadhav",
      "userId": "12711481419768883733"
     },
     "user_tz": 300
    },
    "id": "85fce38c",
    "outputId": "3c9846a6-521e-447f-da8c-0921f3fedd43"
   },
   "outputs": [
    {
     "data": {
      "text/html": [
       "<div>\n",
       "<style scoped>\n",
       "    .dataframe tbody tr th:only-of-type {\n",
       "        vertical-align: middle;\n",
       "    }\n",
       "\n",
       "    .dataframe tbody tr th {\n",
       "        vertical-align: top;\n",
       "    }\n",
       "\n",
       "    .dataframe thead th {\n",
       "        text-align: right;\n",
       "    }\n",
       "</style>\n",
       "<table border=\"1\" class=\"dataframe\">\n",
       "  <thead>\n",
       "    <tr style=\"text-align: right;\">\n",
       "      <th></th>\n",
       "      <th>InvoiceNo</th>\n",
       "      <th>StockCode</th>\n",
       "      <th>Description</th>\n",
       "      <th>Quantity</th>\n",
       "      <th>InvoiceDate</th>\n",
       "      <th>UnitPrice</th>\n",
       "      <th>CustomerID</th>\n",
       "      <th>Country</th>\n",
       "    </tr>\n",
       "  </thead>\n",
       "  <tbody>\n",
       "    <tr>\n",
       "      <th>4922</th>\n",
       "      <td>541431</td>\n",
       "      <td>23166</td>\n",
       "      <td>MEDIUM CERAMIC TOP STORAGE JAR</td>\n",
       "      <td>74215</td>\n",
       "      <td>2011-01-18 10:01:00</td>\n",
       "      <td>1.04</td>\n",
       "      <td>12346.0</td>\n",
       "      <td>United Kingdom</td>\n",
       "    </tr>\n",
       "    <tr>\n",
       "      <th>9897</th>\n",
       "      <td>546869</td>\n",
       "      <td>21914</td>\n",
       "      <td>BLUE HARMONICA IN BOX</td>\n",
       "      <td>12</td>\n",
       "      <td>2011-03-17 16:00:00</td>\n",
       "      <td>1.25</td>\n",
       "      <td>12352.0</td>\n",
       "      <td>Norway</td>\n",
       "    </tr>\n",
       "    <tr>\n",
       "      <th>9894</th>\n",
       "      <td>546869</td>\n",
       "      <td>22413</td>\n",
       "      <td>METAL SIGN TAKE IT OR LEAVE IT</td>\n",
       "      <td>6</td>\n",
       "      <td>2011-03-17 16:00:00</td>\n",
       "      <td>2.95</td>\n",
       "      <td>12352.0</td>\n",
       "      <td>Norway</td>\n",
       "    </tr>\n",
       "    <tr>\n",
       "      <th>9891</th>\n",
       "      <td>546869</td>\n",
       "      <td>22645</td>\n",
       "      <td>CERAMIC HEART FAIRY CAKE MONEY BANK</td>\n",
       "      <td>12</td>\n",
       "      <td>2011-03-17 16:00:00</td>\n",
       "      <td>1.45</td>\n",
       "      <td>12352.0</td>\n",
       "      <td>Norway</td>\n",
       "    </tr>\n",
       "    <tr>\n",
       "      <th>9888</th>\n",
       "      <td>546869</td>\n",
       "      <td>22701</td>\n",
       "      <td>PINK DOG BOWL</td>\n",
       "      <td>6</td>\n",
       "      <td>2011-03-17 16:00:00</td>\n",
       "      <td>2.95</td>\n",
       "      <td>12352.0</td>\n",
       "      <td>Norway</td>\n",
       "    </tr>\n",
       "  </tbody>\n",
       "</table>\n",
       "</div>"
      ],
      "text/plain": [
       "     InvoiceNo StockCode                          Description  Quantity  \\\n",
       "4922    541431     23166       MEDIUM CERAMIC TOP STORAGE JAR     74215   \n",
       "9897    546869     21914               BLUE HARMONICA IN BOX         12   \n",
       "9894    546869     22413      METAL SIGN TAKE IT OR LEAVE IT          6   \n",
       "9891    546869     22645  CERAMIC HEART FAIRY CAKE MONEY BANK        12   \n",
       "9888    546869     22701                        PINK DOG BOWL         6   \n",
       "\n",
       "             InvoiceDate  UnitPrice  CustomerID         Country  \n",
       "4922 2011-01-18 10:01:00       1.04     12346.0  United Kingdom  \n",
       "9897 2011-03-17 16:00:00       1.25     12352.0          Norway  \n",
       "9894 2011-03-17 16:00:00       2.95     12352.0          Norway  \n",
       "9891 2011-03-17 16:00:00       1.45     12352.0          Norway  \n",
       "9888 2011-03-17 16:00:00       2.95     12352.0          Norway  "
      ]
     },
     "execution_count": 32,
     "metadata": {},
     "output_type": "execute_result"
    }
   ],
   "source": [
    "cols = ['InvoiceNo_y','StockCode','Description_y','Quantity_y','InvoiceDate_y','UnitPrice','CustomerID','Country']\n",
    "pos_can_match_df = neg_invoice_merged_df[cols]\n",
    "pos_can_match_df.columns = neg_invoice_df.columns\n",
    "pos_can_match_df = pos_can_match_df.drop_duplicates()\n",
    "pos_can_match_df = pos_can_match_df.sort_values(by=['CustomerID','StockCode','Quantity','InvoiceDate'])\n",
    "pos_can_match_df.head()"
   ]
  },
  {
   "cell_type": "code",
   "execution_count": 33,
   "id": "e0683976",
   "metadata": {
    "ExecuteTime": {
     "end_time": "2023-11-25T19:17:39.317545Z",
     "start_time": "2023-11-25T19:17:00.906245Z"
    },
    "colab": {
     "base_uri": "https://localhost:8080/"
    },
    "executionInfo": {
     "elapsed": 44485,
     "status": "ok",
     "timestamp": 1700947871552,
     "user": {
      "displayName": "Shubham Jadhav",
      "userId": "12711481419768883733"
     },
     "user_tz": 300
    },
    "id": "e0683976",
    "outputId": "789b4576-86a1-4873-978c-f9a023226655",
    "scrolled": true
   },
   "outputs": [
    {
     "name": "stdout",
     "output_type": "stream",
     "text": [
      "Number of transactions to remove: 11643\n"
     ]
    }
   ],
   "source": [
    "# Retrieve corresponding orders of cancellations, if available\n",
    "\n",
    "rows_to_drop = pd.DataFrame(columns=neg_invoice_df.columns)\n",
    "\n",
    "for neg_idx, neg_row in neg_invoice_df.iterrows():\n",
    "\n",
    "    rows_to_drop.loc[len(rows_to_drop)] = neg_row\n",
    "\n",
    "    cond1 = pos_can_match_df.CustomerID == neg_row.CustomerID\n",
    "    cond2 = pos_can_match_df.StockCode == neg_row.StockCode\n",
    "    cond3 = pos_can_match_df.Quantity == abs(neg_row.Quantity)\n",
    "    cond4 = pos_can_match_df.InvoiceDate <= neg_row.InvoiceDate\n",
    "\n",
    "    temp = pos_can_match_df[cond1 & cond2 & cond3 & cond4]\n",
    "\n",
    "    if temp.shape[0]>0:\n",
    "        rows_to_drop.loc[len(rows_to_drop)] = temp.iloc[0]\n",
    "        pos_can_match_df.drop(temp.index[0], inplace=True)\n",
    "\n",
    "print(f\"Number of transactions to remove: {rows_to_drop.shape[0]}\")"
   ]
  },
  {
   "cell_type": "code",
   "execution_count": 415,
   "id": "43d6dbd6",
   "metadata": {
    "ExecuteTime": {
     "end_time": "2023-11-25T19:17:40.246332Z",
     "start_time": "2023-11-25T19:17:39.322283Z"
    },
    "colab": {
     "base_uri": "https://localhost:8080/"
    },
    "executionInfo": {
     "elapsed": 1066,
     "status": "ok",
     "timestamp": 1700947872614,
     "user": {
      "displayName": "Shubham Jadhav",
      "userId": "12711481419768883733"
     },
     "user_tz": 300
    },
    "id": "43d6dbd6",
    "outputId": "d540f968-1cc4-4ddf-9832-55a5f4c645e7"
   },
   "outputs": [
    {
     "name": "stdout",
     "output_type": "stream",
     "text": [
      "All records are removed from the original data successfully\n"
     ]
    }
   ],
   "source": [
    "# Remove cancellations and corresponding orders\n",
    "\n",
    "fin_invoice_df = pd.merge(\n",
    "    invoice_df, rows_to_drop,\n",
    "    how='outer',\n",
    "    indicator=True\n",
    ").query(\"_merge != 'both'\").drop('_merge', axis=1).reset_index(drop=True)\n",
    "\n",
    "if (invoice_df.shape[0] - (fin_invoice_df.shape[0] + rows_to_drop.shape[0])):\n",
    "    print(f\"Missed records that are not removed from the original data: {missed_records}\")\n",
    "else:\n",
    "    print(\"All records are removed from the original data successfully\")"
   ]
  },
  {
   "cell_type": "markdown",
   "id": "e2a26f43",
   "metadata": {
    "id": "e2a26f43"
   },
   "source": [
    "## Price"
   ]
  },
  {
   "cell_type": "code",
   "execution_count": 35,
   "id": "6682f1fd",
   "metadata": {
    "ExecuteTime": {
     "end_time": "2023-11-25T19:17:40.353663Z",
     "start_time": "2023-11-25T19:17:40.240841Z"
    },
    "colab": {
     "base_uri": "https://localhost:8080/"
    },
    "executionInfo": {
     "elapsed": 6,
     "status": "ok",
     "timestamp": 1700947872614,
     "user": {
      "displayName": "Shubham Jadhav",
      "userId": "12711481419768883733"
     },
     "user_tz": 300
    },
    "id": "6682f1fd",
    "outputId": "24255507-e785-4f0e-b0b8-5e203e8fa6ab"
   },
   "outputs": [
    {
     "name": "stdout",
     "output_type": "stream",
     "text": [
      "Records with negative quantity -> 0\n",
      "Records with zero quantity -> 0\n",
      "Records with negative unit price -> 0\n",
      "Records with zero unit price -> 40\n"
     ]
    }
   ],
   "source": [
    "print(f\"Records with negative quantity -> {fin_invoice_df[fin_invoice_df.Quantity<0].shape[0]}\")\n",
    "print(f\"Records with zero quantity -> {fin_invoice_df[fin_invoice_df.Quantity==0].shape[0]}\")\n",
    "print(f\"Records with negative unit price -> {fin_invoice_df[fin_invoice_df.UnitPrice<0].shape[0]}\")\n",
    "print(f\"Records with zero unit price -> {fin_invoice_df[fin_invoice_df.UnitPrice==0].shape[0]}\")"
   ]
  },
  {
   "cell_type": "code",
   "execution_count": 36,
   "id": "e28e3774",
   "metadata": {
    "ExecuteTime": {
     "end_time": "2023-11-25T19:17:40.443368Z",
     "start_time": "2023-11-25T19:17:40.361810Z"
    },
    "colab": {
     "base_uri": "https://localhost:8080/"
    },
    "executionInfo": {
     "elapsed": 128,
     "status": "ok",
     "timestamp": 1700947872738,
     "user": {
      "displayName": "Shubham Jadhav",
      "userId": "12711481419768883733"
     },
     "user_tz": 300
    },
    "id": "e28e3774",
    "outputId": "b1fb9fb2-4d77-4943-c684-3a8eb5481be9"
   },
   "outputs": [
    {
     "name": "stdout",
     "output_type": "stream",
     "text": [
      "Records with zero unit price -> 0\n"
     ]
    }
   ],
   "source": [
    "# Remove records with zero unit price\n",
    "\n",
    "fin_invoice_df = fin_invoice_df[fin_invoice_df.UnitPrice>0]\n",
    "print(f\"Records with zero unit price -> {fin_invoice_df[fin_invoice_df.UnitPrice==0].shape[0]}\")"
   ]
  },
  {
   "cell_type": "code",
   "execution_count": 37,
   "id": "df45fcd7",
   "metadata": {
    "ExecuteTime": {
     "end_time": "2023-11-25T19:17:40.491499Z",
     "start_time": "2023-11-25T19:17:40.437828Z"
    },
    "colab": {
     "base_uri": "https://localhost:8080/",
     "height": 292
    },
    "executionInfo": {
     "elapsed": 104,
     "status": "ok",
     "timestamp": 1700947872837,
     "user": {
      "displayName": "Shubham Jadhav",
      "userId": "12711481419768883733"
     },
     "user_tz": 300
    },
    "id": "df45fcd7",
    "outputId": "8448dfb3-fd73-48ce-ddca-7a5e357632e8"
   },
   "outputs": [
    {
     "data": {
      "text/html": [
       "<div>\n",
       "<style scoped>\n",
       "    .dataframe tbody tr th:only-of-type {\n",
       "        vertical-align: middle;\n",
       "    }\n",
       "\n",
       "    .dataframe tbody tr th {\n",
       "        vertical-align: top;\n",
       "    }\n",
       "\n",
       "    .dataframe thead th {\n",
       "        text-align: right;\n",
       "    }\n",
       "</style>\n",
       "<table border=\"1\" class=\"dataframe\">\n",
       "  <thead>\n",
       "    <tr style=\"text-align: right;\">\n",
       "      <th></th>\n",
       "      <th>InvoiceNo</th>\n",
       "      <th>StockCode</th>\n",
       "      <th>Description</th>\n",
       "      <th>Quantity</th>\n",
       "      <th>InvoiceDate</th>\n",
       "      <th>UnitPrice</th>\n",
       "      <th>CustomerID</th>\n",
       "      <th>Country</th>\n",
       "      <th>TotalPrice</th>\n",
       "    </tr>\n",
       "  </thead>\n",
       "  <tbody>\n",
       "    <tr>\n",
       "      <th>0</th>\n",
       "      <td>536365</td>\n",
       "      <td>85123A</td>\n",
       "      <td>WHITE HANGING HEART T-LIGHT HOLDER</td>\n",
       "      <td>6</td>\n",
       "      <td>2010-12-01 08:26:00</td>\n",
       "      <td>2.55</td>\n",
       "      <td>17850.0</td>\n",
       "      <td>United Kingdom</td>\n",
       "      <td>15.3</td>\n",
       "    </tr>\n",
       "    <tr>\n",
       "      <th>1</th>\n",
       "      <td>536365</td>\n",
       "      <td>71053</td>\n",
       "      <td>WHITE METAL LANTERN</td>\n",
       "      <td>6</td>\n",
       "      <td>2010-12-01 08:26:00</td>\n",
       "      <td>3.39</td>\n",
       "      <td>17850.0</td>\n",
       "      <td>United Kingdom</td>\n",
       "      <td>20.34</td>\n",
       "    </tr>\n",
       "    <tr>\n",
       "      <th>2</th>\n",
       "      <td>536365</td>\n",
       "      <td>84406B</td>\n",
       "      <td>CREAM CUPID HEARTS COAT HANGER</td>\n",
       "      <td>8</td>\n",
       "      <td>2010-12-01 08:26:00</td>\n",
       "      <td>2.75</td>\n",
       "      <td>17850.0</td>\n",
       "      <td>United Kingdom</td>\n",
       "      <td>22.0</td>\n",
       "    </tr>\n",
       "    <tr>\n",
       "      <th>3</th>\n",
       "      <td>536365</td>\n",
       "      <td>84029G</td>\n",
       "      <td>KNITTED UNION FLAG HOT WATER BOTTLE</td>\n",
       "      <td>6</td>\n",
       "      <td>2010-12-01 08:26:00</td>\n",
       "      <td>3.39</td>\n",
       "      <td>17850.0</td>\n",
       "      <td>United Kingdom</td>\n",
       "      <td>20.34</td>\n",
       "    </tr>\n",
       "    <tr>\n",
       "      <th>4</th>\n",
       "      <td>536365</td>\n",
       "      <td>84029E</td>\n",
       "      <td>RED WOOLLY HOTTIE WHITE HEART.</td>\n",
       "      <td>6</td>\n",
       "      <td>2010-12-01 08:26:00</td>\n",
       "      <td>3.39</td>\n",
       "      <td>17850.0</td>\n",
       "      <td>United Kingdom</td>\n",
       "      <td>20.34</td>\n",
       "    </tr>\n",
       "  </tbody>\n",
       "</table>\n",
       "</div>"
      ],
      "text/plain": [
       "  InvoiceNo StockCode                          Description Quantity  \\\n",
       "0    536365    85123A   WHITE HANGING HEART T-LIGHT HOLDER        6   \n",
       "1    536365     71053                  WHITE METAL LANTERN        6   \n",
       "2    536365    84406B       CREAM CUPID HEARTS COAT HANGER        8   \n",
       "3    536365    84029G  KNITTED UNION FLAG HOT WATER BOTTLE        6   \n",
       "4    536365    84029E       RED WOOLLY HOTTIE WHITE HEART.        6   \n",
       "\n",
       "          InvoiceDate UnitPrice CustomerID         Country TotalPrice  \n",
       "0 2010-12-01 08:26:00      2.55    17850.0  United Kingdom       15.3  \n",
       "1 2010-12-01 08:26:00      3.39    17850.0  United Kingdom      20.34  \n",
       "2 2010-12-01 08:26:00      2.75    17850.0  United Kingdom       22.0  \n",
       "3 2010-12-01 08:26:00      3.39    17850.0  United Kingdom      20.34  \n",
       "4 2010-12-01 08:26:00      3.39    17850.0  United Kingdom      20.34  "
      ]
     },
     "execution_count": 37,
     "metadata": {},
     "output_type": "execute_result"
    }
   ],
   "source": [
    "# Create TotalPrice feature\n",
    "\n",
    "fin_invoice_df['TotalPrice'] = fin_invoice_df['UnitPrice'] * fin_invoice_df['Quantity']\n",
    "fin_invoice_df.head()"
   ]
  },
  {
   "cell_type": "markdown",
   "id": "3c766649",
   "metadata": {
    "id": "3c766649"
   },
   "source": [
    "## Basket Price"
   ]
  },
  {
   "cell_type": "code",
   "execution_count": 38,
   "id": "67c4b763",
   "metadata": {
    "ExecuteTime": {
     "end_time": "2023-11-25T19:17:41.909955Z",
     "start_time": "2023-11-25T19:17:40.474152Z"
    },
    "colab": {
     "base_uri": "https://localhost:8080/",
     "height": 206
    },
    "executionInfo": {
     "elapsed": 1019,
     "status": "ok",
     "timestamp": 1700947873753,
     "user": {
      "displayName": "Shubham Jadhav",
      "userId": "12711481419768883733"
     },
     "user_tz": 300
    },
    "id": "67c4b763",
    "outputId": "e4d4f3df-9487-4825-efde-9257984d39f5"
   },
   "outputs": [
    {
     "data": {
      "text/html": [
       "<div>\n",
       "<style scoped>\n",
       "    .dataframe tbody tr th:only-of-type {\n",
       "        vertical-align: middle;\n",
       "    }\n",
       "\n",
       "    .dataframe tbody tr th {\n",
       "        vertical-align: top;\n",
       "    }\n",
       "\n",
       "    .dataframe thead th {\n",
       "        text-align: right;\n",
       "    }\n",
       "</style>\n",
       "<table border=\"1\" class=\"dataframe\">\n",
       "  <thead>\n",
       "    <tr style=\"text-align: right;\">\n",
       "      <th></th>\n",
       "      <th>CustomerID</th>\n",
       "      <th>InvoiceNo</th>\n",
       "      <th>InvoiceDate</th>\n",
       "      <th>Country</th>\n",
       "      <th>BasketPrice</th>\n",
       "    </tr>\n",
       "  </thead>\n",
       "  <tbody>\n",
       "    <tr>\n",
       "      <th>0</th>\n",
       "      <td>12347.0</td>\n",
       "      <td>537626</td>\n",
       "      <td>2010-12-07</td>\n",
       "      <td>Iceland</td>\n",
       "      <td>711.79</td>\n",
       "    </tr>\n",
       "    <tr>\n",
       "      <th>1</th>\n",
       "      <td>12347.0</td>\n",
       "      <td>542237</td>\n",
       "      <td>2011-01-26</td>\n",
       "      <td>Iceland</td>\n",
       "      <td>475.39</td>\n",
       "    </tr>\n",
       "    <tr>\n",
       "      <th>2</th>\n",
       "      <td>12347.0</td>\n",
       "      <td>549222</td>\n",
       "      <td>2011-04-07</td>\n",
       "      <td>Iceland</td>\n",
       "      <td>636.25</td>\n",
       "    </tr>\n",
       "    <tr>\n",
       "      <th>3</th>\n",
       "      <td>12347.0</td>\n",
       "      <td>556201</td>\n",
       "      <td>2011-06-09</td>\n",
       "      <td>Iceland</td>\n",
       "      <td>382.52</td>\n",
       "    </tr>\n",
       "    <tr>\n",
       "      <th>4</th>\n",
       "      <td>12347.0</td>\n",
       "      <td>562032</td>\n",
       "      <td>2011-08-02</td>\n",
       "      <td>Iceland</td>\n",
       "      <td>584.91</td>\n",
       "    </tr>\n",
       "  </tbody>\n",
       "</table>\n",
       "</div>"
      ],
      "text/plain": [
       "   CustomerID InvoiceNo InvoiceDate  Country BasketPrice\n",
       "0     12347.0    537626  2010-12-07  Iceland      711.79\n",
       "1     12347.0    542237  2011-01-26  Iceland      475.39\n",
       "2     12347.0    549222  2011-04-07  Iceland      636.25\n",
       "3     12347.0    556201  2011-06-09  Iceland      382.52\n",
       "4     12347.0    562032  2011-08-02  Iceland      584.91"
      ]
     },
     "execution_count": 38,
     "metadata": {},
     "output_type": "execute_result"
    }
   ],
   "source": [
    "temp = fin_invoice_df.copy(deep=True)\n",
    "temp['InvoiceDate'] = fin_invoice_df['InvoiceDate'].dt.strftime('%Y-%m-%d')\n",
    "rollup_invoice_df = temp.groupby(\n",
    "    ['CustomerID','InvoiceNo','InvoiceDate','Country']\n",
    ").agg(BasketPrice=('TotalPrice', 'sum')).reset_index()\n",
    "rollup_invoice_df.head()"
   ]
  },
  {
   "cell_type": "markdown",
   "id": "383fdd7b-4234-45ab-897e-dc1c46f0f2f2",
   "metadata": {
    "id": "383fdd7b-4234-45ab-897e-dc1c46f0f2f2",
    "tags": []
   },
   "source": [
    "# Product Categories"
   ]
  },
  {
   "cell_type": "code",
   "execution_count": 417,
   "id": "d92fc7ec",
   "metadata": {
    "executionInfo": {
     "elapsed": 3899,
     "status": "ok",
     "timestamp": 1700947877762,
     "user": {
      "displayName": "Shubham Jadhav",
      "userId": "12711481419768883733"
     },
     "user_tz": 300
    },
    "id": "d92fc7ec"
   },
   "outputs": [],
   "source": [
    "desc = fin_invoice_df['Description']\n",
    "\n",
    "cleaned_desc = []\n",
    "for obs in desc:\n",
    "    cleaned_desc.extend(hf.clean_text(obs))\n",
    "    \n",
    "\n",
    "fin_invoice_df['clean_desc'] = cleaned_desc \n",
    "unq_desc = list(set(cleaned_desc))"
   ]
  },
  {
   "cell_type": "code",
   "execution_count": 316,
   "id": "fbf0bf67",
   "metadata": {
    "executionInfo": {
     "elapsed": 697,
     "status": "ok",
     "timestamp": 1700948660512,
     "user": {
      "displayName": "Shubham Jadhav",
      "userId": "12711481419768883733"
     },
     "user_tz": 300
    },
    "id": "fbf0bf67"
   },
   "outputs": [],
   "source": [
    "# add argument top=100 for top 100 word vocab\n",
    "freq, vocab, word_to_id = hf.create_word_mappings_from_corpus(unq_desc)"
   ]
  },
  {
   "cell_type": "code",
   "execution_count": 328,
   "id": "ff61b644",
   "metadata": {
    "executionInfo": {
     "elapsed": 579,
     "status": "ok",
     "timestamp": 1700948665440,
     "user": {
      "displayName": "Shubham Jadhav",
      "userId": "12711481419768883733"
     },
     "user_tz": 300
    },
    "id": "ff61b644"
   },
   "outputs": [],
   "source": [
    "# adding 6 more dimensions for price related features\n",
    "embeddings = hf.create_embeddings(word_to_id, unq_desc, len(vocab)+6)"
   ]
  },
  {
   "cell_type": "code",
   "execution_count": 396,
   "id": "71948846",
   "metadata": {},
   "outputs": [],
   "source": [
    "price_arr = np.zeros((len(unq_desc), 6))  \n",
    "threshold = [0, 1, 2, 3, 5, 10]\n",
    "\n",
    "for i, prod in enumerate(unq_desc):\n",
    "    mean_prod_price = fin_invoice_df[ fin_invoice_df['clean_desc'] == prod]['UnitPrice'].mean()\n",
    "    j = 0\n",
    "    while mean_prod_price > threshold[j]:\n",
    "        j+=1\n",
    "        if j == len(threshold): \n",
    "            break\n",
    "            \n",
    "    price_arr[i][j-1] = 1"
   ]
  },
  {
   "cell_type": "code",
   "execution_count": 397,
   "id": "42f462b9",
   "metadata": {},
   "outputs": [],
   "source": [
    "for i in range(price_arr.shape[1]):\n",
    "    embeddings[:,len(vocab)+i] = price_arr[:,i]"
   ]
  },
  {
   "cell_type": "markdown",
   "id": "51102316-a539-4026-9026-04dcea765343",
   "metadata": {
    "id": "51102316-a539-4026-9026-04dcea765343"
   },
   "source": [
    "## Clustering Products"
   ]
  },
  {
   "cell_type": "code",
   "execution_count": 398,
   "id": "b903602b",
   "metadata": {
    "ExecuteTime": {
     "end_time": "2023-11-25T19:17:43.073334Z",
     "start_time": "2023-11-25T19:17:43.066384Z"
    },
    "executionInfo": {
     "elapsed": 5,
     "status": "aborted",
     "timestamp": 1700947882583,
     "user": {
      "displayName": "Shubham Jadhav",
      "userId": "12711481419768883733"
     },
     "user_tz": 300
    },
    "id": "b903602b"
   },
   "outputs": [
    {
     "name": "stdout",
     "output_type": "stream",
     "text": [
      "For n_clusters = 3 The average silhouette_score is : 0.6\n",
      "For n_clusters = 4 The average silhouette_score is : 0.74\n",
      "For n_clusters = 5 The average silhouette_score is : 0.86\n",
      "For n_clusters = 6 The average silhouette_score is : 0.92\n",
      "For n_clusters = 7 The average silhouette_score is : 0.93\n",
      "For n_clusters = 8 The average silhouette_score is : 0.94\n",
      "For n_clusters = 9 The average silhouette_score is : 0.94\n",
      "For n_clusters = 10 The average silhouette_score is : 0.95\n"
     ]
    }
   ],
   "source": [
    "# KMeans on CPU\n",
    "\n",
    "for n_clusters in range(3,11):\n",
    "    kmeans = KMeans(init='k-means++', n_clusters = n_clusters, n_init=30)\n",
    "    kmeans.fit(embeddings)\n",
    "    clusters = kmeans.predict(embeddings)\n",
    "    globals()[f\"n_{n_clusters}\"] = clusters\n",
    "    silhouette_avg = silhouette_score(embeddings, clusters)\n",
    "    print(\"For n_clusters =\", n_clusters, \"The average silhouette_score is :\", round(silhouette_avg,2))"
   ]
  },
  {
   "cell_type": "code",
   "execution_count": 408,
   "id": "92d97826",
   "metadata": {
    "ExecuteTime": {
     "end_time": "2023-11-25T19:17:43.110198Z",
     "start_time": "2023-11-25T19:17:43.075705Z"
    },
    "executionInfo": {
     "elapsed": 5,
     "status": "aborted",
     "timestamp": 1700947882583,
     "user": {
      "displayName": "Shubham Jadhav",
      "userId": "12711481419768883733"
     },
     "user_tz": 300
    },
    "id": "92d97826"
   },
   "outputs": [
    {
     "data": {
      "image/png": "[encoded data removed]",
      "text/plain": [
       "<Figure size 640x480 with 1 Axes>"
      ]
     },
     "metadata": {},
     "output_type": "display_data"
    }
   ],
   "source": [
    "plt.hist(n_5, alpha=0.5)\n",
    "plt.title('Distribution of products across clusters')\n",
    "plt.xlabel('Cluster Number')\n",
    "plt.ylabel('count')\n",
    "\n",
    "plt.show()"
   ]
  },
  {
   "cell_type": "code",
   "execution_count": 409,
   "id": "c813bccd",
   "metadata": {},
   "outputs": [
    {
     "data": {
      "text/html": [
       "<div>\n",
       "<style scoped>\n",
       "    .dataframe tbody tr th:only-of-type {\n",
       "        vertical-align: middle;\n",
       "    }\n",
       "\n",
       "    .dataframe tbody tr th {\n",
       "        vertical-align: top;\n",
       "    }\n",
       "\n",
       "    .dataframe thead th {\n",
       "        text-align: right;\n",
       "    }\n",
       "</style>\n",
       "<table border=\"1\" class=\"dataframe\">\n",
       "  <thead>\n",
       "    <tr style=\"text-align: right;\">\n",
       "      <th></th>\n",
       "      <th>clean_desc</th>\n",
       "      <th>cluster</th>\n",
       "    </tr>\n",
       "  </thead>\n",
       "  <tbody>\n",
       "    <tr>\n",
       "      <th>0</th>\n",
       "      <td>popart wooden pencils asst</td>\n",
       "      <td>3</td>\n",
       "    </tr>\n",
       "    <tr>\n",
       "      <th>1</th>\n",
       "      <td>french wc sign blue metal</td>\n",
       "      <td>1</td>\n",
       "    </tr>\n",
       "    <tr>\n",
       "      <th>2</th>\n",
       "      <td>magnets pack vintage labels</td>\n",
       "      <td>3</td>\n",
       "    </tr>\n",
       "    <tr>\n",
       "      <th>3</th>\n",
       "      <td>frying pan pink polkadot</td>\n",
       "      <td>2</td>\n",
       "    </tr>\n",
       "    <tr>\n",
       "      <th>4</th>\n",
       "      <td>antique cream cutlery cupboard</td>\n",
       "      <td>0</td>\n",
       "    </tr>\n",
       "  </tbody>\n",
       "</table>\n",
       "</div>"
      ],
      "text/plain": [
       "                       clean_desc  cluster\n",
       "0      popart wooden pencils asst        3\n",
       "1       french wc sign blue metal        1\n",
       "2     magnets pack vintage labels        3\n",
       "3        frying pan pink polkadot        2\n",
       "4  antique cream cutlery cupboard        0"
      ]
     },
     "execution_count": 409,
     "metadata": {},
     "output_type": "execute_result"
    }
   ],
   "source": [
    "product_cluster = pd.DataFrame({\n",
    "    'clean_desc': unq_desc,\n",
    "    'cluster': n_5\n",
    "})\n",
    "product_cluster.head()"
   ]
  },
  {
   "cell_type": "code",
   "execution_count": 410,
   "id": "608311b0",
   "metadata": {},
   "outputs": [
    {
     "data": {
      "text/plain": [
       "1    961\n",
       "3    953\n",
       "0    810\n",
       "2    593\n",
       "4    463\n",
       "Name: cluster, dtype: int64"
      ]
     },
     "execution_count": 410,
     "metadata": {},
     "output_type": "execute_result"
    }
   ],
   "source": [
    "product_cluster['cluster'].value_counts() "
   ]
  },
  {
   "cell_type": "code",
   "execution_count": 418,
   "id": "a1c27a41",
   "metadata": {},
   "outputs": [
    {
     "data": {
      "text/html": [
       "<div>\n",
       "<style scoped>\n",
       "    .dataframe tbody tr th:only-of-type {\n",
       "        vertical-align: middle;\n",
       "    }\n",
       "\n",
       "    .dataframe tbody tr th {\n",
       "        vertical-align: top;\n",
       "    }\n",
       "\n",
       "    .dataframe thead th {\n",
       "        text-align: right;\n",
       "    }\n",
       "</style>\n",
       "<table border=\"1\" class=\"dataframe\">\n",
       "  <thead>\n",
       "    <tr style=\"text-align: right;\">\n",
       "      <th></th>\n",
       "      <th>InvoiceNo</th>\n",
       "      <th>StockCode</th>\n",
       "      <th>Description</th>\n",
       "      <th>Quantity</th>\n",
       "      <th>InvoiceDate</th>\n",
       "      <th>UnitPrice</th>\n",
       "      <th>CustomerID</th>\n",
       "      <th>Country</th>\n",
       "      <th>clean_desc</th>\n",
       "      <th>cluster</th>\n",
       "    </tr>\n",
       "  </thead>\n",
       "  <tbody>\n",
       "    <tr>\n",
       "      <th>0</th>\n",
       "      <td>536365</td>\n",
       "      <td>85123A</td>\n",
       "      <td>WHITE HANGING HEART T-LIGHT HOLDER</td>\n",
       "      <td>6</td>\n",
       "      <td>2010-12-01 08:26:00</td>\n",
       "      <td>2.55</td>\n",
       "      <td>17850.0</td>\n",
       "      <td>United Kingdom</td>\n",
       "      <td>white hanging heart t light holder</td>\n",
       "      <td>0</td>\n",
       "    </tr>\n",
       "    <tr>\n",
       "      <th>1</th>\n",
       "      <td>536373</td>\n",
       "      <td>85123A</td>\n",
       "      <td>WHITE HANGING HEART T-LIGHT HOLDER</td>\n",
       "      <td>6</td>\n",
       "      <td>2010-12-01 09:02:00</td>\n",
       "      <td>2.55</td>\n",
       "      <td>17850.0</td>\n",
       "      <td>United Kingdom</td>\n",
       "      <td>white hanging heart t light holder</td>\n",
       "      <td>0</td>\n",
       "    </tr>\n",
       "    <tr>\n",
       "      <th>2</th>\n",
       "      <td>536375</td>\n",
       "      <td>85123A</td>\n",
       "      <td>WHITE HANGING HEART T-LIGHT HOLDER</td>\n",
       "      <td>6</td>\n",
       "      <td>2010-12-01 09:32:00</td>\n",
       "      <td>2.55</td>\n",
       "      <td>17850.0</td>\n",
       "      <td>United Kingdom</td>\n",
       "      <td>white hanging heart t light holder</td>\n",
       "      <td>0</td>\n",
       "    </tr>\n",
       "    <tr>\n",
       "      <th>3</th>\n",
       "      <td>536390</td>\n",
       "      <td>85123A</td>\n",
       "      <td>WHITE HANGING HEART T-LIGHT HOLDER</td>\n",
       "      <td>64</td>\n",
       "      <td>2010-12-01 10:19:00</td>\n",
       "      <td>2.55</td>\n",
       "      <td>17511.0</td>\n",
       "      <td>United Kingdom</td>\n",
       "      <td>white hanging heart t light holder</td>\n",
       "      <td>0</td>\n",
       "    </tr>\n",
       "    <tr>\n",
       "      <th>4</th>\n",
       "      <td>536394</td>\n",
       "      <td>85123A</td>\n",
       "      <td>WHITE HANGING HEART T-LIGHT HOLDER</td>\n",
       "      <td>32</td>\n",
       "      <td>2010-12-01 10:39:00</td>\n",
       "      <td>2.55</td>\n",
       "      <td>13408.0</td>\n",
       "      <td>United Kingdom</td>\n",
       "      <td>white hanging heart t light holder</td>\n",
       "      <td>0</td>\n",
       "    </tr>\n",
       "  </tbody>\n",
       "</table>\n",
       "</div>"
      ],
      "text/plain": [
       "  InvoiceNo StockCode                         Description Quantity  \\\n",
       "0    536365    85123A  WHITE HANGING HEART T-LIGHT HOLDER        6   \n",
       "1    536373    85123A  WHITE HANGING HEART T-LIGHT HOLDER        6   \n",
       "2    536375    85123A  WHITE HANGING HEART T-LIGHT HOLDER        6   \n",
       "3    536390    85123A  WHITE HANGING HEART T-LIGHT HOLDER       64   \n",
       "4    536394    85123A  WHITE HANGING HEART T-LIGHT HOLDER       32   \n",
       "\n",
       "          InvoiceDate UnitPrice CustomerID         Country  \\\n",
       "0 2010-12-01 08:26:00      2.55    17850.0  United Kingdom   \n",
       "1 2010-12-01 09:02:00      2.55    17850.0  United Kingdom   \n",
       "2 2010-12-01 09:32:00      2.55    17850.0  United Kingdom   \n",
       "3 2010-12-01 10:19:00      2.55    17511.0  United Kingdom   \n",
       "4 2010-12-01 10:39:00      2.55    13408.0  United Kingdom   \n",
       "\n",
       "                           clean_desc  cluster  \n",
       "0  white hanging heart t light holder        0  \n",
       "1  white hanging heart t light holder        0  \n",
       "2  white hanging heart t light holder        0  \n",
       "3  white hanging heart t light holder        0  \n",
       "4  white hanging heart t light holder        0  "
      ]
     },
     "execution_count": 418,
     "metadata": {},
     "output_type": "execute_result"
    }
   ],
   "source": [
    "fin_invoice_df = fin_invoice_df.merge(product_cluster, on=['clean_desc'])\n",
    "fin_invoice_df.head()"
   ]
  },
  {
   "cell_type": "code",
   "execution_count": 419,
   "id": "b5c20325",
   "metadata": {},
   "outputs": [
    {
     "data": {
      "text/plain": [
       "1    111572\n",
       "0     90880\n",
       "3     90042\n",
       "2     56528\n",
       "4     40939\n",
       "Name: cluster, dtype: int64"
      ]
     },
     "execution_count": 419,
     "metadata": {},
     "output_type": "execute_result"
    }
   ],
   "source": [
    "fin_invoice_df['cluster'].value_counts()"
   ]
  },
  {
   "cell_type": "code",
   "execution_count": 420,
   "id": "b576ce3b",
   "metadata": {},
   "outputs": [
    {
     "data": {
      "image/png": "[encoded data removed]",
      "text/plain": [
       "<Figure size 640x480 with 1 Axes>"
      ]
     },
     "metadata": {},
     "output_type": "display_data"
    }
   ],
   "source": [
    "plt.hist(fin_invoice_df['cluster'], alpha=0.5)\n",
    "plt.title('Distribution of products across clusters')\n",
    "plt.xlabel('Cluster Number')\n",
    "plt.ylabel('count')\n",
    "\n",
    "plt.show()"
   ]
  },
  {
   "cell_type": "markdown",
   "id": "67662355-a02d-4ee4-8aec-c67c525b8c29",
   "metadata": {
    "id": "67662355-a02d-4ee4-8aec-c67c525b8c29"
   },
   "source": [
    "## PCA"
   ]
  },
  {
   "cell_type": "markdown",
   "id": "7953baff-acad-4475-9269-a1a7f4a278d9",
   "metadata": {
    "id": "7953baff-acad-4475-9269-a1a7f4a278d9"
   },
   "source": [
    "# Customer Categories"
   ]
  },
  {
   "cell_type": "markdown",
   "id": "d6482fa1-64eb-4aec-94a2-5ff6e5ab5c55",
   "metadata": {
    "id": "d6482fa1-64eb-4aec-94a2-5ff6e5ab5c55"
   },
   "source": [
    "# Classification on Customers"
   ]
  },
  {
   "cell_type": "code",
   "execution_count": null,
   "id": "f1acb1a1-4437-4456-ac4f-b1c74eca5b85",
   "metadata": {
    "ExecuteTime": {
     "end_time": "2023-11-25T19:17:43.150827Z",
     "start_time": "2023-11-25T19:17:43.110970Z"
    },
    "executionInfo": {
     "elapsed": 4,
     "status": "aborted",
     "timestamp": 1700947882583,
     "user": {
      "displayName": "Shubham Jadhav",
      "userId": "12711481419768883733"
     },
     "user_tz": 300
    },
    "id": "f1acb1a1-4437-4456-ac4f-b1c74eca5b85"
   },
   "outputs": [],
   "source": []
  }
 ],
 "metadata": {
  "accelerator": "GPU",
  "colab": {
   "gpuType": "T4",
   "provenance": []
  },
  "kernelspec": {
   "display_name": "Python 3 (ipykernel)",
   "language": "python",
   "name": "python3"
  },
  "language_info": {
   "codemirror_mode": {
    "name": "ipython",
    "version": 3
   },
   "file_extension": ".py",
   "mimetype": "text/x-python",
   "name": "python",
   "nbconvert_exporter": "python",
   "pygments_lexer": "ipython3",
   "version": "3.9.13"
  }
 },
 "nbformat": 4,
 "nbformat_minor": 5
}

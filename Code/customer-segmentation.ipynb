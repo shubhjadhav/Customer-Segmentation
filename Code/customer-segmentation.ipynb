{
 "cells": [
  {
   "cell_type": "code",
   "execution_count": 1,
   "id": "initial_id",
   "metadata": {
    "ExecuteTime": {
     "end_time": "2023-11-18T03:45:56.570224Z",
     "start_time": "2023-11-18T03:45:30.360198Z"
    },
    "collapsed": true
   },
   "outputs": [],
   "source": [
    "import helperfunction as hf\n",
    "import matplotlib.pyplot as plt"
   ]
  },
  {
   "cell_type": "code",
   "execution_count": 3,
   "id": "445777ed9d891b",
   "metadata": {},
   "outputs": [
    {
     "data": {
      "text/html": [
       "<div>\n",
       "<style scoped>\n",
       "    .dataframe tbody tr th:only-of-type {\n",
       "        vertical-align: middle;\n",
       "    }\n",
       "\n",
       "    .dataframe tbody tr th {\n",
       "        vertical-align: top;\n",
       "    }\n",
       "\n",
       "    .dataframe thead th {\n",
       "        text-align: right;\n",
       "    }\n",
       "</style>\n",
       "<table border=\"1\" class=\"dataframe\">\n",
       "  <thead>\n",
       "    <tr style=\"text-align: right;\">\n",
       "      <th></th>\n",
       "      <th>InvoiceNo</th>\n",
       "      <th>StockCode</th>\n",
       "      <th>Description</th>\n",
       "      <th>Quantity</th>\n",
       "      <th>InvoiceDate</th>\n",
       "      <th>UnitPrice</th>\n",
       "      <th>CustomerID</th>\n",
       "      <th>Country</th>\n",
       "    </tr>\n",
       "  </thead>\n",
       "  <tbody>\n",
       "    <tr>\n",
       "      <th>0</th>\n",
       "      <td>536365</td>\n",
       "      <td>85123A</td>\n",
       "      <td>WHITE HANGING HEART T-LIGHT HOLDER</td>\n",
       "      <td>6</td>\n",
       "      <td>2010-12-01 08:26:00</td>\n",
       "      <td>2.55</td>\n",
       "      <td>17850.0</td>\n",
       "      <td>United Kingdom</td>\n",
       "    </tr>\n",
       "    <tr>\n",
       "      <th>1</th>\n",
       "      <td>536365</td>\n",
       "      <td>71053</td>\n",
       "      <td>WHITE METAL LANTERN</td>\n",
       "      <td>6</td>\n",
       "      <td>2010-12-01 08:26:00</td>\n",
       "      <td>3.39</td>\n",
       "      <td>17850.0</td>\n",
       "      <td>United Kingdom</td>\n",
       "    </tr>\n",
       "    <tr>\n",
       "      <th>2</th>\n",
       "      <td>536365</td>\n",
       "      <td>84406B</td>\n",
       "      <td>CREAM CUPID HEARTS COAT HANGER</td>\n",
       "      <td>8</td>\n",
       "      <td>2010-12-01 08:26:00</td>\n",
       "      <td>2.75</td>\n",
       "      <td>17850.0</td>\n",
       "      <td>United Kingdom</td>\n",
       "    </tr>\n",
       "    <tr>\n",
       "      <th>3</th>\n",
       "      <td>536365</td>\n",
       "      <td>84029G</td>\n",
       "      <td>KNITTED UNION FLAG HOT WATER BOTTLE</td>\n",
       "      <td>6</td>\n",
       "      <td>2010-12-01 08:26:00</td>\n",
       "      <td>3.39</td>\n",
       "      <td>17850.0</td>\n",
       "      <td>United Kingdom</td>\n",
       "    </tr>\n",
       "    <tr>\n",
       "      <th>4</th>\n",
       "      <td>536365</td>\n",
       "      <td>84029E</td>\n",
       "      <td>RED WOOLLY HOTTIE WHITE HEART.</td>\n",
       "      <td>6</td>\n",
       "      <td>2010-12-01 08:26:00</td>\n",
       "      <td>3.39</td>\n",
       "      <td>17850.0</td>\n",
       "      <td>United Kingdom</td>\n",
       "    </tr>\n",
       "  </tbody>\n",
       "</table>\n",
       "</div>"
      ],
      "text/plain": [
       "  InvoiceNo StockCode                          Description  Quantity  \\\n",
       "0    536365    85123A   WHITE HANGING HEART T-LIGHT HOLDER         6   \n",
       "1    536365     71053                  WHITE METAL LANTERN         6   \n",
       "2    536365    84406B       CREAM CUPID HEARTS COAT HANGER         8   \n",
       "3    536365    84029G  KNITTED UNION FLAG HOT WATER BOTTLE         6   \n",
       "4    536365    84029E       RED WOOLLY HOTTIE WHITE HEART.         6   \n",
       "\n",
       "          InvoiceDate  UnitPrice  CustomerID         Country  \n",
       "0 2010-12-01 08:26:00       2.55     17850.0  United Kingdom  \n",
       "1 2010-12-01 08:26:00       3.39     17850.0  United Kingdom  \n",
       "2 2010-12-01 08:26:00       2.75     17850.0  United Kingdom  \n",
       "3 2010-12-01 08:26:00       3.39     17850.0  United Kingdom  \n",
       "4 2010-12-01 08:26:00       3.39     17850.0  United Kingdom  "
      ]
     },
     "execution_count": 3,
     "metadata": {},
     "output_type": "execute_result"
    }
   ],
   "source": [
    "invoice_df = hf.create_df('invoice_data')\n",
    "invoice_df.head()"
   ]
  },
  {
   "cell_type": "code",
   "execution_count": 5,
   "id": "179c756b",
   "metadata": {},
   "outputs": [
    {
     "name": "stdout",
     "output_type": "stream",
     "text": [
      "\n",
      "Total observations (records): 541909\n",
      "\n",
      "Number of Invoices: 25900\n",
      "\n",
      "Number of Customers: 4372\n",
      "\n",
      "Number of Countries: 38\n",
      "\n",
      "Minimum Date: 2010-12-01 08:26:00 - Maximum Date: 2011-12-09 12:50:00\n"
     ]
    }
   ],
   "source": [
    "print(f\"\\nTotal observations (records): {invoice_df.shape[0]}\")\n",
    "print(f\"\\nNumber of Invoices: {invoice_df['InvoiceNo'].nunique()}\")\n",
    "print(f\"\\nNumber of Customers: {invoice_df['CustomerID'].nunique()}\")\n",
    "print(f\"\\nNumber of Countries: {invoice_df['Country'].nunique()}\")\n",
    "print(f\"\\nMinimum Date: {invoice_df['InvoiceDate'].min()} - Maximum Date: {invoice_df['InvoiceDate'].max()}\")"
   ]
  },
  {
   "cell_type": "code",
   "execution_count": 6,
   "id": "f2792798",
   "metadata": {},
   "outputs": [
    {
     "name": "stdout",
     "output_type": "stream",
     "text": [
      "\n",
      "Min Basket Price: -168469.6\n",
      "Max Basket Price: 168469.6\n"
     ]
    }
   ],
   "source": [
    "invoice_df['price'] = invoice_df['Quantity']*invoice_df['UnitPrice']\n",
    "a = invoice_df[['InvoiceNo','price']].groupby(['InvoiceNo']).sum().reset_index()\n",
    "print(f\"\\nMin Basket Price: {a.price.min()}\")\n",
    "print(f\"Max Basket Price: {a.price.max()}\")"
   ]
  },
  {
   "cell_type": "code",
   "execution_count": 7,
   "id": "d4e8981b",
   "metadata": {},
   "outputs": [
    {
     "name": "stdout",
     "output_type": "stream",
     "text": [
      "      CustomerID      price\n",
      "1703     14646.0  279489.02\n",
      "4233     18102.0  256438.49\n",
      "3758     17450.0  187482.17\n",
      "1895     14911.0  132572.62\n",
      "55       12415.0  123725.45\n",
      "\n",
      "Min Purchase by customer: -4287.63\n",
      "Max Purchase customer: 279489.02\n"
     ]
    }
   ],
   "source": [
    "a = invoice_df[['CustomerID','price']].groupby(['CustomerID']).sum().reset_index()\n",
    "print(a.sort_values(by='price', ascending=0).head())\n",
    "print(f\"\\nMin Purchase by customer: {a.price.min()}\")\n",
    "print(f\"Max Purchase customer: {a.price.max()}\")"
   ]
  },
  {
   "cell_type": "code",
   "execution_count": 8,
   "id": "6efbac4e",
   "metadata": {},
   "outputs": [
    {
     "name": "stdout",
     "output_type": "stream",
     "text": [
      "\n",
      "Avg customer span: 133 days 17:25:29.204025618\n"
     ]
    }
   ],
   "source": [
    "result = invoice_df.groupby('CustomerID')['InvoiceDate'].agg(['first', 'last'])\n",
    "result['Date_Difference'] = result['last'] - result['first']\n",
    "print(f\"\\nAvg customer span: {result['Date_Difference'].mean()}\")"
   ]
  },
  {
   "cell_type": "code",
   "execution_count": null,
   "id": "e9423424",
   "metadata": {},
   "outputs": [],
   "source": [
    "a = invoice_df[['InvoiceNo','Quantity']].groupby(['InvoiceNo']).sum().reset_index()\n",
    "print(f\"\\nMin Quantity by InvoiceNo: {a.Quantity.min()}\")\n",
    "print(f\"Max Quantity by InvoiceNo: {a.Quantity.max()}\")"
   ]
  }
 ],
 "metadata": {
  "kernelspec": {
   "display_name": "Python 3 (ipykernel)",
   "language": "python",
   "name": "python3"
  },
  "language_info": {
   "codemirror_mode": {
    "name": "ipython",
    "version": 3
   },
   "file_extension": ".py",
   "mimetype": "text/x-python",
   "name": "python",
   "nbconvert_exporter": "python",
   "pygments_lexer": "ipython3",
   "version": "3.9.13"
  }
 },
 "nbformat": 4,
 "nbformat_minor": 5
}
